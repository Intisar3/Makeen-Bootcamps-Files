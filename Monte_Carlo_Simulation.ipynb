{
  "nbformat": 4,
  "nbformat_minor": 0,
  "metadata": {
    "colab": {
      "provenance": []
    },
    "kernelspec": {
      "name": "python3",
      "display_name": "Python 3"
    },
    "language_info": {
      "name": "python"
    }
  },
  "cells": [
    {
      "cell_type": "code",
      "execution_count": null,
      "metadata": {
        "colab": {
          "base_uri": "https://localhost:8080/"
        },
        "id": "Y7J1VMRLuq0e",
        "outputId": "82f2bae7-ab6a-4ea2-c047-f19f764ef66b"
      },
      "outputs": [
        {
          "output_type": "stream",
          "name": "stdout",
          "text": [
            "Number of heads: 50038\n",
            "Number of tails: 49962\n",
            "Probability of heads: 0.50\n",
            "Probability of tails: 0.50\n"
          ]
        }
      ],
      "source": [
        "import random\n",
        "\n",
        "# Number of coin flips\n",
        "trials = 100000\n",
        "\n",
        "# Counters for heads and tails\n",
        "heads = 0\n",
        "tails = 0\n",
        "\n",
        "# Simulate the coin flips\n",
        "for _ in range(trials):\n",
        "    flip = random.choice([\"heads\", \"tails\"])\n",
        "    if flip == \"heads\":\n",
        "        heads += 1\n",
        "    else:\n",
        "        tails += 1\n",
        "\n",
        "# Print the results\n",
        "print(f\"Number of heads: {heads}\")\n",
        "print(f\"Number of tails: {tails}\")\n",
        "print(f\"Probability of heads: {heads / trials:.2f}\")\n",
        "print(f\"Probability of tails: {tails / trials:.2f}\")\n"
      ]
    }
  ]
}