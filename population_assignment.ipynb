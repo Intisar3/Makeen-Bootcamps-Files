{
  "nbformat": 4,
  "nbformat_minor": 0,
  "metadata": {
    "colab": {
      "provenance": []
    },
    "kernelspec": {
      "name": "python3",
      "display_name": "Python 3"
    },
    "language_info": {
      "name": "python"
    }
  },
  "cells": [
    {
      "cell_type": "code",
      "execution_count": null,
      "metadata": {
        "colab": {
          "base_uri": "https://localhost:8080/",
          "height": 592
        },
        "id": "PtpcnlI2YJgO",
        "outputId": "84df2678-258c-458f-ec66-323b1d68b8d1"
      },
      "outputs": [
        {
          "output_type": "stream",
          "name": "stdout",
          "text": [
            "USA, 331002651\n",
            "\n",
            "India, 1380004385\n",
            "\n",
            "China, 1439323776\n",
            "\n",
            "Brazil, 212559417\n",
            "\n",
            "Nigeria, 206139589\n",
            "\n",
            "Germany, 83783942\n",
            "\n",
            "Russia, 145934462\n",
            "\n",
            "Japan, 126476461\n",
            "\n",
            "Mexico, 128933395\n",
            "\n",
            "Indonesia, 273523615\n",
            "\n",
            "\n",
            "Total number of countries: 0\n"
          ]
        },
        {
          "output_type": "error",
          "ename": "ValueError",
          "evalue": "max() arg is an empty sequence",
          "traceback": [
            "\u001b[0;31m---------------------------------------------------------------------------\u001b[0m",
            "\u001b[0;31mValueError\u001b[0m                                Traceback (most recent call last)",
            "\u001b[0;32m<ipython-input-53-988625217b8b>\u001b[0m in \u001b[0;36m<cell line: 0>\u001b[0;34m()\u001b[0m\n\u001b[1;32m     26\u001b[0m \u001b[0;34m\u001b[0m\u001b[0m\n\u001b[1;32m     27\u001b[0m \u001b[0;34m\u001b[0m\u001b[0m\n\u001b[0;32m---> 28\u001b[0;31m \u001b[0mhighest_population_country\u001b[0m \u001b[0;34m=\u001b[0m \u001b[0mmax\u001b[0m\u001b[0;34m(\u001b[0m\u001b[0mcountries_population\u001b[0m\u001b[0;34m)\u001b[0m\u001b[0;34m\u001b[0m\u001b[0;34m\u001b[0m\u001b[0m\n\u001b[0m\u001b[1;32m     29\u001b[0m \u001b[0mprint\u001b[0m\u001b[0;34m(\u001b[0m\u001b[0;34mf\"Country with highest population: {highest_population_country[0]} ({highest_population_country[1]})\"\u001b[0m\u001b[0;34m)\u001b[0m\u001b[0;34m\u001b[0m\u001b[0;34m\u001b[0m\u001b[0m\n\u001b[1;32m     30\u001b[0m \u001b[0;34m\u001b[0m\u001b[0m\n",
            "\u001b[0;31mValueError\u001b[0m: max() arg is an empty sequence"
          ]
        }
      ],
      "source": [
        "\n",
        "infile = open(\"/content/countries_population.txt\", \"r\")\n",
        "line = infile.readline()\n",
        "countries_population = []\n",
        "\n",
        "while line != \"\" :\n",
        "  line = infile.readline()\n",
        "  print(line)\n",
        "\n",
        "\n",
        "\n",
        "\n",
        "for line in infile:\n",
        "\n",
        "    line = line.strip()\n",
        "    line = line.strip().split(',')\n",
        "    country = line[0].strip()\n",
        "    population = int(line[1].strip())\n",
        "    countries_population.append((country, population))\n",
        "    line = infile.readline()\n",
        "\n",
        "infile.close()\n",
        "\n",
        "#Total number of countries\n",
        "total_countries = len(countries_population)\n",
        "print(f\"Total number of countries: {total_countries}\")\n",
        "\n",
        "\n",
        "highest_population_country = max(countries_population)\n",
        "print(f\"Country with highest population: {highest_population_country[0]} ({highest_population_country[1]})\")\n",
        "\n",
        "#The country with the lowest population\n",
        "lowest_population_country = min(countries_population)\n",
        "print(f\"Country with lowest population: {lowest_population_country[0]} ({lowest_population_country[1]})\")\n",
        "\n",
        "#The average population\n",
        "total_population = sum(population for _, population in countries_population)\n",
        "average_population = total_population / total_countries\n",
        "print(f\"Average population: {average_population:.2f}\")\n",
        "\n",
        "#Sort all countries by their population in descending order and display the top 5 countries.\n",
        "sorted_countries = sorted(countries_population, key=lambda x: x[1], reverse=True)\n",
        "\n",
        "# Display top 5 countries\n",
        "print(\"\\nTop 5 countries by population:\")\n",
        "for country, population in sorted_countries[:5]:\n",
        "    print(f\"{country}: {population}\")\n",
        "\n",
        "# Filter countries with population > 500 million\n",
        "high_population_countries = [country for country, population in countries_population if population > 500_000_000]\n",
        "\n",
        "# Write to a new file\n",
        "outfile = open('high_population_countries.txt', 'w')\n",
        "for country, population in countries_population:\n",
        "    if population > 500000000:\n",
        "        outfile.write(country + \"\\n\")\n",
        "outfile.close()\n",
        "print()\n",
        "print(\"\\nhigh_population_countries.txt is created\")\n",
        "\n",
        "\n"
      ]
    }
  ]
}