{
  "nbformat": 4,
  "nbformat_minor": 0,
  "metadata": {
    "colab": {
      "provenance": []
    },
    "kernelspec": {
      "name": "python3",
      "display_name": "Python 3"
    },
    "language_info": {
      "name": "python"
    }
  },
  "cells": [
    {
      "cell_type": "code",
      "execution_count": null,
      "metadata": {
        "colab": {
          "base_uri": "https://localhost:8080/"
        },
        "id": "VXzMfOcPpc-h",
        "outputId": "7d56c450-8253-46f9-a29e-310c8ddcdb70"
      },
      "outputs": [
        {
          "output_type": "stream",
          "name": "stdout",
          "text": [
            "Enter your name: Dina\n",
            "Enter your age: 23\n",
            "Enter your height in meters: 157\n",
            "Hello, my name is  Dina I am  23 years old and my height is  157.0 meters.\n"
          ]
        }
      ],
      "source": [
        "#Problem 1: Hello, Variables!\n",
        "\n",
        "name = input(\"Enter your name: \")\n",
        "age = int(input(\"Enter your age: \"))\n",
        "height = float(input(\"Enter your height in meters: \"))\n",
        "\n",
        "print(\"Hello, my name is \", name, \"I am \", age, \"years old and my height is \", height, \"meters.\")"
      ]
    },
    {
      "cell_type": "code",
      "source": [
        "#Problem 2: Basic Arithmetic\n",
        "\n",
        "num1 = int(input(\"Enter first number: \"))\n",
        "num2 = int(input(\"Enter second number: \"))\n",
        "\n",
        "Addition = num1 + num2\n",
        "Subtraction = num1 - num2\n",
        "Multiplication = num1 * num2\n",
        "Division = num1 / num2\n",
        "\n",
        "print(\"Addition: \", Addition)\n",
        "print(\"Subtraction: \", Subtraction)\n",
        "print(\"Multiplication: \", Multiplication)\n",
        "print(\"Division: \", Division)"
      ],
      "metadata": {
        "colab": {
          "base_uri": "https://localhost:8080/"
        },
        "id": "Lb8p0zmRsQgG",
        "outputId": "b38feb2b-1fce-45ef-9a8a-6c5efd52fd01"
      },
      "execution_count": null,
      "outputs": [
        {
          "output_type": "stream",
          "name": "stdout",
          "text": [
            "Enter first number: 10\n",
            "Enter second number: 5\n",
            "Addition:  15\n",
            "Subtraction:  5\n",
            "Multiplication:  50\n",
            "Division:  2.0\n"
          ]
        }
      ]
    },
    {
      "cell_type": "code",
      "source": [
        "#Problem 3: Data Type Check\n",
        "\n",
        "a = 8\n",
        "b = 4.8\n",
        "c = \"Hello\"\n",
        "print(\"The type of variable a is \", type(a))\n",
        "print(\"The type of variable b is \", type(b))\n",
        "print(\"The type of variable c is \", type(c))"
      ],
      "metadata": {
        "colab": {
          "base_uri": "https://localhost:8080/"
        },
        "id": "scng9oB0s9PR",
        "outputId": "2117c6aa-c98f-4820-d0c9-2adacb12d19f"
      },
      "execution_count": null,
      "outputs": [
        {
          "output_type": "stream",
          "name": "stdout",
          "text": [
            "The type of variable a is  <class 'int'>\n",
            "The type of variable b is  <class 'float'>\n",
            "The type of variable c is  <class 'str'>\n"
          ]
        }
      ]
    },
    {
      "cell_type": "code",
      "source": [
        "#Problem 4: Area of a Rectangle\n",
        "\n",
        "Length = 10\n",
        "Width = 5\n",
        "\n",
        "area = Length * Width\n",
        "print(\"Length: \", Length)\n",
        "print(\"Width: \", Width)\n",
        "print(\"The area of the rectangle is \", area)"
      ],
      "metadata": {
        "colab": {
          "base_uri": "https://localhost:8080/"
        },
        "id": "Hr3i-GlTuw4g",
        "outputId": "e08d3509-12fa-4d25-ea41-fa86db738dc2"
      },
      "execution_count": null,
      "outputs": [
        {
          "output_type": "stream",
          "name": "stdout",
          "text": [
            "Length:  10\n",
            "Width:  5\n",
            "The area of the rectangle is  50\n"
          ]
        }
      ]
    },
    {
      "cell_type": "code",
      "source": [
        "#Problem 5: Simple Interest Calculation\n",
        "\n",
        "P = int(input(\"Enter Principal amount: \"))\n",
        "R = int(input(\"Enter Rate of Interest: \"))\n",
        "T = int(input(\"Enter Time (in years): \"))\n",
        "\n",
        "simpleInterest = (P * R * T) / 100\n",
        "\n",
        "print(\"The Simple Interest is \", simpleInterest)"
      ],
      "metadata": {
        "colab": {
          "base_uri": "https://localhost:8080/"
        },
        "id": "jNmXkrJ8vruJ",
        "outputId": "eeccf063-c8ff-440f-b0e7-3148206e7f00"
      },
      "execution_count": null,
      "outputs": [
        {
          "output_type": "stream",
          "name": "stdout",
          "text": [
            "Enter Principal amount: 1000\n",
            "Enter Rate of Interest: 5\n",
            "Enter Time (in years): 2\n",
            "The Simple Interest is  100.0\n"
          ]
        }
      ]
    }
  ]
}