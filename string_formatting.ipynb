{
 "cells": [
  {
   "cell_type": "code",
   "execution_count": 2,
   "id": "0789811b-d5ec-4340-8f58-fe615a5a8abf",
   "metadata": {},
   "outputs": [
    {
     "name": "stdout",
     "output_type": "stream",
     "text": [
      "1. Percent formatting:\n",
      "Weather in Muscat: Temp = 34.8°C, Humidity = 45%, Wind Speed = 22.5 km/h\n",
      "\n",
      "2. str.format() method:\n",
      "Weather in Muscat: Temp = 34.8°C, Humidity = 45%, Wind Speed = 22.5 km/h\n",
      "\n",
      "3. f-strings:\n",
      "Weather in Muscat: Temp = 34.8°C, Humidity = 45%, Wind Speed = 22.5 km/h\n",
      "\n",
      "4. Template strings:\n",
      "Weather in Muscat: Temp = 34.8°C, Humidity = 45%, Wind Speed = 22.5 km/h\n"
     ]
    }
   ],
   "source": [
    "from string import Template\n",
    "\n",
    "city = \"Muscat\"\n",
    "temperature_c = 34.789\n",
    "humidity_percent = 45\n",
    "wind_speed_kmh = 22.456\n",
    "\n",
    "# 1. Percent (%) formatting (old style)\n",
    "print(\"1. Percent formatting:\")\n",
    "print(\"Weather in %s: Temp = %.1f°C, Humidity = %d%%, Wind Speed = %.1f km/h\" % \n",
    "      (city, temperature_c, humidity_percent, wind_speed_kmh))\n",
    "\n",
    "# 2. str.format() method\n",
    "print(\"\\n2. str.format() method:\")\n",
    "print(\"Weather in {0}: Temp = {1:.1f}°C, Humidity = {2}%, Wind Speed = {3:.1f} km/h\".format(\n",
    "    city, temperature_c, humidity_percent, wind_speed_kmh))\n",
    "\n",
    "# 3. f-strings (Python 3.6+)\n",
    "print(\"\\n3. f-strings:\")\n",
    "print(f\"Weather in {city}: Temp = {temperature_c:.1f}°C, Humidity = {humidity_percent}%, Wind Speed = {wind_speed_kmh:.1f} km/h\")\n",
    "\n",
    "# 4. Template strings\n",
    "template = Template(\"Weather in $city: Temp = $temp°C, Humidity = $humidity%, Wind Speed = $wind km/h\")\n",
    "print(\"\\n4. Template strings:\")\n",
    "print(template.substitute(city=city, temp=f\"{temperature_c:.1f}\", humidity=humidity_percent, wind=f\"{wind_speed_kmh:.1f}\"))\n"
   ]
  }
 ],
 "metadata": {
  "kernelspec": {
   "display_name": "Python [conda env:base] *",
   "language": "python",
   "name": "conda-base-py"
  },
  "language_info": {
   "codemirror_mode": {
    "name": "ipython",
    "version": 3
   },
   "file_extension": ".py",
   "mimetype": "text/x-python",
   "name": "python",
   "nbconvert_exporter": "python",
   "pygments_lexer": "ipython3",
   "version": "3.12.7"
  }
 },
 "nbformat": 4,
 "nbformat_minor": 5
}
