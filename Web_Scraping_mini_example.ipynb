{
  "nbformat": 4,
  "nbformat_minor": 0,
  "metadata": {
    "colab": {
      "provenance": []
    },
    "kernelspec": {
      "name": "python3",
      "display_name": "Python 3"
    },
    "language_info": {
      "name": "python"
    }
  },
  "cells": [
    {
      "cell_type": "code",
      "execution_count": 2,
      "metadata": {
        "colab": {
          "base_uri": "https://localhost:8080/"
        },
        "id": "gMyHYtUmVsfY",
        "outputId": "5477c22f-8a04-49b1-9444-115ab69dc3cc"
      },
      "outputs": [
        {
          "output_type": "stream",
          "name": "stdout",
          "text": [
            "“The world as we have created it is a process of our thinking. It cannot be changed without changing our thinking.” — Albert Einstein\n",
            "“It is our choices, Harry, that show what we truly are, far more than our abilities.” — J.K. Rowling\n",
            "“There are only two ways to live your life. One is as though nothing is a miracle. The other is as though everything is a miracle.” — Albert Einstein\n",
            "“The person, be it gentleman or lady, who has not pleasure in a good novel, must be intolerably stupid.” — Jane Austen\n",
            "“Imperfection is beauty, madness is genius and it's better to be absolutely ridiculous than absolutely boring.” — Marilyn Monroe\n",
            "“Try not to become a man of success. Rather become a man of value.” — Albert Einstein\n",
            "“It is better to be hated for what you are than to be loved for what you are not.” — André Gide\n",
            "“I have not failed. I've just found 10,000 ways that won't work.” — Thomas A. Edison\n",
            "“A woman is like a tea bag; you never know how strong it is until it's in hot water.” — Eleanor Roosevelt\n",
            "“A day without sunshine is like, you know, night.” — Steve Martin\n"
          ]
        }
      ],
      "source": [
        "import requests\n",
        "from bs4 import BeautifulSoup\n",
        "\n",
        "url = 'https://quotes.toscrape.com/'\n",
        "response = requests.get(url)\n",
        "\n",
        "soup = BeautifulSoup(response.text, 'html.parser')\n",
        "\n",
        "quotes = soup.find_all('span', class_='text')\n",
        "authors = soup.find_all('small', class_='author')\n",
        "\n",
        "for quote, author in zip(quotes, authors):\n",
        "    print(f'{quote.text} — {author.text}')\n"
      ]
    }
  ]
}