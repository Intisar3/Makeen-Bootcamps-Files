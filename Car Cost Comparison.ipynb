{
 "cells": [
  {
   "cell_type": "code",
   "execution_count": 1,
   "id": "73dffc7f-8526-4d84-9aa6-5e7dbf593a7c",
   "metadata": {},
   "outputs": [
    {
     "name": "stdout",
     "output_type": "stream",
     "text": [
      "Choose Car 1: Total Cost = 40000.0\n"
     ]
    }
   ],
   "source": [
    "\"\"\"\n",
    "Determine which of two cars is more economical over 10 years.\n",
    "-----------------------------------------------------------------\n",
    "Pseudocode:\n",
    "plaintext\n",
    "Copy\n",
    "Edit\n",
    "For each car:\n",
    "    annual fuel consumed = annual miles / fuel efficiency\n",
    "    annual fuel cost = fuel consumed * price per gallon\n",
    "    operating cost = annual fuel cost * years\n",
    "    total cost = purchase price + operating cost\n",
    "\n",
    "Compare:\n",
    "    if totalCost1 < totalCost2:\n",
    "        choose car 1\n",
    "    else:\n",
    "        choose car 2\n",
    "\"\"\"\n",
    "\n",
    "# Car Cost Comparison\n",
    "\n",
    "def total_cost(purchase_price, fuel_efficiency, years=10, annual_miles=15000, price_per_gallon=4):\n",
    "    annual_fuel = annual_miles / fuel_efficiency\n",
    "    annual_cost = annual_fuel * price_per_gallon\n",
    "    operating_cost = annual_cost * years\n",
    "    return purchase_price + operating_cost\n",
    "\n",
    "# Inputs\n",
    "car1_cost = total_cost(20000, 30)\n",
    "car2_cost = total_cost(18000, 20)\n",
    "\n",
    "# Decision\n",
    "if car1_cost < car2_cost:\n",
    "    print(\"Choose Car 1: Total Cost =\", car1_cost)\n",
    "else:\n",
    "    print(\"Choose Car 2: Total Cost =\", car2_cost)\n",
    "\n",
    "\n",
    "\n"
   ]
  }
 ],
 "metadata": {
  "kernelspec": {
   "display_name": "Python [conda env:base] *",
   "language": "python",
   "name": "conda-base-py"
  },
  "language_info": {
   "codemirror_mode": {
    "name": "ipython",
    "version": 3
   },
   "file_extension": ".py",
   "mimetype": "text/x-python",
   "name": "python",
   "nbconvert_exporter": "python",
   "pygments_lexer": "ipython3",
   "version": "3.12.7"
  }
 },
 "nbformat": 4,
 "nbformat_minor": 5
}
