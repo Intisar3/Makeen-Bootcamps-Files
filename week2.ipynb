{
  "nbformat": 4,
  "nbformat_minor": 0,
  "metadata": {
    "colab": {
      "provenance": []
    },
    "kernelspec": {
      "name": "python3",
      "display_name": "Python 3"
    },
    "language_info": {
      "name": "python"
    }
  },
  "cells": [
    {
      "cell_type": "code",
      "execution_count": null,
      "metadata": {
        "colab": {
          "base_uri": "https://localhost:8080/"
        },
        "id": "FHNSjMCliMwf",
        "outputId": "2bab5683-c87b-4025-cdc5-92e90e6f5bb8"
      },
      "outputs": [
        {
          "output_type": "stream",
          "name": "stdout",
          "text": [
            "What is the temperature? 50\n",
            "Liquid\n"
          ]
        }
      ],
      "source": [
        "temp = float(input(\"What is the temperature? \"))\n",
        "if temp <= 0 or temp >= 100:\n",
        "  print(\"Not liquid\")\n",
        "else:\n",
        "  print(\"Liquid\")"
      ]
    },
    {
      "cell_type": "code",
      "source": [
        "attending, grade = True,70\n",
        "\n",
        "if not attending or grade < 60:\n",
        "  print(\"Drop?\")\n",
        "elif attending and not(grade < 60):\n",
        "  print(\"Stay\")\n",
        "\n"
      ],
      "metadata": {
        "colab": {
          "base_uri": "https://localhost:8080/"
        },
        "id": "8aA0xSN7kNrA",
        "outputId": "50d4441e-48ec-4589-8008-fc86ade41d15"
      },
      "execution_count": null,
      "outputs": [
        {
          "output_type": "stream",
          "name": "stdout",
          "text": [
            "Stay\n"
          ]
        }
      ]
    },
    {
      "cell_type": "code",
      "source": [
        "userPassword = input(\"Enter Passord: \").strip()\n",
        "filePassword = \"CA1234%\"\n",
        "\n",
        "if userPassword != filePassword:\n",
        "  print(\"Incorrect Password\", userPassword)\n",
        "else:\n",
        "  print(\"Correct\")\n"
      ],
      "metadata": {
        "colab": {
          "base_uri": "https://localhost:8080/"
        },
        "id": "ngmEJCrEpQx0",
        "outputId": "5a87c869-2965-4243-8189-6364c4ebbf69"
      },
      "execution_count": null,
      "outputs": [
        {
          "output_type": "stream",
          "name": "stdout",
          "text": [
            "Enter Passord: CA 1234%\n",
            "Incorrect Password CA 1234%\n"
          ]
        }
      ]
    },
    {
      "cell_type": "code",
      "source": [
        "num1 = float(input(\"Enter first number (num1): \"))\n",
        "num2 = float(input(\"Enter second number (num2): \"))\n",
        "\n",
        "equal = num1 == num2\n",
        "less = num1 < num2\n",
        "greater = not less and not equal\n",
        "\n",
        "\n",
        "if greater:\n",
        "    print(num1, \"is greater than\", num2, \"by\", (num1 - num2))\n",
        "elif equal:\n",
        "    print(num1, \"is equal to\", num2)\n",
        "else:\n",
        "    print(num1, \"is less than\", num2, \"by\", (num2 - num1))\n",
        "\n"
      ],
      "metadata": {
        "colab": {
          "base_uri": "https://localhost:8080/"
        },
        "id": "vQfApC4aq7Gn",
        "outputId": "e58ff666-b364-4c0e-e1c0-ccd9bc3df932"
      },
      "execution_count": null,
      "outputs": [
        {
          "output_type": "stream",
          "name": "stdout",
          "text": [
            "Enter first number (num1): 2.5\n",
            "Enter second number (num2): 5\n",
            "2.5 is less than 5.0 by 2.5\n"
          ]
        }
      ]
    },
    {
      "cell_type": "code",
      "source": [
        "\n",
        "frozen = False\n",
        "frozen == True\n",
        "frozen == False\n",
        "\n",
        "if frozen == True:\n",
        "  print(\"Frozen\")\n",
        "else:\n",
        "  print(\"Not Frozen\")"
      ],
      "metadata": {
        "colab": {
          "base_uri": "https://localhost:8080/"
        },
        "id": "cHxEcUxcw2C7",
        "outputId": "39325097-5895-4c31-aa82-dd1ba3541e58"
      },
      "execution_count": null,
      "outputs": [
        {
          "output_type": "stream",
          "name": "stdout",
          "text": [
            "Not Frozen\n"
          ]
        }
      ]
    },
    {
      "cell_type": "code",
      "source": [
        "#Substring: Suffixes\n",
        "filename = input(\"Enter filename: \")\n",
        "if filename.endswith(\".html\"):\n",
        "  print(\"This is an HTML file.\")\n",
        "else:\n",
        "  print(\"This is not an HTML file.\")"
      ],
      "metadata": {
        "colab": {
          "base_uri": "https://localhost:8080/"
        },
        "id": "6QL39Oiz7gSI",
        "outputId": "108ed6d3-9098-4f34-ca23-892454dc2410"
      },
      "execution_count": null,
      "outputs": [
        {
          "output_type": "stream",
          "name": "stdout",
          "text": [
            "Enter filename: f\n",
            "This is not an HTML file.\n"
          ]
        }
      ]
    },
    {
      "cell_type": "code",
      "source": [
        "s = \"1\"\n",
        "print (s.isalnum())"
      ],
      "metadata": {
        "colab": {
          "base_uri": "https://localhost:8080/"
        },
        "id": "12ShITzt8yI4",
        "outputId": "c022cb91-dcef-4fdc-d418-70f1b26fc391"
      },
      "execution_count": null,
      "outputs": [
        {
          "output_type": "stream",
          "name": "stdout",
          "text": [
            "True\n"
          ]
        }
      ]
    },
    {
      "cell_type": "code",
      "source": [
        "s = \"Ali\"\n",
        "print(s.islower())\n",
        "print(s.isupper())"
      ],
      "metadata": {
        "colab": {
          "base_uri": "https://localhost:8080/"
        },
        "id": "9Hp3JbHdAExi",
        "outputId": "b51f8663-6a55-4da3-e54d-1267aaf8c4c8"
      },
      "execution_count": null,
      "outputs": [
        {
          "output_type": "stream",
          "name": "stdout",
          "text": [
            "False\n",
            "False\n"
          ]
        }
      ]
    },
    {
      "cell_type": "code",
      "source": [
        "floor = 13\n",
        "\n",
        "if floor == 13 :\n",
        "  print(\"Error: There is no 13th floor\")\n",
        "elif floor <= 0 or floor > 20 :\n",
        "  print (\"Error: The floor must be betwen 1 and 20\")\n"
      ],
      "metadata": {
        "colab": {
          "base_uri": "https://localhost:8080/"
        },
        "id": "RHgnkz2aAPjy",
        "outputId": "4609708e-079c-4c78-d9a8-761b76c417fe"
      },
      "execution_count": null,
      "outputs": [
        {
          "output_type": "stream",
          "name": "stdout",
          "text": [
            "Error: There is no 13th floor\n"
          ]
        }
      ]
    },
    {
      "cell_type": "code",
      "source": [
        "from sys import exit()\n",
        "\n",
        "username = input(\"Enter the username\")\n",
        "if len.username == 0 or \" \" in username:\n",
        "  print(\"Invalid username\", username)\n",
        "else:\n",
        "  print(\"Valid username\", username)\n",
        "password = input(\"Enter password\")\n",
        "\n",
        "if len.password >= 8 and password.isdigit in password and password.isupper in password and password.islower in password:\n",
        "  print(\"Valid password\")\n",
        "else:\n",
        "  print(\"Invalid password\")"
      ],
      "metadata": {
        "colab": {
          "base_uri": "https://localhost:8080/",
          "height": 373
        },
        "id": "ZPRTOJv4Ca2t",
        "outputId": "58e25510-cc46-4c77-d169-011a85a4d715"
      },
      "execution_count": null,
      "outputs": [
        {
          "output_type": "error",
          "ename": "KeyboardInterrupt",
          "evalue": "Interrupted by user",
          "traceback": [
            "\u001b[0;31m---------------------------------------------------------------------------\u001b[0m",
            "\u001b[0;31mKeyboardInterrupt\u001b[0m                         Traceback (most recent call last)",
            "\u001b[0;32m<ipython-input-67-8c3a1f48f939>\u001b[0m in \u001b[0;36m<cell line: 0>\u001b[0;34m()\u001b[0m\n\u001b[0;32m----> 1\u001b[0;31m \u001b[0musername\u001b[0m \u001b[0;34m=\u001b[0m \u001b[0minput\u001b[0m\u001b[0;34m(\u001b[0m\u001b[0;34m\"Enter the username\"\u001b[0m\u001b[0;34m)\u001b[0m\u001b[0;34m\u001b[0m\u001b[0;34m\u001b[0m\u001b[0m\n\u001b[0m\u001b[1;32m      2\u001b[0m \u001b[0;32mif\u001b[0m \u001b[0mlen\u001b[0m\u001b[0;34m.\u001b[0m\u001b[0musername\u001b[0m \u001b[0;34m==\u001b[0m \u001b[0;36m0\u001b[0m \u001b[0;32mor\u001b[0m \u001b[0;34m\" \"\u001b[0m \u001b[0;32min\u001b[0m \u001b[0musername\u001b[0m\u001b[0;34m:\u001b[0m\u001b[0;34m\u001b[0m\u001b[0;34m\u001b[0m\u001b[0m\n\u001b[1;32m      3\u001b[0m   \u001b[0mprint\u001b[0m\u001b[0;34m(\u001b[0m\u001b[0;34m\"Invalid username\"\u001b[0m\u001b[0;34m,\u001b[0m \u001b[0musername\u001b[0m\u001b[0;34m)\u001b[0m\u001b[0;34m\u001b[0m\u001b[0;34m\u001b[0m\u001b[0m\n\u001b[1;32m      4\u001b[0m \u001b[0;32melse\u001b[0m\u001b[0;34m:\u001b[0m\u001b[0;34m\u001b[0m\u001b[0;34m\u001b[0m\u001b[0m\n\u001b[1;32m      5\u001b[0m   \u001b[0mprint\u001b[0m\u001b[0;34m(\u001b[0m\u001b[0;34m\"Valid username\"\u001b[0m\u001b[0;34m,\u001b[0m \u001b[0musername\u001b[0m\u001b[0;34m)\u001b[0m\u001b[0;34m\u001b[0m\u001b[0;34m\u001b[0m\u001b[0m\n",
            "\u001b[0;32m/usr/local/lib/python3.11/dist-packages/ipykernel/kernelbase.py\u001b[0m in \u001b[0;36mraw_input\u001b[0;34m(self, prompt)\u001b[0m\n\u001b[1;32m   1175\u001b[0m                 \u001b[0;34m\"raw_input was called, but this frontend does not support input requests.\"\u001b[0m\u001b[0;34m\u001b[0m\u001b[0;34m\u001b[0m\u001b[0m\n\u001b[1;32m   1176\u001b[0m             )\n\u001b[0;32m-> 1177\u001b[0;31m         return self._input_request(\n\u001b[0m\u001b[1;32m   1178\u001b[0m             \u001b[0mstr\u001b[0m\u001b[0;34m(\u001b[0m\u001b[0mprompt\u001b[0m\u001b[0;34m)\u001b[0m\u001b[0;34m,\u001b[0m\u001b[0;34m\u001b[0m\u001b[0;34m\u001b[0m\u001b[0m\n\u001b[1;32m   1179\u001b[0m             \u001b[0mself\u001b[0m\u001b[0;34m.\u001b[0m\u001b[0m_parent_ident\u001b[0m\u001b[0;34m[\u001b[0m\u001b[0;34m\"shell\"\u001b[0m\u001b[0;34m]\u001b[0m\u001b[0;34m,\u001b[0m\u001b[0;34m\u001b[0m\u001b[0;34m\u001b[0m\u001b[0m\n",
            "\u001b[0;32m/usr/local/lib/python3.11/dist-packages/ipykernel/kernelbase.py\u001b[0m in \u001b[0;36m_input_request\u001b[0;34m(self, prompt, ident, parent, password)\u001b[0m\n\u001b[1;32m   1217\u001b[0m             \u001b[0;32mexcept\u001b[0m \u001b[0mKeyboardInterrupt\u001b[0m\u001b[0;34m:\u001b[0m\u001b[0;34m\u001b[0m\u001b[0;34m\u001b[0m\u001b[0m\n\u001b[1;32m   1218\u001b[0m                 \u001b[0;31m# re-raise KeyboardInterrupt, to truncate traceback\u001b[0m\u001b[0;34m\u001b[0m\u001b[0;34m\u001b[0m\u001b[0m\n\u001b[0;32m-> 1219\u001b[0;31m                 \u001b[0;32mraise\u001b[0m \u001b[0mKeyboardInterrupt\u001b[0m\u001b[0;34m(\u001b[0m\u001b[0;34m\"Interrupted by user\"\u001b[0m\u001b[0;34m)\u001b[0m \u001b[0;32mfrom\u001b[0m \u001b[0;32mNone\u001b[0m\u001b[0;34m\u001b[0m\u001b[0;34m\u001b[0m\u001b[0m\n\u001b[0m\u001b[1;32m   1220\u001b[0m             \u001b[0;32mexcept\u001b[0m \u001b[0mException\u001b[0m\u001b[0;34m:\u001b[0m\u001b[0;34m\u001b[0m\u001b[0;34m\u001b[0m\u001b[0m\n\u001b[1;32m   1221\u001b[0m                 \u001b[0mself\u001b[0m\u001b[0;34m.\u001b[0m\u001b[0mlog\u001b[0m\u001b[0;34m.\u001b[0m\u001b[0mwarning\u001b[0m\u001b[0;34m(\u001b[0m\u001b[0;34m\"Invalid Message:\"\u001b[0m\u001b[0;34m,\u001b[0m \u001b[0mexc_info\u001b[0m\u001b[0;34m=\u001b[0m\u001b[0;32mTrue\u001b[0m\u001b[0;34m)\u001b[0m\u001b[0;34m\u001b[0m\u001b[0;34m\u001b[0m\u001b[0m\n",
            "\u001b[0;31mKeyboardInterrupt\u001b[0m: Interrupted by user"
          ]
        }
      ]
    },
    {
      "cell_type": "code",
      "source": [
        "from sys import exit\n",
        "\n",
        "username = input(\"Enter the username: \")\n",
        "password = input(\"Enter password:\")\n",
        "\n",
        "if len(username) == 0 or username.isspace():\n",
        "  exit(\"Invalid username\")\n",
        "\n",
        "if (len(password) < 8) or not(password.isalnum()) or not(password.isupper()) or not(password.islower()):\n",
        "  exit(\"Invalid password\")\n",
        "\n",
        "print(\"Valid username and password\")"
      ],
      "metadata": {
        "colab": {
          "base_uri": "https://localhost:8080/",
          "height": 178
        },
        "id": "_PHZKVjrIj22",
        "outputId": "ba7614a8-f894-4b13-e309-d0c675c4b7de"
      },
      "execution_count": null,
      "outputs": [
        {
          "name": "stdout",
          "output_type": "stream",
          "text": [
            "Enter the usernameintisar\n",
            "Enter passwordIntisar1234\n"
          ]
        },
        {
          "output_type": "error",
          "ename": "SystemExit",
          "evalue": "Invalid password",
          "traceback": [
            "An exception has occurred, use %tb to see the full traceback.\n",
            "\u001b[0;31mSystemExit\u001b[0m\u001b[0;31m:\u001b[0m Invalid password\n"
          ]
        },
        {
          "output_type": "stream",
          "name": "stderr",
          "text": [
            "/usr/local/lib/python3.11/dist-packages/IPython/core/interactiveshell.py:3561: UserWarning: To exit: use 'exit', 'quit', or Ctrl-D.\n",
            "  warn(\"To exit: use 'exit', 'quit', or Ctrl-D.\", stacklevel=1)\n"
          ]
        }
      ]
    },
    {
      "cell_type": "code",
      "source": [
        "rate = 10\n",
        "balance = 10000.0\n",
        "target = 20000.0\n",
        "\n",
        "year = 0\n",
        "while balance < target:\n",
        "   balance = balance + interest\n",
        "  print(year, balance)year = year +1\n",
        "  interest = balance * (rate / 100)\n"
      ],
      "metadata": {
        "colab": {
          "base_uri": "https://localhost:8080/"
        },
        "id": "fIl228MvKJxm",
        "outputId": "466b8f19-8dee-4fd4-9c78-f470e03e2e6a"
      },
      "execution_count": null,
      "outputs": [
        {
          "output_type": "stream",
          "name": "stdout",
          "text": [
            "1 11000.0\n",
            "2 12100.0\n",
            "3 13310.0\n",
            "4 14641.0\n",
            "5 16105.1\n",
            "6 17715.61\n",
            "7 19487.171000000002\n",
            "8 21435.888100000004\n"
          ]
        }
      ]
    },
    {
      "cell_type": "code",
      "source": [
        "counter = 1\n",
        "sum = 0\n",
        "while counter <= 10:\n",
        "  sum = sum + counter\n",
        "  counter = counter + 1\n",
        "print(sum)"
      ],
      "metadata": {
        "colab": {
          "base_uri": "https://localhost:8080/"
        },
        "id": "5jwRj1FKhnIl",
        "outputId": "9ebc704a-1e64-4c18-d357-0c3180e35d57"
      },
      "execution_count": null,
      "outputs": [
        {
          "output_type": "stream",
          "name": "stdout",
          "text": [
            "55\n"
          ]
        }
      ]
    },
    {
      "cell_type": "code",
      "source": [
        "\"\"\"sum = 0\n",
        "for char in \"1729\":\n",
        "  i = int(char)\n",
        "  sum = sum + i\n",
        "print(sum)\"\"\"\n",
        "\n",
        "num = 1729\n",
        "sum = 0\n",
        "\n",
        "while num > 0:\n",
        "  digit = num % 10\n",
        "  sum = sum + digit\n",
        "  num = num // 10\n",
        "\n",
        "print(sum)"
      ],
      "metadata": {
        "colab": {
          "base_uri": "https://localhost:8080/"
        },
        "id": "UnYgBX_Pkol4",
        "outputId": "5e3f61d6-b299-482f-eb10-148316382439"
      },
      "execution_count": null,
      "outputs": [
        {
          "output_type": "stream",
          "name": "stdout",
          "text": [
            "19\n"
          ]
        }
      ]
    },
    {
      "cell_type": "code",
      "source": [
        "salary = 0.0\n",
        "count = 0\n",
        "total = 0\n",
        "\n",
        "while salary >= 0:\n",
        "  salary = float(input(\"Enter a salary or -1 to finish: \"))\n",
        "  if salary >= 0:\n",
        "   total = total + salary\n",
        "   count = count + 1\n",
        "   print(total)\n",
        "\n",
        "\n"
      ],
      "metadata": {
        "colab": {
          "base_uri": "https://localhost:8080/",
          "height": 443
        },
        "id": "y7pcQwWFtQhd",
        "outputId": "82e3eaa4-e634-4d2d-f570-043b8a91311b"
      },
      "execution_count": null,
      "outputs": [
        {
          "output_type": "stream",
          "name": "stdout",
          "text": [
            "Enter a salary or -1 to finish: 200\n",
            "200.0\n",
            "Enter a salary or -1 to finish: 200\n",
            "400.0\n"
          ]
        },
        {
          "output_type": "error",
          "ename": "KeyboardInterrupt",
          "evalue": "Interrupted by user",
          "traceback": [
            "\u001b[0;31m---------------------------------------------------------------------------\u001b[0m",
            "\u001b[0;31mKeyboardInterrupt\u001b[0m                         Traceback (most recent call last)",
            "\u001b[0;32m<ipython-input-14-0816c15e1978>\u001b[0m in \u001b[0;36m<cell line: 0>\u001b[0;34m()\u001b[0m\n\u001b[1;32m      4\u001b[0m \u001b[0;34m\u001b[0m\u001b[0m\n\u001b[1;32m      5\u001b[0m \u001b[0;32mwhile\u001b[0m \u001b[0msalary\u001b[0m \u001b[0;34m>=\u001b[0m \u001b[0;36m0\u001b[0m\u001b[0;34m:\u001b[0m\u001b[0;34m\u001b[0m\u001b[0;34m\u001b[0m\u001b[0m\n\u001b[0;32m----> 6\u001b[0;31m   \u001b[0msalary\u001b[0m \u001b[0;34m=\u001b[0m \u001b[0mfloat\u001b[0m\u001b[0;34m(\u001b[0m\u001b[0minput\u001b[0m\u001b[0;34m(\u001b[0m\u001b[0;34m\"Enter a salary or -1 to finish: \"\u001b[0m\u001b[0;34m)\u001b[0m\u001b[0;34m)\u001b[0m\u001b[0;34m\u001b[0m\u001b[0;34m\u001b[0m\u001b[0m\n\u001b[0m\u001b[1;32m      7\u001b[0m   \u001b[0;32mif\u001b[0m \u001b[0msalary\u001b[0m \u001b[0;34m>=\u001b[0m \u001b[0;36m0\u001b[0m\u001b[0;34m:\u001b[0m\u001b[0;34m\u001b[0m\u001b[0;34m\u001b[0m\u001b[0m\n\u001b[1;32m      8\u001b[0m    \u001b[0mtotal\u001b[0m \u001b[0;34m=\u001b[0m \u001b[0mtotal\u001b[0m \u001b[0;34m+\u001b[0m \u001b[0msalary\u001b[0m\u001b[0;34m\u001b[0m\u001b[0;34m\u001b[0m\u001b[0m\n",
            "\u001b[0;32m/usr/local/lib/python3.11/dist-packages/ipykernel/kernelbase.py\u001b[0m in \u001b[0;36mraw_input\u001b[0;34m(self, prompt)\u001b[0m\n\u001b[1;32m   1175\u001b[0m                 \u001b[0;34m\"raw_input was called, but this frontend does not support input requests.\"\u001b[0m\u001b[0;34m\u001b[0m\u001b[0;34m\u001b[0m\u001b[0m\n\u001b[1;32m   1176\u001b[0m             )\n\u001b[0;32m-> 1177\u001b[0;31m         return self._input_request(\n\u001b[0m\u001b[1;32m   1178\u001b[0m             \u001b[0mstr\u001b[0m\u001b[0;34m(\u001b[0m\u001b[0mprompt\u001b[0m\u001b[0;34m)\u001b[0m\u001b[0;34m,\u001b[0m\u001b[0;34m\u001b[0m\u001b[0;34m\u001b[0m\u001b[0m\n\u001b[1;32m   1179\u001b[0m             \u001b[0mself\u001b[0m\u001b[0;34m.\u001b[0m\u001b[0m_parent_ident\u001b[0m\u001b[0;34m[\u001b[0m\u001b[0;34m\"shell\"\u001b[0m\u001b[0;34m]\u001b[0m\u001b[0;34m,\u001b[0m\u001b[0;34m\u001b[0m\u001b[0;34m\u001b[0m\u001b[0m\n",
            "\u001b[0;32m/usr/local/lib/python3.11/dist-packages/ipykernel/kernelbase.py\u001b[0m in \u001b[0;36m_input_request\u001b[0;34m(self, prompt, ident, parent, password)\u001b[0m\n\u001b[1;32m   1217\u001b[0m             \u001b[0;32mexcept\u001b[0m \u001b[0mKeyboardInterrupt\u001b[0m\u001b[0;34m:\u001b[0m\u001b[0;34m\u001b[0m\u001b[0;34m\u001b[0m\u001b[0m\n\u001b[1;32m   1218\u001b[0m                 \u001b[0;31m# re-raise KeyboardInterrupt, to truncate traceback\u001b[0m\u001b[0;34m\u001b[0m\u001b[0;34m\u001b[0m\u001b[0m\n\u001b[0;32m-> 1219\u001b[0;31m                 \u001b[0;32mraise\u001b[0m \u001b[0mKeyboardInterrupt\u001b[0m\u001b[0;34m(\u001b[0m\u001b[0;34m\"Interrupted by user\"\u001b[0m\u001b[0;34m)\u001b[0m \u001b[0;32mfrom\u001b[0m \u001b[0;32mNone\u001b[0m\u001b[0;34m\u001b[0m\u001b[0;34m\u001b[0m\u001b[0m\n\u001b[0m\u001b[1;32m   1220\u001b[0m             \u001b[0;32mexcept\u001b[0m \u001b[0mException\u001b[0m\u001b[0;34m:\u001b[0m\u001b[0;34m\u001b[0m\u001b[0;34m\u001b[0m\u001b[0m\n\u001b[1;32m   1221\u001b[0m                 \u001b[0mself\u001b[0m\u001b[0;34m.\u001b[0m\u001b[0mlog\u001b[0m\u001b[0;34m.\u001b[0m\u001b[0mwarning\u001b[0m\u001b[0;34m(\u001b[0m\u001b[0;34m\"Invalid Message:\"\u001b[0m\u001b[0;34m,\u001b[0m \u001b[0mexc_info\u001b[0m\u001b[0;34m=\u001b[0m\u001b[0;32mTrue\u001b[0m\u001b[0;34m)\u001b[0m\u001b[0;34m\u001b[0m\u001b[0;34m\u001b[0m\u001b[0m\n",
            "\u001b[0;31mKeyboardInterrupt\u001b[0m: Interrupted by user"
          ]
        }
      ]
    },
    {
      "cell_type": "code",
      "source": [
        "done = False\n",
        "while not done:\n",
        "  value = float(input(\"Enter a salary or -1 to finish: \"))\n",
        "  if value < 0.0:\n",
        "    done = True\n",
        "  else:\n",
        "    print(value)"
      ],
      "metadata": {
        "colab": {
          "base_uri": "https://localhost:8080/",
          "height": 373
        },
        "id": "XE8waPp4vm7X",
        "outputId": "0e2cb775-3018-4df9-d4a6-e4f08584df27"
      },
      "execution_count": null,
      "outputs": [
        {
          "output_type": "error",
          "ename": "KeyboardInterrupt",
          "evalue": "Interrupted by user",
          "traceback": [
            "\u001b[0;31m---------------------------------------------------------------------------\u001b[0m",
            "\u001b[0;31mKeyboardInterrupt\u001b[0m                         Traceback (most recent call last)",
            "\u001b[0;32m<ipython-input-15-7ea814220a77>\u001b[0m in \u001b[0;36m<cell line: 0>\u001b[0;34m()\u001b[0m\n\u001b[1;32m      1\u001b[0m \u001b[0mdone\u001b[0m \u001b[0;34m=\u001b[0m \u001b[0;32mFalse\u001b[0m\u001b[0;34m\u001b[0m\u001b[0;34m\u001b[0m\u001b[0m\n\u001b[1;32m      2\u001b[0m \u001b[0;32mwhile\u001b[0m \u001b[0;32mnot\u001b[0m \u001b[0mdone\u001b[0m\u001b[0;34m:\u001b[0m\u001b[0;34m\u001b[0m\u001b[0;34m\u001b[0m\u001b[0m\n\u001b[0;32m----> 3\u001b[0;31m   \u001b[0mvalue\u001b[0m \u001b[0;34m=\u001b[0m \u001b[0mfloat\u001b[0m\u001b[0;34m(\u001b[0m\u001b[0minput\u001b[0m\u001b[0;34m(\u001b[0m\u001b[0;34m\"Enter a salary or -1 to finish: \"\u001b[0m\u001b[0;34m)\u001b[0m\u001b[0;34m)\u001b[0m\u001b[0;34m\u001b[0m\u001b[0;34m\u001b[0m\u001b[0m\n\u001b[0m\u001b[1;32m      4\u001b[0m   \u001b[0;32mif\u001b[0m \u001b[0mvalue\u001b[0m \u001b[0;34m<\u001b[0m \u001b[0;36m0.0\u001b[0m\u001b[0;34m:\u001b[0m\u001b[0;34m\u001b[0m\u001b[0;34m\u001b[0m\u001b[0m\n\u001b[1;32m      5\u001b[0m     \u001b[0mdone\u001b[0m \u001b[0;34m=\u001b[0m \u001b[0;32mTrue\u001b[0m\u001b[0;34m\u001b[0m\u001b[0;34m\u001b[0m\u001b[0m\n",
            "\u001b[0;32m/usr/local/lib/python3.11/dist-packages/ipykernel/kernelbase.py\u001b[0m in \u001b[0;36mraw_input\u001b[0;34m(self, prompt)\u001b[0m\n\u001b[1;32m   1175\u001b[0m                 \u001b[0;34m\"raw_input was called, but this frontend does not support input requests.\"\u001b[0m\u001b[0;34m\u001b[0m\u001b[0;34m\u001b[0m\u001b[0m\n\u001b[1;32m   1176\u001b[0m             )\n\u001b[0;32m-> 1177\u001b[0;31m         return self._input_request(\n\u001b[0m\u001b[1;32m   1178\u001b[0m             \u001b[0mstr\u001b[0m\u001b[0;34m(\u001b[0m\u001b[0mprompt\u001b[0m\u001b[0;34m)\u001b[0m\u001b[0;34m,\u001b[0m\u001b[0;34m\u001b[0m\u001b[0;34m\u001b[0m\u001b[0m\n\u001b[1;32m   1179\u001b[0m             \u001b[0mself\u001b[0m\u001b[0;34m.\u001b[0m\u001b[0m_parent_ident\u001b[0m\u001b[0;34m[\u001b[0m\u001b[0;34m\"shell\"\u001b[0m\u001b[0;34m]\u001b[0m\u001b[0;34m,\u001b[0m\u001b[0;34m\u001b[0m\u001b[0;34m\u001b[0m\u001b[0m\n",
            "\u001b[0;32m/usr/local/lib/python3.11/dist-packages/ipykernel/kernelbase.py\u001b[0m in \u001b[0;36m_input_request\u001b[0;34m(self, prompt, ident, parent, password)\u001b[0m\n\u001b[1;32m   1217\u001b[0m             \u001b[0;32mexcept\u001b[0m \u001b[0mKeyboardInterrupt\u001b[0m\u001b[0;34m:\u001b[0m\u001b[0;34m\u001b[0m\u001b[0;34m\u001b[0m\u001b[0m\n\u001b[1;32m   1218\u001b[0m                 \u001b[0;31m# re-raise KeyboardInterrupt, to truncate traceback\u001b[0m\u001b[0;34m\u001b[0m\u001b[0;34m\u001b[0m\u001b[0m\n\u001b[0;32m-> 1219\u001b[0;31m                 \u001b[0;32mraise\u001b[0m \u001b[0mKeyboardInterrupt\u001b[0m\u001b[0;34m(\u001b[0m\u001b[0;34m\"Interrupted by user\"\u001b[0m\u001b[0;34m)\u001b[0m \u001b[0;32mfrom\u001b[0m \u001b[0;32mNone\u001b[0m\u001b[0;34m\u001b[0m\u001b[0;34m\u001b[0m\u001b[0m\n\u001b[0m\u001b[1;32m   1220\u001b[0m             \u001b[0;32mexcept\u001b[0m \u001b[0mException\u001b[0m\u001b[0;34m:\u001b[0m\u001b[0;34m\u001b[0m\u001b[0;34m\u001b[0m\u001b[0m\n\u001b[1;32m   1221\u001b[0m                 \u001b[0mself\u001b[0m\u001b[0;34m.\u001b[0m\u001b[0mlog\u001b[0m\u001b[0;34m.\u001b[0m\u001b[0mwarning\u001b[0m\u001b[0;34m(\u001b[0m\u001b[0;34m\"Invalid Message:\"\u001b[0m\u001b[0;34m,\u001b[0m \u001b[0mexc_info\u001b[0m\u001b[0;34m=\u001b[0m\u001b[0;32mTrue\u001b[0m\u001b[0;34m)\u001b[0m\u001b[0;34m\u001b[0m\u001b[0;34m\u001b[0m\u001b[0m\n",
            "\u001b[0;31mKeyboardInterrupt\u001b[0m: Interrupted by user"
          ]
        }
      ]
    },
    {
      "cell_type": "code",
      "source": [
        "balance = 10000\n",
        "while balance >= 1000:\n",
        "  deposit = float(input(\"Enter deposit amount: \"))\n",
        "  balance = balance - deposit\n",
        "  print(balance)"
      ],
      "metadata": {
        "colab": {
          "base_uri": "https://localhost:8080/"
        },
        "id": "ktTQbL86x4dL",
        "outputId": "0d087e0f-a2df-4641-c8d1-344bbed56514"
      },
      "execution_count": null,
      "outputs": [
        {
          "output_type": "stream",
          "name": "stdout",
          "text": [
            "Enter deposit amount: 2000\n",
            "8000.0\n",
            "Enter deposit amount: 500\n",
            "7500.0\n",
            "Enter deposit amount: 300\n",
            "7200.0\n",
            "Enter deposit amount: 200\n",
            "7000.0\n",
            "Enter deposit amount: 5000\n",
            "2000.0\n",
            "Enter deposit amount: 1000\n",
            "1000.0\n",
            "Enter deposit amount: 1000\n",
            "0.0\n"
          ]
        }
      ]
    },
    {
      "cell_type": "code",
      "source": [
        "total = 0.0\n",
        "count = 0\n",
        "inputStr = input(\"Enter value:\")\n",
        "while inputStr != \"\":\n",
        "  value = float(inputStr)\n",
        "  total = total + value\n",
        "  count = count + 1\n",
        "  inputStr = input(\"Enter value:\")\n",
        "\n",
        "  if count > 0 :\n",
        "    average = total / count\n",
        "  else :\n",
        "    average = 0.0\n",
        "\n",
        "  print(\"Total:\", total)\n",
        "  print(\"Count:\", count)\n",
        "  print(\"Average:\", average)"
      ],
      "metadata": {
        "colab": {
          "base_uri": "https://localhost:8080/"
        },
        "id": "wf4NNt7bpCo5",
        "outputId": "dbc7f774-e1c7-4918-b514-9ecc42ee176e"
      },
      "execution_count": null,
      "outputs": [
        {
          "name": "stdout",
          "output_type": "stream",
          "text": [
            "Enter value:\n"
          ]
        }
      ]
    },
    {
      "cell_type": "code",
      "source": [
        "negatives = 0\n",
        "inputStr = input(\"Enter value:\")\n",
        "while inputStr != \"\":\n",
        "  value = int(inputStr)\n",
        "  if value < 0:\n",
        "    negatives = negatives + 1\n",
        "  inputStr = input(\"Enter value:\")\n",
        "\n",
        "print(\"There were\", negatives, \"negative values.\")\n"
      ],
      "metadata": {
        "colab": {
          "base_uri": "https://localhost:8080/"
        },
        "id": "WRd_8eA8rY5h",
        "outputId": "f5e122d2-7358-49fd-db31-be1aa2426887"
      },
      "execution_count": null,
      "outputs": [
        {
          "output_type": "stream",
          "name": "stdout",
          "text": [
            "Enter value:-7\n",
            "Enter value:-9\n",
            "Enter value:5\n",
            "Enter value:4\n",
            "Enter value:3\n",
            "Enter value:\n",
            "There were 2 negative values.\n"
          ]
        }
      ]
    },
    {
      "cell_type": "code",
      "source": [
        "positives = 0\n",
        "inputStr = input(\"Enter value:\")\n",
        "while inputStr != \"\":\n",
        "  value = int(inputStr)\n",
        "  if value > 0:\n",
        "    positives = positives + 1\n",
        "  inputStr = input(\"Enter value:\")\n",
        "\n",
        "print(\"There were\", positives, \"positives values.\")\n"
      ],
      "metadata": {
        "colab": {
          "base_uri": "https://localhost:8080/",
          "height": 373
        },
        "id": "8BfRPLO2sd2f",
        "outputId": "5b518b5d-f6b4-4cfb-f3bf-ac5fec93639a"
      },
      "execution_count": null,
      "outputs": [
        {
          "output_type": "error",
          "ename": "KeyboardInterrupt",
          "evalue": "Interrupted by user",
          "traceback": [
            "\u001b[0;31m---------------------------------------------------------------------------\u001b[0m",
            "\u001b[0;31mKeyboardInterrupt\u001b[0m                         Traceback (most recent call last)",
            "\u001b[0;32m<ipython-input-8-cbd5bb74c71e>\u001b[0m in \u001b[0;36m<cell line: 0>\u001b[0;34m()\u001b[0m\n\u001b[1;32m      1\u001b[0m \u001b[0mpositives\u001b[0m \u001b[0;34m=\u001b[0m \u001b[0;36m0\u001b[0m\u001b[0;34m\u001b[0m\u001b[0;34m\u001b[0m\u001b[0m\n\u001b[0;32m----> 2\u001b[0;31m \u001b[0minputStr\u001b[0m \u001b[0;34m=\u001b[0m \u001b[0minput\u001b[0m\u001b[0;34m(\u001b[0m\u001b[0;34m\"Enter value:\"\u001b[0m\u001b[0;34m)\u001b[0m\u001b[0;34m\u001b[0m\u001b[0;34m\u001b[0m\u001b[0m\n\u001b[0m\u001b[1;32m      3\u001b[0m \u001b[0;32mwhile\u001b[0m \u001b[0minputStr\u001b[0m \u001b[0;34m!=\u001b[0m \u001b[0;34m\"\"\u001b[0m\u001b[0;34m:\u001b[0m\u001b[0;34m\u001b[0m\u001b[0;34m\u001b[0m\u001b[0m\n\u001b[1;32m      4\u001b[0m   \u001b[0mvalue\u001b[0m \u001b[0;34m=\u001b[0m \u001b[0mint\u001b[0m\u001b[0;34m(\u001b[0m\u001b[0minputStr\u001b[0m\u001b[0;34m)\u001b[0m\u001b[0;34m\u001b[0m\u001b[0;34m\u001b[0m\u001b[0m\n\u001b[1;32m      5\u001b[0m   \u001b[0;32mif\u001b[0m \u001b[0mvalue\u001b[0m \u001b[0;34m>\u001b[0m \u001b[0;36m0\u001b[0m\u001b[0;34m:\u001b[0m\u001b[0;34m\u001b[0m\u001b[0;34m\u001b[0m\u001b[0m\n",
            "\u001b[0;32m/usr/local/lib/python3.11/dist-packages/ipykernel/kernelbase.py\u001b[0m in \u001b[0;36mraw_input\u001b[0;34m(self, prompt)\u001b[0m\n\u001b[1;32m   1175\u001b[0m                 \u001b[0;34m\"raw_input was called, but this frontend does not support input requests.\"\u001b[0m\u001b[0;34m\u001b[0m\u001b[0;34m\u001b[0m\u001b[0m\n\u001b[1;32m   1176\u001b[0m             )\n\u001b[0;32m-> 1177\u001b[0;31m         return self._input_request(\n\u001b[0m\u001b[1;32m   1178\u001b[0m             \u001b[0mstr\u001b[0m\u001b[0;34m(\u001b[0m\u001b[0mprompt\u001b[0m\u001b[0;34m)\u001b[0m\u001b[0;34m,\u001b[0m\u001b[0;34m\u001b[0m\u001b[0;34m\u001b[0m\u001b[0m\n\u001b[1;32m   1179\u001b[0m             \u001b[0mself\u001b[0m\u001b[0;34m.\u001b[0m\u001b[0m_parent_ident\u001b[0m\u001b[0;34m[\u001b[0m\u001b[0;34m\"shell\"\u001b[0m\u001b[0;34m]\u001b[0m\u001b[0;34m,\u001b[0m\u001b[0;34m\u001b[0m\u001b[0;34m\u001b[0m\u001b[0m\n",
            "\u001b[0;32m/usr/local/lib/python3.11/dist-packages/ipykernel/kernelbase.py\u001b[0m in \u001b[0;36m_input_request\u001b[0;34m(self, prompt, ident, parent, password)\u001b[0m\n\u001b[1;32m   1217\u001b[0m             \u001b[0;32mexcept\u001b[0m \u001b[0mKeyboardInterrupt\u001b[0m\u001b[0;34m:\u001b[0m\u001b[0;34m\u001b[0m\u001b[0;34m\u001b[0m\u001b[0m\n\u001b[1;32m   1218\u001b[0m                 \u001b[0;31m# re-raise KeyboardInterrupt, to truncate traceback\u001b[0m\u001b[0;34m\u001b[0m\u001b[0;34m\u001b[0m\u001b[0m\n\u001b[0;32m-> 1219\u001b[0;31m                 \u001b[0;32mraise\u001b[0m \u001b[0mKeyboardInterrupt\u001b[0m\u001b[0;34m(\u001b[0m\u001b[0;34m\"Interrupted by user\"\u001b[0m\u001b[0;34m)\u001b[0m \u001b[0;32mfrom\u001b[0m \u001b[0;32mNone\u001b[0m\u001b[0;34m\u001b[0m\u001b[0;34m\u001b[0m\u001b[0m\n\u001b[0m\u001b[1;32m   1220\u001b[0m             \u001b[0;32mexcept\u001b[0m \u001b[0mException\u001b[0m\u001b[0;34m:\u001b[0m\u001b[0;34m\u001b[0m\u001b[0;34m\u001b[0m\u001b[0m\n\u001b[1;32m   1221\u001b[0m                 \u001b[0mself\u001b[0m\u001b[0;34m.\u001b[0m\u001b[0mlog\u001b[0m\u001b[0;34m.\u001b[0m\u001b[0mwarning\u001b[0m\u001b[0;34m(\u001b[0m\u001b[0;34m\"Invalid Message:\"\u001b[0m\u001b[0;34m,\u001b[0m \u001b[0mexc_info\u001b[0m\u001b[0;34m=\u001b[0m\u001b[0;32mTrue\u001b[0m\u001b[0;34m)\u001b[0m\u001b[0;34m\u001b[0m\u001b[0;34m\u001b[0m\u001b[0m\n",
            "\u001b[0;31mKeyboardInterrupt\u001b[0m: Interrupted by user"
          ]
        }
      ]
    },
    {
      "cell_type": "code",
      "source": [
        "valid = False\n",
        "while not valid:\n",
        "  value = int(input(\"Please enter a positive value < 100:\"))\n",
        "  if value > 0 and value < 100:\n",
        "    valid = True\n",
        "  else:\n",
        "    print(\"Invalid value.\")"
      ],
      "metadata": {
        "colab": {
          "base_uri": "https://localhost:8080/",
          "height": 408
        },
        "id": "2IIK_1GdtB2P",
        "outputId": "011c9510-3111-4012-9751-e083834921fd"
      },
      "execution_count": null,
      "outputs": [
        {
          "output_type": "stream",
          "name": "stdout",
          "text": [
            "Please enter a positive value < 100:400\n",
            "Invalid value.\n"
          ]
        },
        {
          "output_type": "error",
          "ename": "KeyboardInterrupt",
          "evalue": "Interrupted by user",
          "traceback": [
            "\u001b[0;31m---------------------------------------------------------------------------\u001b[0m",
            "\u001b[0;31mKeyboardInterrupt\u001b[0m                         Traceback (most recent call last)",
            "\u001b[0;32m<ipython-input-11-1c1f915ab7ba>\u001b[0m in \u001b[0;36m<cell line: 0>\u001b[0;34m()\u001b[0m\n\u001b[1;32m      1\u001b[0m \u001b[0mvalid\u001b[0m \u001b[0;34m=\u001b[0m \u001b[0;32mFalse\u001b[0m\u001b[0;34m\u001b[0m\u001b[0;34m\u001b[0m\u001b[0m\n\u001b[1;32m      2\u001b[0m \u001b[0;32mwhile\u001b[0m \u001b[0;32mnot\u001b[0m \u001b[0mvalid\u001b[0m\u001b[0;34m:\u001b[0m\u001b[0;34m\u001b[0m\u001b[0;34m\u001b[0m\u001b[0m\n\u001b[0;32m----> 3\u001b[0;31m   \u001b[0mvalue\u001b[0m \u001b[0;34m=\u001b[0m \u001b[0mint\u001b[0m\u001b[0;34m(\u001b[0m\u001b[0minput\u001b[0m\u001b[0;34m(\u001b[0m\u001b[0;34m\"Please enter a positive value < 100:\"\u001b[0m\u001b[0;34m)\u001b[0m\u001b[0;34m)\u001b[0m\u001b[0;34m\u001b[0m\u001b[0;34m\u001b[0m\u001b[0m\n\u001b[0m\u001b[1;32m      4\u001b[0m   \u001b[0;32mif\u001b[0m \u001b[0mvalue\u001b[0m \u001b[0;34m>\u001b[0m \u001b[0;36m0\u001b[0m \u001b[0;32mand\u001b[0m \u001b[0mvalue\u001b[0m \u001b[0;34m<\u001b[0m \u001b[0;36m100\u001b[0m\u001b[0;34m:\u001b[0m\u001b[0;34m\u001b[0m\u001b[0;34m\u001b[0m\u001b[0m\n\u001b[1;32m      5\u001b[0m     \u001b[0mvalid\u001b[0m \u001b[0;34m=\u001b[0m \u001b[0;32mTrue\u001b[0m\u001b[0;34m\u001b[0m\u001b[0;34m\u001b[0m\u001b[0m\n",
            "\u001b[0;32m/usr/local/lib/python3.11/dist-packages/ipykernel/kernelbase.py\u001b[0m in \u001b[0;36mraw_input\u001b[0;34m(self, prompt)\u001b[0m\n\u001b[1;32m   1175\u001b[0m                 \u001b[0;34m\"raw_input was called, but this frontend does not support input requests.\"\u001b[0m\u001b[0;34m\u001b[0m\u001b[0;34m\u001b[0m\u001b[0m\n\u001b[1;32m   1176\u001b[0m             )\n\u001b[0;32m-> 1177\u001b[0;31m         return self._input_request(\n\u001b[0m\u001b[1;32m   1178\u001b[0m             \u001b[0mstr\u001b[0m\u001b[0;34m(\u001b[0m\u001b[0mprompt\u001b[0m\u001b[0;34m)\u001b[0m\u001b[0;34m,\u001b[0m\u001b[0;34m\u001b[0m\u001b[0;34m\u001b[0m\u001b[0m\n\u001b[1;32m   1179\u001b[0m             \u001b[0mself\u001b[0m\u001b[0;34m.\u001b[0m\u001b[0m_parent_ident\u001b[0m\u001b[0;34m[\u001b[0m\u001b[0;34m\"shell\"\u001b[0m\u001b[0;34m]\u001b[0m\u001b[0;34m,\u001b[0m\u001b[0;34m\u001b[0m\u001b[0;34m\u001b[0m\u001b[0m\n",
            "\u001b[0;32m/usr/local/lib/python3.11/dist-packages/ipykernel/kernelbase.py\u001b[0m in \u001b[0;36m_input_request\u001b[0;34m(self, prompt, ident, parent, password)\u001b[0m\n\u001b[1;32m   1217\u001b[0m             \u001b[0;32mexcept\u001b[0m \u001b[0mKeyboardInterrupt\u001b[0m\u001b[0;34m:\u001b[0m\u001b[0;34m\u001b[0m\u001b[0;34m\u001b[0m\u001b[0m\n\u001b[1;32m   1218\u001b[0m                 \u001b[0;31m# re-raise KeyboardInterrupt, to truncate traceback\u001b[0m\u001b[0;34m\u001b[0m\u001b[0;34m\u001b[0m\u001b[0m\n\u001b[0;32m-> 1219\u001b[0;31m                 \u001b[0;32mraise\u001b[0m \u001b[0mKeyboardInterrupt\u001b[0m\u001b[0;34m(\u001b[0m\u001b[0;34m\"Interrupted by user\"\u001b[0m\u001b[0;34m)\u001b[0m \u001b[0;32mfrom\u001b[0m \u001b[0;32mNone\u001b[0m\u001b[0;34m\u001b[0m\u001b[0;34m\u001b[0m\u001b[0m\n\u001b[0m\u001b[1;32m   1220\u001b[0m             \u001b[0;32mexcept\u001b[0m \u001b[0mException\u001b[0m\u001b[0;34m:\u001b[0m\u001b[0;34m\u001b[0m\u001b[0;34m\u001b[0m\u001b[0m\n\u001b[1;32m   1221\u001b[0m                 \u001b[0mself\u001b[0m\u001b[0;34m.\u001b[0m\u001b[0mlog\u001b[0m\u001b[0;34m.\u001b[0m\u001b[0mwarning\u001b[0m\u001b[0;34m(\u001b[0m\u001b[0;34m\"Invalid Message:\"\u001b[0m\u001b[0;34m,\u001b[0m \u001b[0mexc_info\u001b[0m\u001b[0;34m=\u001b[0m\u001b[0;32mTrue\u001b[0m\u001b[0;34m)\u001b[0m\u001b[0;34m\u001b[0m\u001b[0;34m\u001b[0m\u001b[0m\n",
            "\u001b[0;31mKeyboardInterrupt\u001b[0m: Interrupted by user"
          ]
        }
      ]
    },
    {
      "cell_type": "code",
      "source": [
        "\"\"\"\n",
        "find max of entered when empty is entered\n",
        "no matter how many times entered before\n",
        "\"\"\"\n",
        "\n",
        "num = 0\n",
        "max = 0\n",
        "inputStr = input(\"Enter value:\")\n",
        "while inputStr != \"\":\n",
        "  num = int(inputStr)\n",
        "  if num > max :\n",
        "    max = num\n",
        "  inputStr = input(\"Enter value:\")\n",
        "print(\"Max:\", max)"
      ],
      "metadata": {
        "colab": {
          "base_uri": "https://localhost:8080/",
          "height": 373
        },
        "id": "1mcDb-z1tz5i",
        "outputId": "34567a74-e5f6-4779-d2fb-0f22170967b8"
      },
      "execution_count": null,
      "outputs": [
        {
          "output_type": "error",
          "ename": "KeyboardInterrupt",
          "evalue": "Interrupted by user",
          "traceback": [
            "\u001b[0;31m---------------------------------------------------------------------------\u001b[0m",
            "\u001b[0;31mKeyboardInterrupt\u001b[0m                         Traceback (most recent call last)",
            "\u001b[0;32m<ipython-input-30-5065058fb3e6>\u001b[0m in \u001b[0;36m<cell line: 0>\u001b[0;34m()\u001b[0m\n\u001b[1;32m      6\u001b[0m \u001b[0mnum\u001b[0m \u001b[0;34m=\u001b[0m \u001b[0;36m0\u001b[0m\u001b[0;34m\u001b[0m\u001b[0;34m\u001b[0m\u001b[0m\n\u001b[1;32m      7\u001b[0m \u001b[0mmax\u001b[0m \u001b[0;34m=\u001b[0m \u001b[0;36m0\u001b[0m\u001b[0;34m\u001b[0m\u001b[0;34m\u001b[0m\u001b[0m\n\u001b[0;32m----> 8\u001b[0;31m \u001b[0minputStr\u001b[0m \u001b[0;34m=\u001b[0m \u001b[0minput\u001b[0m\u001b[0;34m(\u001b[0m\u001b[0;34m\"Enter value:\"\u001b[0m\u001b[0;34m)\u001b[0m\u001b[0;34m\u001b[0m\u001b[0;34m\u001b[0m\u001b[0m\n\u001b[0m\u001b[1;32m      9\u001b[0m \u001b[0;32mwhile\u001b[0m \u001b[0minputStr\u001b[0m \u001b[0;34m!=\u001b[0m \u001b[0;34m\"\"\u001b[0m\u001b[0;34m:\u001b[0m\u001b[0;34m\u001b[0m\u001b[0;34m\u001b[0m\u001b[0m\n\u001b[1;32m     10\u001b[0m   \u001b[0mnum\u001b[0m \u001b[0;34m=\u001b[0m \u001b[0mint\u001b[0m\u001b[0;34m(\u001b[0m\u001b[0minputStr\u001b[0m\u001b[0;34m)\u001b[0m\u001b[0;34m\u001b[0m\u001b[0;34m\u001b[0m\u001b[0m\n",
            "\u001b[0;32m/usr/local/lib/python3.11/dist-packages/ipykernel/kernelbase.py\u001b[0m in \u001b[0;36mraw_input\u001b[0;34m(self, prompt)\u001b[0m\n\u001b[1;32m   1175\u001b[0m                 \u001b[0;34m\"raw_input was called, but this frontend does not support input requests.\"\u001b[0m\u001b[0;34m\u001b[0m\u001b[0;34m\u001b[0m\u001b[0m\n\u001b[1;32m   1176\u001b[0m             )\n\u001b[0;32m-> 1177\u001b[0;31m         return self._input_request(\n\u001b[0m\u001b[1;32m   1178\u001b[0m             \u001b[0mstr\u001b[0m\u001b[0;34m(\u001b[0m\u001b[0mprompt\u001b[0m\u001b[0;34m)\u001b[0m\u001b[0;34m,\u001b[0m\u001b[0;34m\u001b[0m\u001b[0;34m\u001b[0m\u001b[0m\n\u001b[1;32m   1179\u001b[0m             \u001b[0mself\u001b[0m\u001b[0;34m.\u001b[0m\u001b[0m_parent_ident\u001b[0m\u001b[0;34m[\u001b[0m\u001b[0;34m\"shell\"\u001b[0m\u001b[0;34m]\u001b[0m\u001b[0;34m,\u001b[0m\u001b[0;34m\u001b[0m\u001b[0;34m\u001b[0m\u001b[0m\n",
            "\u001b[0;32m/usr/local/lib/python3.11/dist-packages/ipykernel/kernelbase.py\u001b[0m in \u001b[0;36m_input_request\u001b[0;34m(self, prompt, ident, parent, password)\u001b[0m\n\u001b[1;32m   1217\u001b[0m             \u001b[0;32mexcept\u001b[0m \u001b[0mKeyboardInterrupt\u001b[0m\u001b[0;34m:\u001b[0m\u001b[0;34m\u001b[0m\u001b[0;34m\u001b[0m\u001b[0m\n\u001b[1;32m   1218\u001b[0m                 \u001b[0;31m# re-raise KeyboardInterrupt, to truncate traceback\u001b[0m\u001b[0;34m\u001b[0m\u001b[0;34m\u001b[0m\u001b[0m\n\u001b[0;32m-> 1219\u001b[0;31m                 \u001b[0;32mraise\u001b[0m \u001b[0mKeyboardInterrupt\u001b[0m\u001b[0;34m(\u001b[0m\u001b[0;34m\"Interrupted by user\"\u001b[0m\u001b[0;34m)\u001b[0m \u001b[0;32mfrom\u001b[0m \u001b[0;32mNone\u001b[0m\u001b[0;34m\u001b[0m\u001b[0;34m\u001b[0m\u001b[0m\n\u001b[0m\u001b[1;32m   1220\u001b[0m             \u001b[0;32mexcept\u001b[0m \u001b[0mException\u001b[0m\u001b[0;34m:\u001b[0m\u001b[0;34m\u001b[0m\u001b[0;34m\u001b[0m\u001b[0m\n\u001b[1;32m   1221\u001b[0m                 \u001b[0mself\u001b[0m\u001b[0;34m.\u001b[0m\u001b[0mlog\u001b[0m\u001b[0;34m.\u001b[0m\u001b[0mwarning\u001b[0m\u001b[0;34m(\u001b[0m\u001b[0;34m\"Invalid Message:\"\u001b[0m\u001b[0;34m,\u001b[0m \u001b[0mexc_info\u001b[0m\u001b[0;34m=\u001b[0m\u001b[0;32mTrue\u001b[0m\u001b[0;34m)\u001b[0m\u001b[0;34m\u001b[0m\u001b[0;34m\u001b[0m\u001b[0m\n",
            "\u001b[0;31mKeyboardInterrupt\u001b[0m: Interrupted by user"
          ]
        }
      ]
    },
    {
      "cell_type": "code",
      "source": [],
      "metadata": {
        "id": "7NDp467FKAn1"
      },
      "execution_count": null,
      "outputs": []
    },
    {
      "cell_type": "code",
      "source": [
        "#find min num\n",
        "\n",
        "num = 0\n",
        "min = int(input(\"Enter inetial minimum number:\"))\n",
        "inputStr = int(input(\"Enter value:\"))\n",
        "while inputStr != \"\":\n",
        "  num = int(inputStr)\n",
        "  if num < min :\n",
        "    min = num\n",
        "  inputStr = input(\"Enter value:\")\n",
        "print(\"Min:\", min)"
      ],
      "metadata": {
        "colab": {
          "base_uri": "https://localhost:8080/"
        },
        "id": "prCCvMD3yFi1",
        "outputId": "66233ddc-d5b1-4197-df6c-16b504fc354e"
      },
      "execution_count": null,
      "outputs": [
        {
          "output_type": "stream",
          "name": "stdout",
          "text": [
            "Enter inetial minimum number:4\n",
            "Enter value:2\n",
            "Enter value:6\n",
            "Enter value:12\n",
            "Enter value:45\n",
            "Enter value:7\n",
            "Enter value:\n",
            "Min: 2\n"
          ]
        }
      ]
    },
    {
      "cell_type": "code",
      "source": [
        "stateName = \"Virginia\"\n",
        "for x in stateName:\n",
        "  print(x)"
      ],
      "metadata": {
        "colab": {
          "base_uri": "https://localhost:8080/"
        },
        "id": "x8E3w35m2q0w",
        "outputId": "4268210e-715c-4274-d8a2-398d48dcc08b"
      },
      "execution_count": null,
      "outputs": [
        {
          "output_type": "stream",
          "name": "stdout",
          "text": [
            "V\n",
            "i\n",
            "r\n",
            "g\n",
            "i\n",
            "n\n",
            "i\n",
            "a\n"
          ]
        }
      ]
    },
    {
      "cell_type": "code",
      "source": [
        "#count control loop\n",
        "\n",
        "for i in range(1, 55):\n",
        "  if i % 5 == 0:\n",
        "    print(i, end = \"\")"
      ],
      "metadata": {
        "colab": {
          "base_uri": "https://localhost:8080/"
        },
        "id": "T5g80rpl3bC3",
        "outputId": "7c0f6f28-2099-4752-c0c9-245f9fe8e08d"
      },
      "execution_count": null,
      "outputs": [
        {
          "output_type": "stream",
          "name": "stdout",
          "text": [
            "5101520253035404550"
          ]
        }
      ]
    },
    {
      "cell_type": "code",
      "source": [
        "#Print the balance at the end of each year for the number of the year\n",
        "\n",
        "year = 1\n",
        "balance = float(input(\"Enter initial balance: \"))\n",
        "yearNum = int(input(\"Enter number of years: \"))\n",
        "for year in range(1, yearNum + 1):\n",
        "  balance = year * balance\n",
        "  year = year\n",
        "print(year, balance)\n"
      ],
      "metadata": {
        "colab": {
          "base_uri": "https://localhost:8080/"
        },
        "id": "2Yv6eHZY46b1",
        "outputId": "970b4362-0185-4e83-e84a-68525ef60af3"
      },
      "execution_count": null,
      "outputs": [
        {
          "output_type": "stream",
          "name": "stdout",
          "text": [
            "Enter initial balance: 30\n",
            "Enter number of years: 2\n",
            "2 60.0\n"
          ]
        }
      ]
    },
    {
      "cell_type": "code",
      "source": [
        "for x in range(1, 11): #row\n",
        "  for n in range(1, 4): #columns\n",
        "    print(x **n, end=\"\")\n",
        "  print()"
      ],
      "metadata": {
        "colab": {
          "base_uri": "https://localhost:8080/"
        },
        "id": "zL7vYcEy7O7c",
        "outputId": "3f23bc9d-3534-427e-de8f-2fedcf9465dc"
      },
      "execution_count": null,
      "outputs": [
        {
          "output_type": "stream",
          "name": "stdout",
          "text": [
            "111\n",
            "248\n",
            "3927\n",
            "41664\n",
            "525125\n",
            "636216\n",
            "749343\n",
            "864512\n",
            "981729\n",
            "101001000\n"
          ]
        }
      ]
    },
    {
      "cell_type": "code",
      "source": [
        "for i in range(3):\n",
        "  for j in range(4):\n",
        "    print(\"*\", end = \"\")\n",
        "  print()"
      ],
      "metadata": {
        "colab": {
          "base_uri": "https://localhost:8080/"
        },
        "id": "iKePR2wX4Gal",
        "outputId": "beb14079-4ca5-4ddd-d93d-a67f47d486c3"
      },
      "execution_count": null,
      "outputs": [
        {
          "output_type": "stream",
          "name": "stdout",
          "text": [
            "****\n",
            "****\n",
            "****\n"
          ]
        }
      ]
    },
    {
      "cell_type": "code",
      "source": [
        "for i in range(4):\n",
        "  for j in range(3):\n",
        "    print(\"*\", end=\"\")\n",
        "  print()"
      ],
      "metadata": {
        "colab": {
          "base_uri": "https://localhost:8080/"
        },
        "id": "pjvtdxc1LDG-",
        "outputId": "8a00dc2b-b52a-4539-8ff8-e545ed6a4e20"
      },
      "execution_count": null,
      "outputs": [
        {
          "output_type": "stream",
          "name": "stdout",
          "text": [
            "***\n",
            "***\n",
            "***\n",
            "***\n"
          ]
        }
      ]
    },
    {
      "cell_type": "code",
      "source": [
        "for i in range(10):\n",
        "  for j in range(i + 1):\n",
        "    print(\"*\", end=\"\")\n",
        "  print()"
      ],
      "metadata": {
        "colab": {
          "base_uri": "https://localhost:8080/"
        },
        "id": "xnupATTyLz0O",
        "outputId": "3e631280-f787-464e-d060-ddc79df4cb87"
      },
      "execution_count": null,
      "outputs": [
        {
          "output_type": "stream",
          "name": "stdout",
          "text": [
            "*\n",
            "**\n",
            "***\n",
            "****\n",
            "*****\n",
            "******\n",
            "*******\n",
            "********\n",
            "*********\n",
            "**********\n"
          ]
        }
      ]
    },
    {
      "cell_type": "code",
      "source": [
        "for i in range(3):\n",
        "  for j in range(5):\n",
        "    if j % 2 == 1:\n",
        "      print(\"*\", end=\"\")\n",
        "    else:\n",
        "      print(\" \", end=\"\")\n",
        "  print()\n"
      ],
      "metadata": {
        "colab": {
          "base_uri": "https://localhost:8080/"
        },
        "id": "QYw0iwi2M5dv",
        "outputId": "599760e6-c52e-435a-fee4-a6ad75cc7d69"
      },
      "execution_count": null,
      "outputs": [
        {
          "output_type": "stream",
          "name": "stdout",
          "text": [
            " * * \n",
            " * * \n",
            " * * \n"
          ]
        }
      ]
    },
    {
      "cell_type": "code",
      "source": [
        "for i in range(3):\n",
        "  for j in range(5):\n",
        "    if i % 2 == j % 2:\n",
        "      print(\"*\", end=\"\")\n",
        "    else:\n",
        "      print(\" \", end=\"\")\n",
        "  print()"
      ],
      "metadata": {
        "colab": {
          "base_uri": "https://localhost:8080/"
        },
        "id": "iqqoYVd7OMak",
        "outputId": "6f46eeda-a7d9-458a-b9cd-8c7fff6a409b"
      },
      "execution_count": null,
      "outputs": [
        {
          "output_type": "stream",
          "name": "stdout",
          "text": [
            "* * *\n",
            " * * \n",
            "* * *\n"
          ]
        }
      ]
    },
    {
      "cell_type": "code",
      "source": [
        "for i in range(3):\n",
        "  for j in range(4):\n",
        "   print(\"[]\", end = \"\")\n",
        "  print()"
      ],
      "metadata": {
        "colab": {
          "base_uri": "https://localhost:8080/"
        },
        "id": "9zWjJytXP-33",
        "outputId": "dc26cb2b-de5d-45e7-ed0d-bf80d0d409c9"
      },
      "execution_count": null,
      "outputs": [
        {
          "output_type": "stream",
          "name": "stdout",
          "text": [
            "[][][][]\n",
            "[][][][]\n",
            "[][][][]\n"
          ]
        }
      ]
    },
    {
      "cell_type": "code",
      "source": [
        "exams: int(input(\"What's the number of exams? \"))\n",
        "addExam = True\n",
        "\n",
        "while addExam = True:\n",
        "for student in range(5):\n",
        "  for grade in range(4):\n"
      ],
      "metadata": {
        "colab": {
          "base_uri": "https://localhost:8080/",
          "height": 176
        },
        "id": "H6CgMg66QaCL",
        "outputId": "fcaa9b00-d157-4a98-89b9-2008bfba7200"
      },
      "execution_count": null,
      "outputs": [
        {
          "output_type": "error",
          "ename": "NameError",
          "evalue": "name 'grad' is not defined",
          "traceback": [
            "\u001b[0;31m---------------------------------------------------------------------------\u001b[0m",
            "\u001b[0;31mNameError\u001b[0m                                 Traceback (most recent call last)",
            "\u001b[0;32m<ipython-input-36-7970d87f4019>\u001b[0m in \u001b[0;36m<cell line: 0>\u001b[0;34m()\u001b[0m\n\u001b[1;32m      1\u001b[0m \u001b[0;32mfor\u001b[0m \u001b[0mstudent\u001b[0m \u001b[0;32min\u001b[0m \u001b[0mrange\u001b[0m\u001b[0;34m(\u001b[0m\u001b[0;36m5\u001b[0m\u001b[0;34m)\u001b[0m\u001b[0;34m:\u001b[0m\u001b[0;34m\u001b[0m\u001b[0;34m\u001b[0m\u001b[0m\n\u001b[1;32m      2\u001b[0m   \u001b[0;32mfor\u001b[0m \u001b[0mgrade\u001b[0m \u001b[0;32min\u001b[0m \u001b[0mrange\u001b[0m\u001b[0;34m(\u001b[0m\u001b[0;36m4\u001b[0m\u001b[0;34m)\u001b[0m\u001b[0;34m:\u001b[0m\u001b[0;34m\u001b[0m\u001b[0;34m\u001b[0m\u001b[0m\n\u001b[0;32m----> 3\u001b[0;31m     \u001b[0mprint\u001b[0m\u001b[0;34m(\u001b[0m\u001b[0;34m\"[\"\u001b[0m\u001b[0;34m,\u001b[0m \u001b[0mstudent\u001b[0m\u001b[0;34m,\u001b[0m\u001b[0;34m\"]\"\u001b[0m\u001b[0;34m,\u001b[0m \u001b[0mgrad\u001b[0m\u001b[0;34m,\u001b[0m \u001b[0mend\u001b[0m \u001b[0;34m=\u001b[0m \u001b[0;34m\"\"\u001b[0m\u001b[0;34m)\u001b[0m\u001b[0;34m\u001b[0m\u001b[0;34m\u001b[0m\u001b[0m\n\u001b[0m",
            "\u001b[0;31mNameError\u001b[0m: name 'grad' is not defined"
          ]
        }
      ]
    },
    {
      "cell_type": "code",
      "source": [
        "def recArea(linght, width):\n",
        "  area = linght * width\n",
        "  return area\n",
        "\n",
        "result1 = recArea(3,6)\n",
        "result2 = recArea(4,7)\n",
        "\n",
        "print(\"Rectangl 1 area: \",result1)\n",
        "print(\"Rectangl 2 area: \",result2)\n",
        "\n"
      ],
      "metadata": {
        "colab": {
          "base_uri": "https://localhost:8080/"
        },
        "id": "BfAyyC-jljT7",
        "outputId": "fbfc8815-038b-4324-db25-2ee49a830e7c"
      },
      "execution_count": null,
      "outputs": [
        {
          "output_type": "stream",
          "name": "stdout",
          "text": [
            "Rectangl 1 area:  18\n",
            "Rectangl 2 area:  28\n"
          ]
        }
      ]
    },
    {
      "cell_type": "code",
      "source": [
        "def main():\n",
        "  sum = 0\n",
        "  for i in range(11):\n",
        "    square = i * i\n",
        "    sum = sum + square\n",
        "print(square, sum)\n"
      ],
      "metadata": {
        "colab": {
          "base_uri": "https://localhost:8080/",
          "height": 176
        },
        "id": "DZW6CUD9tBNY",
        "outputId": "a2f9b6d5-f265-423b-84cf-10829e305b03"
      },
      "execution_count": null,
      "outputs": [
        {
          "output_type": "error",
          "ename": "NameError",
          "evalue": "name 'square' is not defined",
          "traceback": [
            "\u001b[0;31m---------------------------------------------------------------------------\u001b[0m",
            "\u001b[0;31mNameError\u001b[0m                                 Traceback (most recent call last)",
            "\u001b[0;32m<ipython-input-11-40b4fab87cd0>\u001b[0m in \u001b[0;36m<cell line: 0>\u001b[0;34m()\u001b[0m\n\u001b[1;32m      4\u001b[0m     \u001b[0msquare\u001b[0m \u001b[0;34m=\u001b[0m \u001b[0mi\u001b[0m \u001b[0;34m*\u001b[0m \u001b[0mi\u001b[0m\u001b[0;34m\u001b[0m\u001b[0;34m\u001b[0m\u001b[0m\n\u001b[1;32m      5\u001b[0m     \u001b[0msum\u001b[0m \u001b[0;34m=\u001b[0m \u001b[0msum\u001b[0m \u001b[0;34m+\u001b[0m \u001b[0msquare\u001b[0m\u001b[0;34m\u001b[0m\u001b[0;34m\u001b[0m\u001b[0m\n\u001b[0;32m----> 6\u001b[0;31m \u001b[0mprint\u001b[0m\u001b[0;34m(\u001b[0m\u001b[0msquare\u001b[0m\u001b[0;34m,\u001b[0m \u001b[0msum\u001b[0m\u001b[0;34m)\u001b[0m\u001b[0;34m\u001b[0m\u001b[0;34m\u001b[0m\u001b[0m\n\u001b[0m",
            "\u001b[0;31mNameError\u001b[0m: name 'square' is not defined"
          ]
        }
      ]
    },
    {
      "cell_type": "code",
      "source": [
        "balance = 100000\n",
        "\n",
        "def deposit(amount):\n",
        "  global balance\n",
        "  balance = balance + amount\n",
        "\n",
        "deposit(3000)\n",
        "print(balance)"
      ],
      "metadata": {
        "colab": {
          "base_uri": "https://localhost:8080/"
        },
        "id": "GrhsXooSvfUn",
        "outputId": "c07b5ce2-ee77-4883-94b9-985d74c84af5"
      },
      "execution_count": null,
      "outputs": [
        {
          "output_type": "stream",
          "name": "stdout",
          "text": [
            "103000\n"
          ]
        }
      ]
    },
    {
      "cell_type": "code",
      "source": [
        "# function1\n",
        "def greet(name):\n",
        "    return f\"Hello {name}, welcome to Python\"\n",
        "\n",
        "# Get name from user input\n",
        "user_name = input(\"Enter your name: \")\n",
        "\n",
        "# Call the function and print the result\n",
        "print(greet(user_name))\n",
        "\n",
        "\n",
        "\n",
        "\n",
        "\n"
      ],
      "metadata": {
        "colab": {
          "base_uri": "https://localhost:8080/"
        },
        "id": "3VunY1Hbyf19",
        "outputId": "974e2aa5-d2e1-4c39-b3e0-18a85629b680"
      },
      "execution_count": null,
      "outputs": [
        {
          "output_type": "stream",
          "name": "stdout",
          "text": [
            "Enter your name: ali\n",
            "Hello user_name, welcome to Python\n"
          ]
        }
      ]
    },
    {
      "cell_type": "code",
      "source": [
        "\"\"\"\n",
        "    *\n",
        "   * *\n",
        "  * * *\n",
        " * * * *\n",
        "* * * * *\n",
        "\"\"\"\n",
        "for i in range(5):\n",
        "  print(\" \"* (5 - i), end = \"\")\n",
        "  for j in range(i + 1):\n",
        "    print(\"*\", end = \"\")\n",
        "  print()"
      ],
      "metadata": {
        "colab": {
          "base_uri": "https://localhost:8080/"
        },
        "id": "D-yv6K5GHch9",
        "outputId": "c59efe0b-533a-4786-9b3b-d8fff51d3b5f"
      },
      "execution_count": null,
      "outputs": [
        {
          "output_type": "stream",
          "name": "stdout",
          "text": [
            "     *\n",
            "    **\n",
            "   ***\n",
            "  ****\n",
            " *****\n"
          ]
        }
      ]
    },
    {
      "cell_type": "code",
      "source": [
        "\"\"\"\n",
        "output\n",
        "1    *\n",
        "2   * *\n",
        "3  * * *\n",
        "4 * * * *\n",
        "5* * * * *\n",
        "\"\"\"\n",
        "\n",
        "for i in range(5):\n",
        "  print(\" \" * (4 - i), end=\"\")\n",
        "  for j in range(i + 1):\n",
        "    print(\"* \", end=\"\")\n",
        "  print()\n"
      ],
      "metadata": {
        "colab": {
          "base_uri": "https://localhost:8080/"
        },
        "id": "U_7i2mIqJNlt",
        "outputId": "61d67d83-c68e-4050-86fb-f2c7feb53780"
      },
      "execution_count": null,
      "outputs": [
        {
          "output_type": "stream",
          "name": "stdout",
          "text": [
            "    * \n",
            "   * * \n",
            "  * * * \n",
            " * * * * \n",
            "* * * * * \n"
          ]
        }
      ]
    },
    {
      "cell_type": "code",
      "source": [
        "\"\"\"\n",
        "Calculate the absolute difference\n",
        "between the sum of diagonals\n",
        "\n",
        "1) Note: |x| is the absolute value of x\n",
        "2) input matrix: arr[n][m],\n",
        " n and m shpuld be equal.\n",
        "\n",
        "input:\n",
        "1 2 3\n",
        "4 5 6\n",
        "9 8 9\n",
        "output: 2\n",
        "\n",
        "input:\n",
        "11   2   4\n",
        "4    5   6\n",
        "10   8 -12\n",
        "\"\"\"\n",
        "\n",
        "# Example input\n",
        "arr = [\n",
        "    [11, 2, 4],\n",
        "    [4, 5, 6],\n",
        "    [10, 8, -12]\n",
        "]\n",
        "\n",
        "# Initialize sums\n",
        "diagonalSum1 = 0  # For the primary diagonal\n",
        "diagonalSum2 = 0  # For the secondary diagonal\n",
        "\n",
        "# Loop through the matrix\n",
        "for i in range(len(arr)):\n",
        "    # Absolute value of primary diagonal element\n",
        "    val1 = arr[i][i]\n",
        "    if val1 < 0:\n",
        "        val1 = -val1\n",
        "    diagonalSum1 += val1\n",
        "\n",
        "    # Absolute value of secondary diagonal element\n",
        "    val2 = arr[i][len(arr) - 1 - i]\n",
        "    if val2 < 0:\n",
        "        val2 = -val2\n",
        "    diagonalSum2 += val2\n",
        "\n",
        "# Calculate absolute difference\n",
        "difference = abs(diagonalSum1 - diagonalSum2)\n",
        "\n",
        "# Output result\n",
        "print(difference)\n",
        "\n"
      ],
      "metadata": {
        "colab": {
          "base_uri": "https://localhost:8080/"
        },
        "id": "DD29DceR3ZSZ",
        "outputId": "42f761bf-3779-4126-e493-c50afbffd56b"
      },
      "execution_count": null,
      "outputs": [
        {
          "output_type": "stream",
          "name": "stdout",
          "text": [
            "9\n"
          ]
        }
      ]
    },
    {
      "cell_type": "code",
      "source": [
        "numbers = [4, 8 , 3]\n",
        "numbers.append(10)\n",
        "print(numbers)"
      ],
      "metadata": {
        "colab": {
          "base_uri": "https://localhost:8080/"
        },
        "id": "pSZoJ6oFPFlM",
        "outputId": "ba23fdf2-b264-4658-a078-a2b0fc2d932a"
      },
      "execution_count": null,
      "outputs": [
        {
          "output_type": "stream",
          "name": "stdout",
          "text": [
            "[4, 8, 3, 10]\n"
          ]
        }
      ]
    },
    {
      "cell_type": "code",
      "source": [
        "numbers = [4, 8 , 3]\n",
        "numbers.insert(2, 5)\n",
        "print(numbers)"
      ],
      "metadata": {
        "colab": {
          "base_uri": "https://localhost:8080/"
        },
        "id": "LFXyyowiRJfK",
        "outputId": "0f18a06c-fa4d-4f8d-bb7f-dcea9860206f"
      },
      "execution_count": null,
      "outputs": [
        {
          "output_type": "stream",
          "name": "stdout",
          "text": [
            "[4, 8, 5, 3]\n"
          ]
        }
      ]
    },
    {
      "cell_type": "code",
      "source": [
        "numbers = [4, 8 , 3]\n",
        "if 10 in numbers :\n",
        "  print(\"10 is in the list\")\n",
        "else:\n",
        "  print(\"10 is not in the list\")"
      ],
      "metadata": {
        "colab": {
          "base_uri": "https://localhost:8080/"
        },
        "id": "QoGJnUF590dg",
        "outputId": "1248d8ea-ff19-4015-a09c-2bb237574485"
      },
      "execution_count": null,
      "outputs": [
        {
          "output_type": "stream",
          "name": "stdout",
          "text": [
            "10 is not in the list\n"
          ]
        }
      ]
    },
    {
      "cell_type": "code",
      "source": [
        "numbers = [4, 8 , 3]\n",
        "n = numbers.index(8)\n",
        "print(n)"
      ],
      "metadata": {
        "colab": {
          "base_uri": "https://localhost:8080/"
        },
        "id": "C4IncEJ6R6Lm",
        "outputId": "f4e841b5-2457-4b39-a37d-042cc538808e"
      },
      "execution_count": null,
      "outputs": [
        {
          "output_type": "stream",
          "name": "stdout",
          "text": [
            "1\n"
          ]
        }
      ]
    },
    {
      "cell_type": "code",
      "source": [
        "numbers = [4, 8 , 3]\n",
        "numbers.pop(1)\n",
        "print(numbers)"
      ],
      "metadata": {
        "colab": {
          "base_uri": "https://localhost:8080/"
        },
        "id": "cnD1aEnOSwZI",
        "outputId": "b41a9da5-1769-4274-f327-8b608329f2fa"
      },
      "execution_count": null,
      "outputs": [
        {
          "output_type": "stream",
          "name": "stdout",
          "text": [
            "[4, 3]\n"
          ]
        }
      ]
    },
    {
      "cell_type": "code",
      "source": [
        "numbers = [4, 8 , 3]\n",
        "numbers.remove(3)\n",
        "print(numbers)"
      ],
      "metadata": {
        "colab": {
          "base_uri": "https://localhost:8080/"
        },
        "id": "dMoTxWyqS6kF",
        "outputId": "442cad71-6942-4331-f376-a8db353bcd23"
      },
      "execution_count": null,
      "outputs": [
        {
          "output_type": "stream",
          "name": "stdout",
          "text": [
            "[4, 8]\n"
          ]
        }
      ]
    },
    {
      "cell_type": "code",
      "source": [
        "myFriends = [\"Fritz\", \"Cindy\"]\n",
        "yourFriends = [\""
      ],
      "metadata": {
        "id": "czxt_IHlTwPN"
      },
      "execution_count": null,
      "outputs": []
    },
    {
      "cell_type": "code",
      "source": [
        "n = [1, 2 , 3] * 3\n",
        "print(n)"
      ],
      "metadata": {
        "colab": {
          "base_uri": "https://localhost:8080/"
        },
        "id": "66axzlp4UOo_",
        "outputId": "ff953165-54f7-46a5-b40f-694879592413"
      },
      "execution_count": null,
      "outputs": [
        {
          "output_type": "stream",
          "name": "stdout",
          "text": [
            "[1, 2, 3, 1, 2, 3, 1, 2, 3]\n"
          ]
        }
      ]
    },
    {
      "cell_type": "code",
      "source": [
        "\n",
        "print(sum([1, 4, 9, 10]))\n",
        "print(max([1, 4, 9, 10]))\n",
        "print(min([1, 4, 9, 10]))\n"
      ],
      "metadata": {
        "colab": {
          "base_uri": "https://localhost:8080/"
        },
        "id": "ZcOBA8icVZVi",
        "outputId": "a70e0072-cf18-4b23-8080-a58224466699"
      },
      "execution_count": null,
      "outputs": [
        {
          "output_type": "stream",
          "name": "stdout",
          "text": [
            "24\n",
            "10\n",
            "1\n"
          ]
        }
      ]
    },
    {
      "cell_type": "code",
      "source": [
        "values = [1, 16, 9, 4]\n",
        "values.sort()\n",
        "print(values)"
      ],
      "metadata": {
        "colab": {
          "base_uri": "https://localhost:8080/"
        },
        "id": "zRlod0snV5ne",
        "outputId": "4adad8e4-2953-4e41-f573-b5225a68f157"
      },
      "execution_count": null,
      "outputs": [
        {
          "output_type": "stream",
          "name": "stdout",
          "text": [
            "[1, 4, 9, 16]\n"
          ]
        }
      ]
    },
    {
      "cell_type": "code",
      "source": [
        "\n",
        "price = [1.2, 2.3, 3.4]\n",
        "n = price\n",
        "price.remove(1.2)\n",
        "print(n)\n"
      ],
      "metadata": {
        "colab": {
          "base_uri": "https://localhost:8080/"
        },
        "id": "usvIIbHVXFdk",
        "outputId": "ebf4e09f-8066-4014-ead3-57b2d6baf054"
      },
      "execution_count": null,
      "outputs": [
        {
          "output_type": "stream",
          "name": "stdout",
          "text": [
            "[2.3, 3.4]\n"
          ]
        }
      ]
    },
    {
      "cell_type": "code",
      "source": [
        "price = [1.2, 2.3, 3.4]\n",
        "n = list(price)\n",
        "price.remove(1.2)\n",
        "print(n)"
      ],
      "metadata": {
        "colab": {
          "base_uri": "https://localhost:8080/"
        },
        "id": "sYNhqHDobYjD",
        "outputId": "3fced075-e346-4910-a3c9-04935bf56569"
      },
      "execution_count": null,
      "outputs": [
        {
          "output_type": "stream",
          "name": "stdout",
          "text": [
            "[1.2, 2.3, 3.4]\n"
          ]
        }
      ]
    },
    {
      "cell_type": "code",
      "source": [
        "            #   0  1   2   3   4   5   6   7   8\n",
        "tempretures = [18, 21, 24, 30, 37, 40, 22, 36, 39]\n",
        "print(tempretures[0:3])\n",
        "print(tempretures[3:6])\n"
      ],
      "metadata": {
        "colab": {
          "base_uri": "https://localhost:8080/"
        },
        "id": "cXHi1MoHcWn0",
        "outputId": "f44310b4-771d-4153-84e4-6bdad22b7ab1"
      },
      "execution_count": null,
      "outputs": [
        {
          "output_type": "stream",
          "name": "stdout",
          "text": [
            "[18, 21, 24]\n",
            "[30, 37, 40]\n",
            "[18, 21, 24, 30, 37, 40, 22, 36, 39]\n"
          ]
        }
      ]
    },
    {
      "cell_type": "code",
      "source": [
        "friends = [\"Ali\", \"Omar\", \"Mohammed\"]\n",
        "friends[:3] = [\"Zaid\", \"Mansoor\", \"Abdullah\"]\n",
        "print(friends)\n",
        "\n"
      ],
      "metadata": {
        "colab": {
          "base_uri": "https://localhost:8080/"
        },
        "id": "PjP4JtQqdYiR",
        "outputId": "8730ada5-8861-4ac1-bd1d-6a1a79695a71"
      },
      "execution_count": null,
      "outputs": [
        {
          "output_type": "stream",
          "name": "stdout",
          "text": [
            "['Zaid', 'Mansoor', 'Abdullah']\n"
          ]
        }
      ]
    },
    {
      "cell_type": "code",
      "source": [
        "n = 5\n",
        "values = []\n",
        "for i in range(n) :\n",
        "  values.append(i*i)\n",
        "print(values)"
      ],
      "metadata": {
        "colab": {
          "base_uri": "https://localhost:8080/"
        },
        "id": "xLKncy2MgCOl",
        "outputId": "36d9091d-dbc9-4166-ae2c-3b8424182071"
      },
      "execution_count": null,
      "outputs": [
        {
          "output_type": "stream",
          "name": "stdout",
          "text": [
            "[0, 1, 4, 9, 16]\n"
          ]
        }
      ]
    },
    {
      "cell_type": "code",
      "source": [
        "names = [\"Ali\", \"Omar\", \"Mohammed\"]\n",
        "result = \" \"\n",
        "for element in names :\n",
        "  result = result + \" \"+ element\n",
        "print(result)"
      ],
      "metadata": {
        "colab": {
          "base_uri": "https://localhost:8080/"
        },
        "id": "XtoWMjzogwma",
        "outputId": "2952025e-d699-4dbb-8983-279c8b7d22db"
      },
      "execution_count": null,
      "outputs": [
        {
          "output_type": "stream",
          "name": "stdout",
          "text": [
            "  Ali Omar Mohammed\n"
          ]
        }
      ]
    },
    {
      "cell_type": "code",
      "source": [
        "#linear search\n",
        "numbers = [1, 2, 5, 0, 13, 20]\n",
        "value = 5\n",
        "for i in range(len(numbers)):\n",
        "  if numbers[i] == value:\n",
        "    print(i)\n",
        "\n"
      ],
      "metadata": {
        "colab": {
          "base_uri": "https://localhost:8080/"
        },
        "id": "lEWwyBHsvzEo",
        "outputId": "1fe4f095-6c99-436e-8af0-f8dc736f1029"
      },
      "execution_count": null,
      "outputs": [
        {
          "output_type": "stream",
          "name": "stdout",
          "text": [
            "2\n"
          ]
        }
      ]
    },
    {
      "cell_type": "code",
      "source": [
        "#binary search\n",
        "\n",
        "def binary_search(arr, target):\n",
        "    # Step 1: Set the starting and ending positions\n",
        "    low = 0\n",
        "    high = len(arr) - 1\n",
        "\n",
        "    # Step 2: Keep searching while low is less than or equal to high\n",
        "    while low <= high:\n",
        "        # Step 3: Find the middle index\n",
        "        mid = (low + high) // 2\n",
        "        guess = arr[mid]\n",
        "\n",
        "        # Step 4: Check if the middle value is the target\n",
        "        if guess == target:\n",
        "            return mid  # Found! Return the index\n",
        "\n",
        "        # Step 5: If the guess is too low, ignore the left half\n",
        "        elif guess < target:\n",
        "            low = mid + 1\n",
        "\n",
        "        # Step 6: If the guess is too high, ignore the right half\n",
        "        else:\n",
        "            high = mid - 1\n",
        "\n",
        "    return -1  # Not found\n",
        "\n",
        "\n",
        "# Example use:\n",
        "my_list = [1, 3, 5, 7, 9, 11]\n",
        "target_number = 7\n",
        "\n",
        "result = binary_search(my_list, target_number)\n",
        "\n",
        "if result != -1:\n",
        "    print(f\"Found at index {result}\")\n",
        "else:\n",
        "    print(\"Not found\")\n"
      ],
      "metadata": {
        "colab": {
          "base_uri": "https://localhost:8080/"
        },
        "id": "fYucX1S9w61O",
        "outputId": "85b8567f-d0b9-4a74-bdc8-4b864151d737"
      },
      "execution_count": null,
      "outputs": [
        {
          "output_type": "stream",
          "name": "stdout",
          "text": [
            "Found at index 3\n"
          ]
        }
      ]
    },
    {
      "cell_type": "code",
      "source": [
        "matrix = [\n",
        "    [0, 3, 0],\n",
        "    [3, 2, 1],\n",
        "    [4, 2, 8],\n",
        "    [1, 9, 3],\n",
        "    [2, 7, 0]\n",
        "]\n",
        "\n",
        "x = matrix[3][2]\n",
        "\n",
        "print(x)"
      ],
      "metadata": {
        "colab": {
          "base_uri": "https://localhost:8080/"
        },
        "id": "diCAMct5zumW",
        "outputId": "8232c798-ec07-49a2-c5ff-5c591afed9a7"
      },
      "execution_count": null,
      "outputs": [
        {
          "output_type": "stream",
          "name": "stdout",
          "text": [
            "3\n"
          ]
        }
      ]
    },
    {
      "cell_type": "code",
      "source": [
        "#Dectionary data structure\n",
        "\n",
        "favColor = {\"Malika\": \"Balck\", \"Intisar\": \"Red\"}\n",
        "numbers = {\"even\": [2, 4, 6], \"odd\": [1, 3, 5]}\n",
        "\n",
        "print(favColor[\"Malika\"])\n",
        "print(numbers[\"even\"])"
      ],
      "metadata": {
        "colab": {
          "base_uri": "https://localhost:8080/"
        },
        "id": "5zcVxoZC2HSg",
        "outputId": "4dc8d851-8257-4bb7-f283-020f6ef0de62"
      },
      "execution_count": null,
      "outputs": [
        {
          "output_type": "stream",
          "name": "stdout",
          "text": [
            "Balck\n",
            "[2, 4, 6]\n"
          ]
        }
      ]
    },
    {
      "cell_type": "markdown",
      "source": [],
      "metadata": {
        "id": "cUMboKktCGPf"
      }
    },
    {
      "cell_type": "markdown",
      "source": [
        "Today's tasks:\n",
        "\n",
        "✅:1.   Search about difference between methods and functions. (Post in LinkedIn:)\n",
        "2.   Binary search (implement it and ipload in repo)\n",
        "3.   Problem of the day upload in repo\n",
        "4.   Solve problem at slide 12 in (021 file)\n",
        "\n",
        "other Tasks:\n",
        "\n",
        "\n",
        "\n",
        "1.   revise pre problems of the day\n",
        "2.   excersie in PDF\n",
        "\n",
        "\n",
        "\n",
        "\n",
        "\n"
      ],
      "metadata": {
        "id": "b3vmyG8D3C7L"
      }
    },
    {
      "cell_type": "code",
      "source": [],
      "metadata": {
        "id": "hytce8K44JrH"
      },
      "execution_count": null,
      "outputs": []
    },
    {
      "cell_type": "code",
      "source": [
        "contacts = { \"Fred\": 9879252,\"Mike\": 283569,}\n",
        "if \"Fred\" in contacts:\n",
        "  print(\"Fred's number is \", contacts[\"Fred\"])\n",
        "else:\n",
        "  print(\"Fred is not in contacts\")\n",
        "\n",
        "number = contacts.get(\"Fred\")\n",
        "print(\"Dial \"+str (number))\n",
        "\n",
        "contacts[\"Fred\"] = 123456\n",
        "print(contacts)\n"
      ],
      "metadata": {
        "colab": {
          "base_uri": "https://localhost:8080/"
        },
        "id": "tXnoyurb6Pom",
        "outputId": "ee01f80a-c177-457e-a0a2-1b3ae17eb5c4"
      },
      "execution_count": null,
      "outputs": [
        {
          "output_type": "stream",
          "name": "stdout",
          "text": [
            "Fred's number is  9879252\n",
            "Dial 9879252\n",
            "{'Fred': 123456, 'Mike': 283569}\n"
          ]
        }
      ]
    },
    {
      "cell_type": "code",
      "source": [
        "favColor = {}\n",
        "\n",
        "favColor[\"Dina\"] = \"Maroon\"\n",
        "favColor[\"Ali\"] = \"Orange\"\n",
        "favColor[\"Moza\"] = \"Pink\"\n",
        "\n",
        "print(favColor)"
      ],
      "metadata": {
        "colab": {
          "base_uri": "https://localhost:8080/"
        },
        "id": "18eJYmdL7HH3",
        "outputId": "93d7d09e-4632-4e8c-bf21-42d083eb0e2d"
      },
      "execution_count": null,
      "outputs": [
        {
          "output_type": "stream",
          "name": "stdout",
          "text": [
            "{'Dina': 'Maroon', 'Ali': 'Orange', 'Moza': 'Pink'}\n"
          ]
        }
      ]
    },
    {
      "cell_type": "code",
      "source": [
        "contacts = {\"Fred\": 9879252,\"Mike\": 283569, \"Mary\": 7287089, \"Sara\": 98652}\n",
        "contacts.pop(\"Sara\")\n",
        "print(contacts)\n",
        "\n",
        "for key in contacts:\n",
        "  print(key)\n",
        "\n",
        "for item in contacts:\n",
        "  print(item[0], item[1])"
      ],
      "metadata": {
        "colab": {
          "base_uri": "https://localhost:8080/"
        },
        "id": "g69-Os78-yKQ",
        "outputId": "251323cd-805f-481e-d822-9a15a595953d"
      },
      "execution_count": null,
      "outputs": [
        {
          "output_type": "stream",
          "name": "stdout",
          "text": [
            "{'Fred': 9879252, 'Mike': 283569, 'Mary': 7287089}\n",
            "Fred\n",
            "Mike\n",
            "Mary\n",
            "F r\n",
            "M i\n",
            "M a\n"
          ]
        }
      ]
    },
    {
      "cell_type": "code",
      "source": [
        "t1 = (1, 2, 3)\n",
        "t2 = (\"a\", \"b\", \"c\", \"d\")\n",
        "t3 = (200, \"A\", [4, 5])"
      ],
      "metadata": {
        "id": "_akX_EST_hm1"
      },
      "execution_count": null,
      "outputs": []
    },
    {
      "cell_type": "code",
      "source": [
        "from re import T\n",
        "t1 = (\"a\", \"b\", \"c\")\n",
        "print(t1[::-1])\n",
        "t2 = ()"
      ],
      "metadata": {
        "id": "-IQVuI1RCWIW"
      },
      "execution_count": null,
      "outputs": []
    },
    {
      "cell_type": "code",
      "source": [
        "#Wed 23/4/2025"
      ],
      "metadata": {
        "id": "Fxw4tZUWD4xY"
      },
      "execution_count": null,
      "outputs": []
    },
    {
      "cell_type": "code",
      "source": [
        "#Creating set\n",
        "numberSet = {1, 2, 3, 4, 3, 2}\n",
        "print(numberSet)\n",
        "\n",
        "#Crating an empty set\n",
        "emptySet = {}\n",
        "print(emptySet)\n",
        "\n",
        "emptySet = set()\n",
        "print(emptySet)"
      ],
      "metadata": {
        "colab": {
          "base_uri": "https://localhost:8080/"
        },
        "id": "zq387QCcEIey",
        "outputId": "34610877-b470-4ed9-8f8a-464b54a9ac52"
      },
      "execution_count": null,
      "outputs": [
        {
          "output_type": "stream",
          "name": "stdout",
          "text": [
            "{1, 2, 3, 4}\n",
            "{}\n",
            "set()\n"
          ]
        }
      ]
    },
    {
      "cell_type": "code",
      "source": [
        "#type function\n",
        "#set function\n",
        "set_with_list = set([1, 2, 3])\n",
        "print(type(set_with_list))\n",
        "print(set_with_list)"
      ],
      "metadata": {
        "colab": {
          "base_uri": "https://localhost:8080/"
        },
        "id": "nOJeMyVdGzxZ",
        "outputId": "72a3a5f3-64f0-4293-c803-b4366469ee34"
      },
      "execution_count": null,
      "outputs": [
        {
          "output_type": "stream",
          "name": "stdout",
          "text": [
            "<class 'set'>\n",
            "{1, 2, 3}\n"
          ]
        }
      ]
    },
    {
      "cell_type": "code",
      "source": [
        "from abc import update_abstractmethods\n",
        "#Adding elements to a set\n",
        "\n",
        "numbersSet = set([1, 2, 3])\n",
        "numbersSet.add(4)\n",
        "print(numbersSet)\n",
        "\n",
        "numbersSet.update([5, 6])\n",
        "print(numbersSet)"
      ],
      "metadata": {
        "colab": {
          "base_uri": "https://localhost:8080/"
        },
        "id": "sDOAEX7LH7IX",
        "outputId": "1e8eec21-7626-4a83-c750-cd9d32ed5146"
      },
      "execution_count": null,
      "outputs": [
        {
          "output_type": "stream",
          "name": "stdout",
          "text": [
            "{1, 2, 3, 4}\n",
            "{1, 2, 3, 4, 5, 6}\n"
          ]
        }
      ]
    },
    {
      "cell_type": "code",
      "source": [
        "#Set Operations\n",
        "\n",
        "A = {1, 2 , 3, 4}\n",
        "B = {2, 4, 6, 8, 6, 6}\n",
        "\n",
        "print('A= ' ,A)\n",
        "print('B= ' ,B)\n",
        "\n",
        "s1 = A | B\n",
        "print('Union: A | B =' ,s1)\n",
        "\n",
        "s2 = A & B\n",
        "print('Intersection: A & B =' ,s2)\n",
        "\n",
        "s3 = A - B\n",
        "print('Difference: A - B =' ,s3)\n",
        "\n",
        "s4 = A ^ B\n",
        "print('Symmetric Difference: A ^ B =' ,s4)"
      ],
      "metadata": {
        "colab": {
          "base_uri": "https://localhost:8080/"
        },
        "id": "n3jOOaRyJdZJ",
        "outputId": "e5051389-9615-412d-dcb4-d971af4da6e2"
      },
      "execution_count": null,
      "outputs": [
        {
          "output_type": "stream",
          "name": "stdout",
          "text": [
            "A=  {1, 2, 3, 4}\n",
            "B=  {8, 2, 4, 6}\n",
            "Union: A | B = {1, 2, 3, 4, 6, 8}\n",
            "Intersection: A & B = {2, 4}\n",
            "Difference: A - B = {1, 3}\n",
            "Symmetric Difference: A ^ B = {1, 3, 6, 8}\n"
          ]
        }
      ]
    },
    {
      "cell_type": "code",
      "source": [],
      "metadata": {
        "id": "W4LnIyLOLK-B"
      },
      "execution_count": null,
      "outputs": []
    },
    {
      "cell_type": "markdown",
      "source": [
        "Today's Tasks:\n",
        "1. Slides (35 - 38)\n",
        "  in 023 polf\n",
        "2. Programming evelotion that got to OPP"
      ],
      "metadata": {
        "id": "ebo56MoyL-Gb"
      }
    },
    {
      "cell_type": "code",
      "source": [
        "from os import name\n",
        "from typing import AsyncGenerator\n",
        "from os import name\n",
        "#OOP\n",
        "\"\"\"\n",
        "1. Class\n",
        "2. Constructor:\n",
        "    self\n",
        "    attributes\n",
        "3. method (behaveior)\n",
        "4. Instance\n",
        "5.\n",
        "\"\"\"\n",
        "\n",
        "class Dog:\n",
        "  def __init__(self, name, age):\n",
        "    self._name = name\n",
        "    self._age = age\n",
        "\n",
        "  def bark(self):\n",
        "     return f\"{self._name} says woof!\"\n",
        "\n",
        "  def getName(self):\n",
        "    return self._name\n",
        "\n",
        "  def getAge(self):\n",
        "    return self._age\n",
        "\n",
        "  def updateName(self, name):\n",
        "    self._name = name\n",
        "\n",
        "  def setAge(self, age):\n",
        "    self._age = age\n",
        "\n",
        "my_dog = Dog(\"Buddy\", 3)\n",
        "my_dog.bark()"
      ],
      "metadata": {
        "colab": {
          "base_uri": "https://localhost:8080/",
          "height": 36
        },
        "id": "poMFdE6kMwkJ",
        "outputId": "26db4782-004a-46f8-b767-30eea4469290"
      },
      "execution_count": null,
      "outputs": [
        {
          "output_type": "execute_result",
          "data": {
            "text/plain": [
              "'Buddy says woof!'"
            ],
            "application/vnd.google.colaboratory.intrinsic+json": {
              "type": "string"
            }
          },
          "metadata": {},
          "execution_count": 14
        }
      ]
    },
    {
      "cell_type": "code",
      "source": [
        "\n",
        "class Car:\n",
        "  def __init__(self, make, model, year):\n",
        "    self.make = make\n",
        "    self.model = model\n",
        "    self.year =year\n",
        "\n",
        "  def desplay_details(self, make, model, year):\n",
        "    return f\"{self.make} {self.model} {self.year}\"\n",
        "\n",
        "car1 = Car(\"Toyota\", \"Camry\", 2022)\n",
        "car1.desplay_details(\"Toyota\", \"Camry\", 2022)\n",
        "\n",
        "car2 = Car(\"Lexus\", \"ls\", 2023)\n",
        "car2.desplay_details(\"Lexus\", \"ls\", 2023)\n",
        "\n",
        "car3 = Car(\"Honda\", \"Acord\", 2023)\n",
        "car3.desplay_details(\"Honda\", \"Acord\", 2023)"
      ],
      "metadata": {
        "colab": {
          "base_uri": "https://localhost:8080/",
          "height": 36
        },
        "id": "dhUbx8GmgVMh",
        "outputId": "80e375a1-f324-4eb8-e509-99f8aba4960d"
      },
      "execution_count": null,
      "outputs": [
        {
          "output_type": "execute_result",
          "data": {
            "text/plain": [
              "'Honda Acord 2023'"
            ],
            "application/vnd.google.colaboratory.intrinsic+json": {
              "type": "string"
            }
          },
          "metadata": {},
          "execution_count": 42
        }
      ]
    },
    {
      "cell_type": "code",
      "source": [
        "\n",
        "class BankAccount:\n",
        "  def __init__(self, owner, accountNumber, expiryDate = 0, balance = 0):\n",
        "    self.owner = owner\n",
        "    self.balance = balance\n",
        "    self.accountNumber = accountNumber\n",
        "    self.expiryDate = expiryDate\n",
        "\n",
        "  def deposit(Self, amount):\n",
        "    if amount > 0:\n",
        "      self.balance += amount\n",
        "      return self.balance\n",
        "    else:\n",
        "      return \"Deposit amount must be positive.\"\n",
        "\n",
        "  def withdraw(self, amount):\n",
        "    if amount > 0:\n",
        "      if amount <= self.balance:\n",
        "        self.balance -= amount\n",
        "        return self.balance\n",
        "      else:\n",
        "        return \"Insufficient funds.\"\n",
        "    else:\n",
        "      return \"Withdrawal amount must be positive.\"\n",
        "\n",
        "  def get_balance(self):\n",
        "    return self.balance\n",
        "\n",
        "account = BankAccount(\"Alice\", 500)\n",
        "\n",
        "new_balance = account.deposit(200)\n",
        "print(new_balance)\n",
        "\n",
        "new_balance = account.withdraw(100)\n",
        "print(new_balance)\n",
        "\n",
        "balance = account.get_balance()\n",
        "print(balance)"
      ],
      "metadata": {
        "colab": {
          "base_uri": "https://localhost:8080/",
          "height": 345
        },
        "id": "w3Ju10f-jhMh",
        "outputId": "650c87e1-b661-48a4-84de-dada6ad24ee3"
      },
      "execution_count": null,
      "outputs": [
        {
          "output_type": "error",
          "ename": "NameError",
          "evalue": "name 'self' is not defined",
          "traceback": [
            "\u001b[0;31m---------------------------------------------------------------------------\u001b[0m",
            "\u001b[0;31mNameError\u001b[0m                                 Traceback (most recent call last)",
            "\u001b[0;32m<ipython-input-49-fd770696cfce>\u001b[0m in \u001b[0;36m<cell line: 0>\u001b[0;34m()\u001b[0m\n\u001b[1;32m     28\u001b[0m \u001b[0maccount\u001b[0m \u001b[0;34m=\u001b[0m \u001b[0mBankAccount\u001b[0m\u001b[0;34m(\u001b[0m\u001b[0;34m\"Alice\"\u001b[0m\u001b[0;34m,\u001b[0m \u001b[0;36m500\u001b[0m\u001b[0;34m)\u001b[0m\u001b[0;34m\u001b[0m\u001b[0;34m\u001b[0m\u001b[0m\n\u001b[1;32m     29\u001b[0m \u001b[0;34m\u001b[0m\u001b[0m\n\u001b[0;32m---> 30\u001b[0;31m \u001b[0mnew_balance\u001b[0m \u001b[0;34m=\u001b[0m \u001b[0maccount\u001b[0m\u001b[0;34m.\u001b[0m\u001b[0mdeposit\u001b[0m\u001b[0;34m(\u001b[0m\u001b[0;36m200\u001b[0m\u001b[0;34m)\u001b[0m\u001b[0;34m\u001b[0m\u001b[0;34m\u001b[0m\u001b[0m\n\u001b[0m\u001b[1;32m     31\u001b[0m \u001b[0mprint\u001b[0m\u001b[0;34m(\u001b[0m\u001b[0mnew_balance\u001b[0m\u001b[0;34m)\u001b[0m\u001b[0;34m\u001b[0m\u001b[0;34m\u001b[0m\u001b[0m\n\u001b[1;32m     32\u001b[0m \u001b[0;34m\u001b[0m\u001b[0m\n",
            "\u001b[0;32m<ipython-input-49-fd770696cfce>\u001b[0m in \u001b[0;36mdeposit\u001b[0;34m(Self, amount)\u001b[0m\n\u001b[1;32m      8\u001b[0m   \u001b[0;32mdef\u001b[0m \u001b[0mdeposit\u001b[0m\u001b[0;34m(\u001b[0m\u001b[0mSelf\u001b[0m\u001b[0;34m,\u001b[0m \u001b[0mamount\u001b[0m\u001b[0;34m)\u001b[0m\u001b[0;34m:\u001b[0m\u001b[0;34m\u001b[0m\u001b[0;34m\u001b[0m\u001b[0m\n\u001b[1;32m      9\u001b[0m     \u001b[0;32mif\u001b[0m \u001b[0mamount\u001b[0m \u001b[0;34m>\u001b[0m \u001b[0;36m0\u001b[0m\u001b[0;34m:\u001b[0m\u001b[0;34m\u001b[0m\u001b[0;34m\u001b[0m\u001b[0m\n\u001b[0;32m---> 10\u001b[0;31m       \u001b[0mself\u001b[0m\u001b[0;34m.\u001b[0m\u001b[0mbalance\u001b[0m \u001b[0;34m+=\u001b[0m \u001b[0mamount\u001b[0m\u001b[0;34m\u001b[0m\u001b[0;34m\u001b[0m\u001b[0m\n\u001b[0m\u001b[1;32m     11\u001b[0m       \u001b[0;32mreturn\u001b[0m \u001b[0mself\u001b[0m\u001b[0;34m.\u001b[0m\u001b[0mbalance\u001b[0m\u001b[0;34m\u001b[0m\u001b[0;34m\u001b[0m\u001b[0m\n\u001b[1;32m     12\u001b[0m     \u001b[0;32melse\u001b[0m\u001b[0;34m:\u001b[0m\u001b[0;34m\u001b[0m\u001b[0;34m\u001b[0m\u001b[0m\n",
            "\u001b[0;31mNameError\u001b[0m: name 'self' is not defined"
          ]
        }
      ]
    },
    {
      "cell_type": "code",
      "source": [
        "class Kid:\n",
        "  def __init__(self, name, age):\n",
        "    self.name = name\n",
        "    self._age = age #protected attribute\n",
        "\n",
        "  def _grow_older(self): #protected methon\n",
        "    self._age += 1\n",
        "\n",
        "  my_kid = Kid(\"Tom\", 5)\n",
        "  print(my_kid._age) #Allowed, but discouraged\n",
        "  my_kid._grow_older() #Allowed, but discouraged"
      ],
      "metadata": {
        "colab": {
          "base_uri": "https://localhost:8080/",
          "height": 345
        },
        "id": "jPIyQm939LF2",
        "outputId": "a9ef7e20-d295-4993-c444-a435931eed29"
      },
      "execution_count": null,
      "outputs": [
        {
          "output_type": "error",
          "ename": "NameError",
          "evalue": "name 'Kid' is not defined",
          "traceback": [
            "\u001b[0;31m---------------------------------------------------------------------------\u001b[0m",
            "\u001b[0;31mNameError\u001b[0m                                 Traceback (most recent call last)",
            "\u001b[0;32m<ipython-input-3-9b2012e69053>\u001b[0m in \u001b[0;36m<cell line: 0>\u001b[0;34m()\u001b[0m\n\u001b[0;32m----> 1\u001b[0;31m \u001b[0;32mclass\u001b[0m \u001b[0mKid\u001b[0m\u001b[0;34m:\u001b[0m\u001b[0;34m\u001b[0m\u001b[0;34m\u001b[0m\u001b[0m\n\u001b[0m\u001b[1;32m      2\u001b[0m   \u001b[0;32mdef\u001b[0m \u001b[0m__init__\u001b[0m\u001b[0;34m(\u001b[0m\u001b[0mself\u001b[0m\u001b[0;34m,\u001b[0m \u001b[0mname\u001b[0m\u001b[0;34m,\u001b[0m \u001b[0mage\u001b[0m\u001b[0;34m)\u001b[0m\u001b[0;34m:\u001b[0m\u001b[0;34m\u001b[0m\u001b[0;34m\u001b[0m\u001b[0m\n\u001b[1;32m      3\u001b[0m     \u001b[0mself\u001b[0m\u001b[0;34m.\u001b[0m\u001b[0mname\u001b[0m \u001b[0;34m=\u001b[0m \u001b[0mname\u001b[0m\u001b[0;34m\u001b[0m\u001b[0;34m\u001b[0m\u001b[0m\n\u001b[1;32m      4\u001b[0m     \u001b[0mself\u001b[0m\u001b[0;34m.\u001b[0m\u001b[0m_age\u001b[0m \u001b[0;34m=\u001b[0m \u001b[0mage\u001b[0m \u001b[0;31m#protected attribute\u001b[0m\u001b[0;34m\u001b[0m\u001b[0;34m\u001b[0m\u001b[0m\n\u001b[1;32m      5\u001b[0m \u001b[0;34m\u001b[0m\u001b[0m\n",
            "\u001b[0;32m<ipython-input-3-9b2012e69053>\u001b[0m in \u001b[0;36mKid\u001b[0;34m()\u001b[0m\n\u001b[1;32m      7\u001b[0m     \u001b[0mself\u001b[0m\u001b[0;34m.\u001b[0m\u001b[0m_age\u001b[0m \u001b[0;34m+=\u001b[0m \u001b[0;36m1\u001b[0m\u001b[0;34m\u001b[0m\u001b[0;34m\u001b[0m\u001b[0m\n\u001b[1;32m      8\u001b[0m \u001b[0;34m\u001b[0m\u001b[0m\n\u001b[0;32m----> 9\u001b[0;31m   \u001b[0mmy_kid\u001b[0m \u001b[0;34m=\u001b[0m \u001b[0mKid\u001b[0m\u001b[0;34m(\u001b[0m\u001b[0;34m\"Tom\"\u001b[0m\u001b[0;34m,\u001b[0m \u001b[0;36m5\u001b[0m\u001b[0;34m)\u001b[0m\u001b[0;34m\u001b[0m\u001b[0;34m\u001b[0m\u001b[0m\n\u001b[0m\u001b[1;32m     10\u001b[0m   \u001b[0mprint\u001b[0m\u001b[0;34m(\u001b[0m\u001b[0mmy_kid\u001b[0m\u001b[0;34m.\u001b[0m\u001b[0m_age\u001b[0m\u001b[0;34m)\u001b[0m \u001b[0;31m#Allowed, but discouraged\u001b[0m\u001b[0;34m\u001b[0m\u001b[0;34m\u001b[0m\u001b[0m\n\u001b[1;32m     11\u001b[0m   \u001b[0mmy_kid\u001b[0m\u001b[0;34m.\u001b[0m\u001b[0m_grow_older\u001b[0m\u001b[0;34m(\u001b[0m\u001b[0;34m)\u001b[0m \u001b[0;31m#Allowed, but discouraged\u001b[0m\u001b[0;34m\u001b[0m\u001b[0;34m\u001b[0m\u001b[0m\n",
            "\u001b[0;31mNameError\u001b[0m: name 'Kid' is not defined"
          ]
        }
      ]
    },
    {
      "cell_type": "code",
      "source": [
        "my_kid = Kid(\"Tom\", 5)\n",
        "#"
      ],
      "metadata": {
        "id": "Cv9R1HBU_U9Y"
      },
      "execution_count": null,
      "outputs": []
    },
    {
      "cell_type": "code",
      "source": [
        "\"\"\"\n",
        "📝 Assignment: Build a Simple\n",
        "Inventory Management System\n",
        "🎯 Objective:\n",
        "Create a Python program that allows the user to manage an inventory of items.\n",
        "The system should allow adding, viewing, updating, deleting, and searching items\n",
        "using a menu-based interface.\n",
        "📚 Concepts Covered:\n",
        "Classes and Objects\n",
        "Lists\n",
        "Conditionals\n",
        "Loops\n",
        "Input/Output\n",
        "📦 Features to Implement\n",
        "1. Define an Item class with:\n",
        "name (string)\n",
        "quantity (integer)\n",
        "price (float)\n",
        "2. Create a list to store all the Item objects.\n",
        "3. Display a menu with the following options:\n",
        "1. Add item\n",
        "2. View all items\n",
        "3. Update item\n",
        "4. Delete item\n",
        "📝 Assignment: Build a Simple Inventory Management System 1\n",
        "5. Search for item\n",
        "6. Exit\n",
        "4. Perform actions based on user input:\n",
        "Add item : Ask user for item details and add to the list.\n",
        "View all : Show a table-like list of all inventory items.\n",
        "Update : Ask for item name, update its quantity or price.\n",
        "Delete : Ask for item name and remove from inventory.\n",
        "Search : Find and display an item by name.\n",
        "💡 Hints:\n",
        "Use for item in inventory: to loop through all items.\n",
        "Use .lower() when comparing names to make it case-insensitive.\n",
        "Format prices using f\"${price:.2f}\" for currency.\n",
        "📤 Example Input/Output\n",
        "Inventory Menu:\n",
        "1. Add item\n",
        "2. View all items\n",
        "3. Update item\n",
        "4. Delete item\n",
        "5. Search for item\n",
        "6. Exit\n",
        "Enter your choice: 1\n",
        "Enter item name: Keyboard\n",
        "Enter quantity: 5\n",
        "Enter price: 10.5\n",
        "Item added successfully!\n",
        "Inventory Menu:\n",
        "📝 Assignment: Build a Simple Inventory Management System 2\n",
        "Enter your choice: 1\n",
        "Enter item name: Mouse\n",
        "Enter quantity: 10\n",
        "Enter price: 7.99\n",
        "Item added successfully!\n",
        "Inventory Menu:\n",
        "Enter your choice: 2\n",
        "--- Inventory List ---\n",
        "Name | Quantity | Price\n",
        "----------------------------\n",
        "Keyboard | 5 | $10.50\n",
        "Mouse | 10 | $7.99\n",
        "Inventory Menu:\n",
        "Enter your choice: 5\n",
        "Enter item name to search: Mouse\n",
        "Found: Mouse - Quantity: 10, Price: $7.99\n",
        "Inventory Menu:\n",
        "Enter your choice: 4\n",
        "Enter item name to delete: Keyboard\n",
        "Keyboard deleted successfully.\n",
        "Inventory Menu:\n",
        "Enter your choice: 2\n",
        "--- Inventory List ---\n",
        "Name | Quantity | Price\n",
        "----------------------------\n",
        "Mouse | 10 | $7.99\n",
        "📝 Assignment: Build a Simple Inventory Management System 3\n",
        "Inventory Menu:\n",
        "Enter your choice: 6\n",
        "Goodbye!\n",
        "📝 Assignment: Build a Simple Inventory Management System 4\n",
        "\"\"\"\n",
        "\n",
        "\n",
        "\n",
        "\n",
        "\n",
        "\n",
        "class Item:\n",
        "  def __init__(self, name, quantity, price):\n",
        "    self.name = name\n",
        "    self.quantity = quantity\n",
        "    self.price = price\n",
        "\n",
        "item1 = Item(\"Keyboard\", 5, 10.5)\n",
        "\n",
        "\n",
        "for i in Item:\n",
        "  int(input(\"Enter your choice:  \"))"
      ],
      "metadata": {
        "colab": {
          "base_uri": "https://localhost:8080/",
          "height": 200
        },
        "id": "SDc2bw4HFAtU",
        "outputId": "25975824-dee8-4c22-b793-320edb4208d5"
      },
      "execution_count": null,
      "outputs": [
        {
          "output_type": "error",
          "ename": "TypeError",
          "evalue": "'type' object is not iterable",
          "traceback": [
            "\u001b[0;31m---------------------------------------------------------------------------\u001b[0m",
            "\u001b[0;31mTypeError\u001b[0m                                 Traceback (most recent call last)",
            "\u001b[0;32m<ipython-input-19-25beb6843d3c>\u001b[0m in \u001b[0;36m<cell line: 0>\u001b[0;34m()\u001b[0m\n\u001b[1;32m     98\u001b[0m \u001b[0;34m\u001b[0m\u001b[0m\n\u001b[1;32m     99\u001b[0m \u001b[0;34m\u001b[0m\u001b[0m\n\u001b[0;32m--> 100\u001b[0;31m \u001b[0;32mfor\u001b[0m \u001b[0mi\u001b[0m \u001b[0;32min\u001b[0m \u001b[0mItem\u001b[0m\u001b[0;34m:\u001b[0m\u001b[0;34m\u001b[0m\u001b[0;34m\u001b[0m\u001b[0m\n\u001b[0m\u001b[1;32m    101\u001b[0m   \u001b[0mint\u001b[0m\u001b[0;34m(\u001b[0m\u001b[0minput\u001b[0m\u001b[0;34m(\u001b[0m\u001b[0;34m\"Enter your choice:  \"\u001b[0m\u001b[0;34m)\u001b[0m\u001b[0;34m)\u001b[0m\u001b[0;34m\u001b[0m\u001b[0;34m\u001b[0m\u001b[0m\n",
            "\u001b[0;31mTypeError\u001b[0m: 'type' object is not iterable"
          ]
        }
      ]
    },
    {
      "cell_type": "code",
      "source": [],
      "metadata": {
        "id": "LbfqlRHqOEKK"
      },
      "execution_count": null,
      "outputs": []
    },
    {
      "cell_type": "code",
      "source": [
        "#Inheretance\n",
        "#OOP\n",
        "class Car:\n",
        "  def __init__(self, make, model, year):\n",
        "    self.make = make\n",
        "    self.model = model\n",
        "    self.year = year\n",
        "\n",
        "class ElectricCar(Car):\n",
        "  def __init__(self, make, model, year, battery_size):\n",
        "    super().__init__(make, model, year)\n",
        "    self.battery_size = battery_size\n",
        "\n",
        "  def display_info(self):\n",
        "    return f\"Car Info:, {self.year} {self.make} {self.model}\"\n",
        "\n",
        "  def start_engine(self):\n",
        "    return \"The engine is starting...\"\n",
        "\n",
        "  def charge_battery(self):\n",
        "    return\n",
        "\n",
        "  def stop_engine(self):\n",
        "    return \"The engine is stopping...\"\n",
        "\n",
        "class GasolineCar(Car):\n",
        "  def __init__(self, make, model, year, fuel_tank_capacity):\n",
        "    super().__init__(make, model, year)\n",
        "    self.fuel_tank_capacity = fuel_tank_capacity\n",
        "\n",
        "  def display_info(self):\n",
        "    return f\"Car Info:, {self.year} {self.make} {self.model}\"\n",
        "\n",
        "  def start_engine(self):\n",
        "    return \"The engine is starting...\"\n",
        "\n",
        "  def refuel_tank(self):\n",
        "    return \"Refueling\"\n",
        "\n",
        "  def stop_engine(self):\n",
        "    return \"The engine is stopping...\"\n",
        "\n",
        "\n",
        "\n",
        "\n",
        "#opject creation\n",
        "car1 = ElectricCar(\"2022\", \"Tesla\", \"Model S\" , \"\")\n",
        "print(car1.display_info())\n",
        "\n",
        "car2 = GasolineCar(\"2022\", \"Ford\", \"Mustang\", \"\")\n",
        "print(car2.display_info())"
      ],
      "metadata": {
        "colab": {
          "base_uri": "https://localhost:8080/"
        },
        "id": "c9d4OhVJKC6P",
        "outputId": "b4bf2e2d-f6e2-4f4b-ac0d-1ea4602f62e7"
      },
      "execution_count": null,
      "outputs": [
        {
          "output_type": "stream",
          "name": "stdout",
          "text": [
            "Car Info:, Model S 2022 Tesla\n",
            "Car Info:, Mustang 2022 Ford\n"
          ]
        }
      ]
    },
    {
      "cell_type": "code",
      "source": [
        "class Animal:\n",
        "    def __init__(self, name, species, sound, move):\n",
        "        self.name = name\n",
        "        self.species = species\n",
        "        self.sound = sound\n",
        "        self.move = move\n",
        "\n",
        "    def make_sound(self):\n",
        "        return f\"{self.name} makes a {self.sound}\"\n",
        "\n",
        "    def make_move(self):\n",
        "        return f\"{self.name} {self.move}s\"\n",
        "\n",
        "class Rabbit(Animal):\n",
        "    def __init__(self, name, species, sound=\"Squeak\", move=\"Hop\"):\n",
        "        super().__init__(name, species, sound, move)\n",
        "\n",
        "class Fish(Animal):\n",
        "    def __init__(self, name, species, sound=\"Blub\", move=\"Swim\"):\n",
        "        super().__init__(name, species, sound, move)\n",
        "\n",
        "class Bird(Animal):\n",
        "    def __init__(self, name, species, sound=\"Chirp\", move=\"Fly\"):\n",
        "        super().__init__(name, species, sound, move)\n",
        "\n",
        "\n",
        "animal1 = Rabbit(\"Robi\", \"Rabbit\")\n",
        "print(animal1.make_sound())\n",
        "print(animal1.make_move())\n",
        "\n",
        "animal2 = Fish(\"Nemo\", \"Fish\")\n",
        "print(animal2.make_sound())\n",
        "print(animal2.make_move())\n",
        "\n",
        "animal3 = Bird(\"Tweety\", \"Bird\")\n",
        "print(animal3.make_sound())\n",
        "print(animal3.make_move())\n"
      ],
      "metadata": {
        "colab": {
          "base_uri": "https://localhost:8080/"
        },
        "id": "Zz8YTmxuVwE9",
        "outputId": "7f2d3c71-8055-46d3-eb31-64df90e031be"
      },
      "execution_count": null,
      "outputs": [
        {
          "output_type": "stream",
          "name": "stdout",
          "text": [
            "Robi makes a Squeak\n",
            "Robi Hops\n",
            "Nemo makes a Blub\n",
            "Nemo Swims\n",
            "Tweety makes a Chirp\n",
            "Tweety Flys\n"
          ]
        }
      ]
    },
    {
      "cell_type": "code",
      "source": [],
      "metadata": {
        "id": "Jf-7WCnliHze"
      },
      "execution_count": null,
      "outputs": []
    },
    {
      "cell_type": "markdown",
      "source": [
        "Tasks:\n",
        "1. Ipmlement method overiding 4 overloading.and post it on linked in\n",
        "2. solve problem of the day (repo)\n",
        "3. Maze game (HW2) in moodle\n",
        "\n",
        "\n",
        "\n",
        "\n",
        "Other:\n",
        "1.   Self study task ---> OOP in Python and post in LinkedIn about inheretance in Python\n",
        "2.    cover all slieds and get takeaways\n",
        "3. Presentation info\n",
        "4. Try prizi\n",
        "\n",
        "\n"
      ],
      "metadata": {
        "id": "GvqfH3BMnDXT"
      }
    },
    {
      "cell_type": "code",
      "source": [
        "#Approved"
      ],
      "metadata": {
        "id": "LlU24PAWoiW3"
      },
      "execution_count": null,
      "outputs": []
    },
    {
      "cell_type": "code",
      "source": [
        "from os import name\n",
        "class Animal:\n",
        "  def __init__(self, name):\n",
        "    self.name = name\n",
        "\n",
        "  def speak(self):\n",
        "    return f\"{self, name}: makes a sound\"\n",
        "\n",
        "class Dog(Animal):\n",
        "  def __init__(self, name):\n",
        "    super().__init__(name)\n",
        "\n",
        "  def speak(self):\n",
        "    parent_speak = super().speak()\n",
        "    return f\"{parent_speak}\\n{self.name} barks\"\n",
        "\n",
        "    dog = Dog(\"Buddy\")\n",
        "    print(dog.speak())"
      ],
      "metadata": {
        "id": "s7Flv8xuri2W"
      },
      "execution_count": null,
      "outputs": []
    },
    {
      "cell_type": "code",
      "source": [],
      "metadata": {
        "id": "2n2TlAjBta-D"
      },
      "execution_count": null,
      "outputs": []
    }
  ]
}