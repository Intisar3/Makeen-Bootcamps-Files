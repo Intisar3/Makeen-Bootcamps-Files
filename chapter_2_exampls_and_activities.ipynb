{
  "nbformat": 4,
  "nbformat_minor": 0,
  "metadata": {
    "colab": {
      "provenance": []
    },
    "kernelspec": {
      "name": "python3",
      "display_name": "Python 3"
    },
    "language_info": {
      "name": "python"
    }
  },
  "cells": [
    {
      "cell_type": "code",
      "execution_count": null,
      "metadata": {
        "colab": {
          "base_uri": "https://localhost:8080/"
        },
        "id": "AfCjqc3QfODb",
        "outputId": "bb0bb73b-1891-4b4f-c4d0-ce7d26dc178c"
      },
      "outputs": [
        {
          "output_type": "stream",
          "name": "stdout",
          "text": [
            "Enter number: 4\n",
            "Your number is positive but not divisible by 3\n"
          ]
        }
      ],
      "source": [
        "num = int(input(\"Enter number: \"))\n",
        "\n",
        "if num > 0:\n",
        "  if num % 3 == 0:\n",
        "    print(\"Your number is positive and divisible by 3\")\n",
        "  else:\n",
        "    print(\"Your number is positive but not divisible by 3\")\n",
        "else:\n",
        "  print(\"Your number is zero or negative\")"
      ]
    },
    {
      "cell_type": "code",
      "source": [
        "hour1 = 11\n",
        "min1 = 30\n",
        "hour2 = 12\n",
        "min2 = 40\n",
        "\n",
        "if hour1 < hour2:\n",
        "    print(\"time1 comes first\")\n",
        "elif hour1 == hour2:\n",
        "    if min1 <= min2:\n",
        "      print(\"time1 comes first\")\n",
        "    else:\n",
        "      print(\"time2 comes first\")\n",
        "else:\n",
        "    print(\"time2 comes first\")"
      ],
      "metadata": {
        "colab": {
          "base_uri": "https://localhost:8080/"
        },
        "id": "wPIZ77KxmKw9",
        "outputId": "5719cdf8-48d5-4310-dd5e-17a3133bf6cf"
      },
      "execution_count": null,
      "outputs": [
        {
          "output_type": "stream",
          "name": "stdout",
          "text": [
            "time1 comes first\n"
          ]
        }
      ]
    },
    {
      "cell_type": "code",
      "source": [
        "from re import X\n",
        "\"\"\"\n",
        "inputs:\n",
        "discount\n",
        "guest\n",
        "price\n",
        "guest_type\n",
        "nights_number\n",
        "night --> 30 omr --> all guests\n",
        "if guest is student --> 20/100 discount\n",
        "if guest is regular costumer\n",
        "  if stay 3 nights\n",
        "els --> 0/100 discount\n",
        "\n",
        "\"\"\"\n",
        "price = 30\n",
        "guest = input(\"Enter guest type: \")\n",
        "nights_number = int(input(\"Enter number of nights: \"))\n",
        "def discount(price, x):\n",
        "    return price - price * x/100\n",
        "\n",
        "\n",
        "if guest == \"student\":\n",
        "  discount(price, 20)\n",
        "  print(\"Total price: \", discount(price, 20))\n",
        "else guest == \"regular\":\n",
        "  if nights_number >= 3:\n",
        "    discount(price, 15)\n",
        "    print(\"Total price: \", discount(price, 15))\n",
        "  else:\n",
        "    discount(price, 0)\n",
        "    print(\"Total price: \", discount(price, 0))\n",
        "else:\n",
        "  print(\"Invalid input\")\n",
        "\n",
        "\n"
      ],
      "metadata": {
        "colab": {
          "base_uri": "https://localhost:8080/"
        },
        "id": "jiy8rz8FmgbB",
        "outputId": "9704ad91-8c48-467b-bce5-7edc1c5dc2a9"
      },
      "execution_count": null,
      "outputs": [
        {
          "output_type": "stream",
          "name": "stdout",
          "text": [
            "Enter guest type: student\n",
            "Enter number of nights: 4\n",
            "Total price:  24.0\n"
          ]
        }
      ]
    },
    {
      "cell_type": "code",
      "source": [
        "earthQuickDegree = float(input(\"Enter earth quick degree: \"))\n",
        "\n",
        "if earthQuickDegree >= 8:\n",
        "  print(\"Most sructure fall\")\n",
        "elif (7 <= earthQuickDegree < 7.99):\n",
        "  print(\"Many vuildings destroyed\")\n",
        "elif (6 <= earthQuickDegree < 6.99):\n",
        "  print(\"Many buildings considredably damaged, some collaps\")\n",
        "elif (4.5 <= earthQuickDegree < 5.99):\n",
        "  print(\"Damage to poorly constructed buildings\")\n",
        "else:\n",
        "  print(\"No destruction of buildings\")\n"
      ],
      "metadata": {
        "colab": {
          "base_uri": "https://localhost:8080/"
        },
        "id": "4elZY1Pssqc5",
        "outputId": "8e2f51cc-4c15-493f-d4c6-73676b40939a"
      },
      "execution_count": null,
      "outputs": [
        {
          "output_type": "stream",
          "name": "stdout",
          "text": [
            "Enter earth quick degree: 6\n",
            "Many buildings considredably damaged, some collaps\n"
          ]
        }
      ]
    }
  ]
}