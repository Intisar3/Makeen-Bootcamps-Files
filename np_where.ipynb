{
  "nbformat": 4,
  "nbformat_minor": 0,
  "metadata": {
    "colab": {
      "provenance": []
    },
    "kernelspec": {
      "name": "python3",
      "display_name": "Python 3"
    },
    "language_info": {
      "name": "python"
    }
  },
  "cells": [
    {
      "cell_type": "code",
      "execution_count": null,
      "metadata": {
        "colab": {
          "base_uri": "https://localhost:8080/"
        },
        "id": "ee6opB6VJuI4",
        "outputId": "dd8f46cb-2c35-49bd-f622-595ac28446f2"
      },
      "outputs": [
        {
          "output_type": "stream",
          "name": "stdout",
          "text": [
            "Product 1: In stock\n",
            "Product 2: Out of stock\n",
            "Product 3: Reorder\n",
            "Product 4: Reorder\n",
            "Product 5: In stock\n",
            "Product 6: Out of stock\n",
            "Product 7: Reorder\n"
          ]
        }
      ],
      "source": [
        "import numpy as np\n",
        "\n",
        "# Example stock levels for products\n",
        "stock_levels = np.array([50, 3, 12, 7, 25, 2, 18])\n",
        "\n",
        "# List to store product classifications\n",
        "product_status = []\n",
        "\n",
        "# Using loop and if to classify products\n",
        "for stock in stock_levels:\n",
        "    if stock > 20:\n",
        "        product_status.append(\"In stock\")\n",
        "    elif stock >= 5:\n",
        "        product_status.append(\"Reorder\")\n",
        "    else:\n",
        "        product_status.append(\"Out of stock\")\n",
        "\n",
        "# Displaying results clearly\n",
        "for i, status in enumerate(product_status):\n",
        "    print(f\"Product {i + 1}: {status}\")"
      ]
    },
    {
      "cell_type": "code",
      "source": [
        "import numpy as np\n",
        "\n",
        "# Example stock levels for products\n",
        "stock_levels = np.array([50, 3, 12, 7, 25, 2, 18])\n",
        "\n",
        "# Using np.where to classify products\n",
        "product_status = np.where(stock_levels > 20, \"In stock\",\n",
        "                   np.where(stock_levels >= 5, \"Reorder\", \"Out of stock\"))\n",
        "\n",
        "# Displaying results clearly\n",
        "for i, status in enumerate(product_status):\n",
        "    print(f\"Product {i + 1}: {status}\")\n"
      ],
      "metadata": {
        "colab": {
          "base_uri": "https://localhost:8080/"
        },
        "id": "EDv7-E9YMMHp",
        "outputId": "eef687d6-fcc0-4954-dea8-d2f30a63e549"
      },
      "execution_count": null,
      "outputs": [
        {
          "output_type": "stream",
          "name": "stdout",
          "text": [
            "Product 1: In stock\n",
            "Product 2: Out of stock\n",
            "Product 3: Reorder\n",
            "Product 4: Reorder\n",
            "Product 5: In stock\n",
            "Product 6: Out of stock\n",
            "Product 7: Reorder\n"
          ]
        }
      ]
    }
  ]
}