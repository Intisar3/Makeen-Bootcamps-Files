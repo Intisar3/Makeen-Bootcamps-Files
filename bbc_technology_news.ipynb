{
 "cells": [
  {
   "cell_type": "code",
   "execution_count": 8,
   "id": "213c5814-6af1-4596-89cc-150b548703fd",
   "metadata": {},
   "outputs": [
    {
     "name": "stdout",
     "output_type": "stream",
     "text": [
      "\n",
      "✅ Saved 0 articles to 'bbc_technology_news.json'\n",
      "\n",
      "🔍 Contents of the saved JSON file:\n",
      "[]\n"
     ]
    }
   ],
   "source": [
    "import requests\n",
    "from bs4 import BeautifulSoup\n",
    "import json\n",
    "\n",
    "# Target URL\n",
    "url = \"https://www.bbc.com/news/technology\"\n",
    "\n",
    "# Send GET request\n",
    "response = requests.get(url)\n",
    "soup = BeautifulSoup(response.content, \"html.parser\")\n",
    "\n",
    "# Find articles\n",
    "articles = soup.find_all(\"div\", class_=\"gs-c-promo\")\n",
    "\n",
    "# Extracted data list\n",
    "news_data = []\n",
    "\n",
    "for article in articles:\n",
    "    headline_tag = article.find(\"h3\")\n",
    "    if not headline_tag:\n",
    "        continue\n",
    "    headline = headline_tag.text.strip()\n",
    "\n",
    "    link_tag = article.find(\"a\", href=True)\n",
    "    if not link_tag:\n",
    "        continue\n",
    "    relative_url = link_tag[\"href\"]\n",
    "    url_full = \"https://www.bbc.com\" + relative_url if relative_url.startswith(\"/\") else relative_url\n",
    "\n",
    "    summary_tag = article.find(\"p\")\n",
    "    summary = summary_tag.text.strip() if summary_tag else \"\"\n",
    "\n",
    "    news_data.append({\n",
    "        \"Headline\": headline,\n",
    "        \"URL\": url_full,\n",
    "        \"Summary\": summary\n",
    "    })\n",
    "\n",
    "# Save to JSON file\n",
    "file_name = \"bbc_technology_news.json\"\n",
    "with open(file_name, \"w\", encoding=\"utf-8\") as f:\n",
    "    json.dump(news_data, f, ensure_ascii=False, indent=4)\n",
    "\n",
    "print(f\"\\n✅ Saved {len(news_data)} articles to '{file_name}'\")\n",
    "\n",
    "# Print contents of the saved file\n",
    "print(\"\\n🔍 Contents of the saved JSON file:\")\n",
    "with open(file_name, \"r\", encoding=\"utf-8\") as f:\n",
    "    saved_data = json.load(f)\n",
    "    print(json.dumps(saved_data, ensure_ascii=False, indent=4))\n"
   ]
  }
 ],
 "metadata": {
  "kernelspec": {
   "display_name": "Python [conda env:base] *",
   "language": "python",
   "name": "conda-base-py"
  },
  "language_info": {
   "codemirror_mode": {
    "name": "ipython",
    "version": 3
   },
   "file_extension": ".py",
   "mimetype": "text/x-python",
   "name": "python",
   "nbconvert_exporter": "python",
   "pygments_lexer": "ipython3",
   "version": "3.12.7"
  }
 },
 "nbformat": 4,
 "nbformat_minor": 5
}
