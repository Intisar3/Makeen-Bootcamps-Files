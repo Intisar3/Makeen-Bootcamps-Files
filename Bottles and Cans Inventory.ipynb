{
 "cells": [
  {
   "cell_type": "code",
   "execution_count": null,
   "id": "e48c8409-49ac-43d9-b6b4-d6911eaa41e5",
   "metadata": {},
   "outputs": [
    {
     "name": "stdout",
     "output_type": "stream",
     "text": [
      "Compare Can Pack vs 1L Bottle\n",
      "\n"
     ]
    },
    {
     "name": "stdin",
     "output_type": "stream",
     "text": [
      "Enter number of cans in the pack:  6\n",
      "Enter price of the can pack (OMR):  1.29\n"
     ]
    }
   ],
   "source": [
    "\"\"\"\n",
    "🧩 Problem Statement:\n",
    "You want to compare:\n",
    "\n",
    "        Deal 1: A pack of cans (e.g., 6 cans per pack, each 330 ml), with a known price per pack.\n",
    "        \n",
    "        Deal 2: A single 1-liter bottle, with a known price per bottle.\n",
    "\n",
    "    The goal is to find which deal gives you a cheaper price per liter.\n",
    "\n",
    "✅ What the Program Will Do?\n",
    "     1. Ask the user for:\n",
    "\n",
    "            Number of cans per pack and price per pack\n",
    "            \n",
    "            Price per 1-liter bottle\n",
    "\n",
    "    2.Compute:\n",
    "\n",
    "            Total volume of the can pack in liters\n",
    "            \n",
    "            Cost per liter for both deals\n",
    "\n",
    "    3.Print a clear comparison and a recommendation\n",
    "\"\"\"\n",
    "\n",
    "# 📌 Input\n",
    "print(\"Compare Can Pack vs 1L Bottle\\n\")\n",
    "\n",
    "cans_per_pack = int(input(\"Enter number of cans in the pack: \"))\n",
    "price_per_pack = float(input(\"Enter price of the can pack (OMR): \"))\n",
    "\n",
    "price_per_bottle = float(input(\"Enter price of the 1L bottle (OMR): \"))\n",
    "\n",
    "# ⚙️ Constant\n",
    "CAN_VOLUME_ML = 330\n",
    "\n",
    "# 📊 Calculations\n",
    "total_volume_ml = cans_per_pack * CAN_VOLUME_ML\n",
    "total_volume_liters = total_volume_ml / 1000\n",
    "\n",
    "cost_per_liter_pack = price_per_pack / total_volume_liters\n",
    "cost_per_liter_bottle = price_per_bottle / 1  # since it's 1 liter\n",
    "\n",
    "# 📋 Output\n",
    "print(\"\\n--- Comparison ---\")\n",
    "print(f\"Can Pack Volume: {total_volume_liters:.2f} L\")\n",
    "print(f\"Can Pack Price per Liter: {cost_per_liter_pack:.2f} OMR\")\n",
    "print(f\"1L Bottle Price per Liter: {cost_per_liter_bottle:.2f} OMR\")\n",
    "\n",
    "# ✅ Recommendation\n",
    "print()\n",
    "if cost_per_liter_pack < cost_per_liter_bottle:\n",
    "    print(\"✅ The Can Pack is the better deal per liter.\")\n",
    "elif cost_per_liter_bottle < cost_per_liter_pack:\n",
    "    print(\"✅ The 1L Bottle is the better deal per liter.\")\n",
    "else:\n",
    "    print(\"🔄 Both deals offer the same cost per liter.\")\n"
   ]
  }
 ],
 "metadata": {
  "kernelspec": {
   "display_name": "Python [conda env:base] *",
   "language": "python",
   "name": "conda-base-py"
  },
  "language_info": {
   "codemirror_mode": {
    "name": "ipython",
    "version": 3
   },
   "file_extension": ".py",
   "mimetype": "text/x-python",
   "name": "python",
   "nbconvert_exporter": "python",
   "pygments_lexer": "ipython3",
   "version": "3.12.7"
  }
 },
 "nbformat": 4,
 "nbformat_minor": 5
}
