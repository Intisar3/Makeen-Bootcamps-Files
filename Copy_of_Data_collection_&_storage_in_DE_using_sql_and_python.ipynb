{
  "nbformat": 4,
  "nbformat_minor": 0,
  "metadata": {
    "colab": {
      "provenance": []
    },
    "kernelspec": {
      "name": "python3",
      "display_name": "Python 3"
    },
    "language_info": {
      "name": "python"
    }
  },
  "cells": [
    {
      "cell_type": "code",
      "execution_count": null,
      "metadata": {
        "colab": {
          "base_uri": "https://localhost:8080/"
        },
        "collapsed": true,
        "id": "ASI48Rhr47h3",
        "outputId": "d3657ac3-9bb2-4f3d-9a3a-4f00681c8e1c"
      },
      "outputs": [
        {
          "output_type": "stream",
          "name": "stdout",
          "text": [
            "Requirement already satisfied: pymysql in /usr/local/lib/python3.11/dist-packages (1.1.1)\n",
            "Requirement already satisfied: pandas in /usr/local/lib/python3.11/dist-packages (2.2.2)\n",
            "Requirement already satisfied: numpy>=1.23.2 in /usr/local/lib/python3.11/dist-packages (from pandas) (2.0.2)\n",
            "Requirement already satisfied: python-dateutil>=2.8.2 in /usr/local/lib/python3.11/dist-packages (from pandas) (2.9.0.post0)\n",
            "Requirement already satisfied: pytz>=2020.1 in /usr/local/lib/python3.11/dist-packages (from pandas) (2025.2)\n",
            "Requirement already satisfied: tzdata>=2022.7 in /usr/local/lib/python3.11/dist-packages (from pandas) (2025.2)\n",
            "Requirement already satisfied: six>=1.5 in /usr/local/lib/python3.11/dist-packages (from python-dateutil>=2.8.2->pandas) (1.17.0)\n"
          ]
        }
      ],
      "source": [
        "pip install pymysql pandas"
      ]
    },
    {
      "cell_type": "code",
      "source": [
        "# Step 1: Install MySQL Server\n",
        "!apt-get update\n",
        "!apt-get install -y mysql-server\n",
        "\n",
        "# Step 2: Start the MySQL service\n",
        "!service mysql start\n",
        "\n",
        "# Step 3: Set up a sample MySQL database and user\n",
        "!mysql -e \"CREATE DATABASE colab_db;\"  # Create a new database named 'colab_db'\n",
        "!mysql -e \"CREATE USER 'colab_user'@'localhost' IDENTIFIED BY 'password';\"  # Create a new user\n",
        "!mysql -e \"GRANT ALL PRIVILEGES ON colab_db.* TO 'colab_user'@'localhost';\"  # Grant all privileges to the user\n",
        "!mysql -e \"FLUSH PRIVILEGES;\"  # Refresh privileges\n"
      ],
      "metadata": {
        "colab": {
          "base_uri": "https://localhost:8080/"
        },
        "collapsed": true,
        "id": "5b54CbBa5KX2",
        "outputId": "e7ae01c2-7b58-40e8-b6b2-b81f760bd341"
      },
      "execution_count": null,
      "outputs": [
        {
          "output_type": "stream",
          "name": "stdout",
          "text": [
            "Hit:1 https://cloud.r-project.org/bin/linux/ubuntu jammy-cran40/ InRelease\n",
            "Hit:2 https://developer.download.nvidia.com/compute/cuda/repos/ubuntu2204/x86_64  InRelease\n",
            "Hit:3 https://r2u.stat.illinois.edu/ubuntu jammy InRelease\n",
            "Hit:4 https://ppa.launchpadcontent.net/deadsnakes/ppa/ubuntu jammy InRelease\n",
            "Hit:5 https://ppa.launchpadcontent.net/graphics-drivers/ppa/ubuntu jammy InRelease\n",
            "Hit:6 https://ppa.launchpadcontent.net/ubuntugis/ppa/ubuntu jammy InRelease\n",
            "Hit:7 http://archive.ubuntu.com/ubuntu jammy InRelease\n",
            "Get:8 http://security.ubuntu.com/ubuntu jammy-security InRelease [129 kB]\n",
            "Get:9 http://archive.ubuntu.com/ubuntu jammy-updates InRelease [128 kB]\n",
            "Get:10 http://archive.ubuntu.com/ubuntu jammy-backports InRelease [127 kB]\n",
            "Get:11 http://archive.ubuntu.com/ubuntu jammy-updates/main amd64 Packages [3,255 kB]\n",
            "Fetched 3,639 kB in 5s (703 kB/s)\n",
            "Reading package lists... Done\n",
            "W: Skipping acquire of configured file 'main/source/Sources' as repository 'https://r2u.stat.illinois.edu/ubuntu jammy InRelease' does not seem to provide it (sources.list entry misspelt?)\n",
            "Reading package lists... Done\n",
            "Building dependency tree... Done\n",
            "Reading state information... Done\n",
            "mysql-server is already the newest version (8.0.42-0ubuntu0.22.04.1).\n",
            "0 upgraded, 0 newly installed, 0 to remove and 91 not upgraded.\n",
            " * Starting MySQL database server mysqld\n",
            "   ...done.\n",
            "ERROR 1007 (HY000) at line 1: Can't create database 'colab_db'; database exists\n",
            "ERROR 1396 (HY000) at line 1: Operation CREATE USER failed for 'colab_user'@'localhost'\n"
          ]
        }
      ]
    },
    {
      "cell_type": "code",
      "source": [
        "# Step 4: Python code to connect to the MySQL server\n",
        "import pymysql\n",
        "\n",
        "try:\n",
        "    # Connect to the MySQL server running in Colab\n",
        "    connection = pymysql.connect(\n",
        "        host='127.0.0.1',\n",
        "        port=3306,\n",
        "        user='colab_user',  # User created earlier\n",
        "        password='password',  # Password created earlier\n",
        "        database='colab_db'  # Database created earlier\n",
        "    )\n",
        "    print(\"Connected to the database!\")\n",
        "\n",
        "    # Step 5: Create a cursor to execute queries\n",
        "    cursor = connection.cursor()\n",
        "\n",
        "    # Example: Create a table\n",
        "    cursor.execute(\"CREATE TABLE IF NOT EXISTS users (id INT, name VARCHAR(255))\")\n",
        "    print(\"Table created or already exists.\")\n",
        "\n",
        "    # Example: Insert data into the table\n",
        "    cursor.execute(\"INSERT INTO users (id, name) VALUES (1, 'John Doe')\")\n",
        "    connection.commit()\n",
        "    print(\"Data inserted!\")\n",
        "\n",
        "    # Example: Query data from the table\n",
        "    cursor.execute(\"SELECT * FROM users\")\n",
        "    results = cursor.fetchall()\n",
        "    print(\"Query Results:\", results)\n",
        "\n",
        "except pymysql.MySQLError as e:\n",
        "    print(\"Error:\", e)\n",
        "\n",
        "finally:\n",
        "    if connection:\n",
        "        connection.close()\n",
        "        print(\"Connection closed.\")"
      ],
      "metadata": {
        "colab": {
          "base_uri": "https://localhost:8080/"
        },
        "id": "VzAG3kHs9Um6",
        "outputId": "fff430bf-824b-4ff8-f301-50903fa0e0a2"
      },
      "execution_count": null,
      "outputs": [
        {
          "output_type": "stream",
          "name": "stdout",
          "text": [
            "Connected to the database!\n",
            "Table created or already exists.\n",
            "Data inserted!\n",
            "Query Results: ((1, 'John Doe'),)\n",
            "Connection closed.\n"
          ]
        }
      ]
    },
    {
      "cell_type": "code",
      "source": [
        "try:\n",
        "    # Connect to the MySQL server running in Colab\n",
        "    connection = pymysql.connect(\n",
        "        host='127.0.0.1',\n",
        "        port=3306,\n",
        "        user='colab_user',  # User created earlier\n",
        "        password='password',  # Password created earlier\n",
        "        database='colab_db'  # Database created earlier\n",
        "    )\n",
        "    print(\"Connected to the database!\")\n",
        "\n",
        "    cursor = connection.cursor()\n",
        "\n",
        "    cursor.execute(\"CREATE TABLE IF NOT EXISTS products (product_id INT Primary Key, product_name VARCHAR(255), price DECIMAL(10, 2))\")\n",
        "    print(\"Table created or already exists.\")\n",
        "\n",
        "    cursor.execute(\"CREATE TABLE IF NOT EXISTS categories (category_id INT Primary Key, category_name VARCHAR(255))\")\n",
        "    print(\"Table created or already exists.\")\n",
        "\n",
        "    cursor.execute(\"CREATE TABLE IF NOT EXISTS product_categories (product_id INT, category_id INT, FOREIGN KEY (product_id) REFERENCES products(product_id), FOREIGN KEY (category_id) REFERENCES categories(category_id))\")\n",
        "\n",
        "except pymysql.MySQLError as e:\n",
        "    print(\"Error:\", e)\n",
        "\n",
        "finally:\n",
        "    if connection:\n",
        "        connection.close()\n",
        "        print(\"Connection closed.\")"
      ],
      "metadata": {
        "colab": {
          "base_uri": "https://localhost:8080/"
        },
        "id": "SJ7y-Gm3U2S1",
        "outputId": "4cd6e224-8a32-422a-89a2-8127c55d0201"
      },
      "execution_count": null,
      "outputs": [
        {
          "output_type": "stream",
          "name": "stdout",
          "text": [
            "Connected to the database!\n",
            "Table created or already exists.\n",
            "Table created or already exists.\n",
            "Connection closed.\n"
          ]
        }
      ]
    },
    {
      "cell_type": "markdown",
      "source": [
        "# Hands On Activity! SQL in Python!!"
      ],
      "metadata": {
        "id": "RJopjRfm9roM"
      }
    },
    {
      "cell_type": "markdown",
      "source": [
        "### **Exercise 1: Create Tables**\n",
        "\n",
        "1. Create a table named `products` with the following columns:\n",
        "\n",
        "   * `product_id`: INT (Primary Key)\n",
        "   * `product_name`: VARCHAR(255)\n",
        "   * `price`: DECIMAL(10, 2)\n",
        "\n",
        "2. Create a table named `categories` with the following columns:\n",
        "\n",
        "   * `category_id`: INT (Primary Key)\n",
        "   * `category_name`: VARCHAR(255)\n",
        "\n",
        "3. Create a table named `product_categories` to represent the many-to-many relationship between `products` and `categories`:\n",
        "\n",
        "   * `product_id`: INT (Foreign Key)\n",
        "   * `category_id`: INT (Foreign Key)\n",
        "\n",
        "---\n",
        "\n",
        "### **Exercise 2: Insert Data**\n",
        "\n",
        "1. Insert at least 5 products into the `products` table with various prices.\n",
        "2. Insert at least 3 categories into the `categories` table.\n",
        "3. Associate each product with one or more categories in the `product_categories` table.\n",
        "\n",
        "---\n",
        "\n",
        "### **Exercise 3: Write Queries**\n",
        "\n",
        "1. Retrieve all products with their prices.\n",
        "2. Retrieve all categories and their associated products.\n",
        "3. Find the most expensive product in each category.\n",
        "4. Calculate the total number of products in each category.\n",
        "5. Find categories that don’t have any products.\n",
        "\n",
        "---\n",
        "\n",
        "### **Exercise 4: Modify Data**\n",
        "\n",
        "1. Update the price of a specific product.\n",
        "2. Delete a product and ensure its relationships in `product_categories` are also removed.\n",
        "\n",
        "---\n",
        "\n",
        "### **Exercise 5: Advanced Queries**\n",
        "\n",
        "1. Write a query to find the top 3 most expensive products.\n",
        "2. Retrieve products with prices above the average product price.\n",
        "3. Create a stored procedure to add a new product along with its category associations.\n"
      ],
      "metadata": {
        "id": "fdT2pP4g9vGL"
      }
    }
  ]
}