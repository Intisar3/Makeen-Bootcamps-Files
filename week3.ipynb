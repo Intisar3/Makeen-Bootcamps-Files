{
  "nbformat": 4,
  "nbformat_minor": 0,
  "metadata": {
    "colab": {
      "provenance": []
    },
    "kernelspec": {
      "name": "python3",
      "display_name": "Python 3"
    },
    "language_info": {
      "name": "python"
    }
  },
  "cells": [
    {
      "cell_type": "code",
      "execution_count": null,
      "metadata": {
        "colab": {
          "base_uri": "https://localhost:8080/"
        },
        "id": "s88leWwHkAdc",
        "outputId": "76b7c072-5689-4ba4-e197-b2b9707514ee"
      },
      "outputs": [
        {
          "output_type": "stream",
          "name": "stdout",
          "text": [
            "['H1 ', ' H2', ' H3']\n"
          ]
        }
      ],
      "source": [
        "s = \"H1 , H2, H3\"\n",
        "mylist = s.split(\",\")\n",
        "print(mylist)"
      ]
    },
    {
      "cell_type": "code",
      "source": [
        "amount = 30000\n",
        "balance = 1000\n",
        "\n",
        "if amount > balance :\n",
        "  raise ValueError(\"Amount exceeds balance\")\n",
        "\n",
        "balance = balance - amount\n",
        "print(f\"amount : {amount}\")\n",
        "print(f\"balance : {balance}\")"
      ],
      "metadata": {
        "colab": {
          "base_uri": "https://localhost:8080/",
          "height": 210
        },
        "id": "m-rokPmAkso1",
        "outputId": "f4b8bef2-0c9a-4525-c313-f96c5f8b6c03"
      },
      "execution_count": null,
      "outputs": [
        {
          "output_type": "error",
          "ename": "ValueError",
          "evalue": "Amount exceeds balance",
          "traceback": [
            "\u001b[0;31m---------------------------------------------------------------------------\u001b[0m",
            "\u001b[0;31mValueError\u001b[0m                                Traceback (most recent call last)",
            "\u001b[0;32m<ipython-input-38-4e78a790dd90>\u001b[0m in \u001b[0;36m<cell line: 0>\u001b[0;34m()\u001b[0m\n\u001b[1;32m      3\u001b[0m \u001b[0;34m\u001b[0m\u001b[0m\n\u001b[1;32m      4\u001b[0m \u001b[0;32mif\u001b[0m \u001b[0mamount\u001b[0m \u001b[0;34m>\u001b[0m \u001b[0mbalance\u001b[0m \u001b[0;34m:\u001b[0m\u001b[0;34m\u001b[0m\u001b[0;34m\u001b[0m\u001b[0m\n\u001b[0;32m----> 5\u001b[0;31m   \u001b[0;32mraise\u001b[0m \u001b[0mValueError\u001b[0m\u001b[0;34m(\u001b[0m\u001b[0;34m\"Amount exceeds balance\"\u001b[0m\u001b[0;34m)\u001b[0m\u001b[0;34m\u001b[0m\u001b[0;34m\u001b[0m\u001b[0m\n\u001b[0m\u001b[1;32m      6\u001b[0m \u001b[0;34m\u001b[0m\u001b[0m\n\u001b[1;32m      7\u001b[0m \u001b[0mbalance\u001b[0m \u001b[0;34m=\u001b[0m \u001b[0mbalance\u001b[0m \u001b[0;34m-\u001b[0m \u001b[0mamount\u001b[0m\u001b[0;34m\u001b[0m\u001b[0;34m\u001b[0m\u001b[0m\n",
            "\u001b[0;31mValueError\u001b[0m: Amount exceeds balance"
          ]
        }
      ]
    },
    {
      "cell_type": "code",
      "source": [
        "#Handling invalid errors\n",
        "num1 = (input(\"Eter the first number  \"))\n",
        "num2 = (input(\"Enter the secon number  \"))\n",
        "\n",
        "def divide_numbers():\n",
        "\n",
        "\n",
        "  try:\n",
        "    num1 = int(num1)\n",
        "    num2 = int(num2)\n",
        "    result = num1 / num2\n",
        "    print(\"result\")\n",
        "\n",
        "  except ValueError:\n",
        "    print(\"Invalid input. Please enter a valid number\")\n",
        "\n",
        "  except ZeroDivisionError:\n",
        "    print(\"Cannot divide by zero\")\n",
        "\n",
        "  finally:\n",
        "    print(\"Calculation complete\")\n",
        "\n",
        "  divide_numbers(num1, num2)\n",
        "\n"
      ],
      "metadata": {
        "id": "7XhUWEcQzaea"
      },
      "execution_count": null,
      "outputs": []
    },
    {
      "cell_type": "code",
      "source": [
        "#Module 2\n",
        "#Advanced prohramming\n",
        "\n",
        "!pip install numpy\n"
      ],
      "metadata": {
        "id": "F_Kyn6rE97N_"
      },
      "execution_count": null,
      "outputs": []
    },
    {
      "cell_type": "code",
      "source": [
        "import numpy as np"
      ],
      "metadata": {
        "id": "llHzTafc-6xh"
      },
      "execution_count": null,
      "outputs": []
    },
    {
      "cell_type": "code",
      "source": [
        "list1 = [1, 2, 3, 4]\n",
        "print(list1)\n",
        "\n",
        "myArray = np.array(list1)\n",
        "print(myArray)\n",
        "\n",
        "myArray.dtype"
      ],
      "metadata": {
        "id": "L3xNNS83BTYv"
      },
      "execution_count": null,
      "outputs": []
    },
    {
      "cell_type": "code",
      "source": [
        "list1 = [1, 2, 3, 4]\n",
        "list2 = [5, 6, 7, 8]\n",
        "\n",
        "newList = [list1, list2]\n",
        "print(newList)\n",
        "\n",
        "myArray = np.array(newList)\n",
        "print(myArray)\n",
        "\n",
        "myArray.dtype\n",
        "myArray.shape\n",
        "\n"
      ],
      "metadata": {
        "id": "WFvlsOlgC7Z_"
      },
      "execution_count": null,
      "outputs": []
    },
    {
      "cell_type": "code",
      "source": [
        "myZeros = np.zeros([3,3], \"int\")\n",
        "myZeros"
      ],
      "metadata": {
        "id": "k14QfEnzFHhe"
      },
      "execution_count": null,
      "outputs": []
    },
    {
      "cell_type": "code",
      "source": [
        "myZeros = np.zeros(3)\n",
        "myZeros"
      ],
      "metadata": {
        "id": "OkXxLhuFHBQd"
      },
      "execution_count": null,
      "outputs": []
    },
    {
      "cell_type": "code",
      "source": [
        "myZeros = np.empty(3)\n",
        "myZeros"
      ],
      "metadata": {
        "id": "vZWzFEQlHHAr"
      },
      "execution_count": null,
      "outputs": []
    },
    {
      "cell_type": "code",
      "source": [
        "myZeros = np.eye(4)\n",
        "myZeros"
      ],
      "metadata": {
        "id": "5MsHteP4HPEU"
      },
      "execution_count": null,
      "outputs": []
    },
    {
      "cell_type": "code",
      "source": [
        "myZeros = np.arange(10)\n",
        "myZeros"
      ],
      "metadata": {
        "id": "9BypbZ-zIHx1"
      },
      "execution_count": null,
      "outputs": []
    },
    {
      "cell_type": "code",
      "source": [
        "myArray = np.arange(0, 50, 2)\n",
        "myArray"
      ],
      "metadata": {
        "id": "mTX6oWcCIyMQ"
      },
      "execution_count": null,
      "outputs": []
    },
    {
      "cell_type": "code",
      "source": [
        "arr1 = np.array([1,2,3,4])\n",
        "arr2 = np.array([2,3,5,2])\n",
        "print(arr1 * arr2)\n",
        "\n",
        "arr3 = arr1 -2\n",
        "arr3"
      ],
      "metadata": {
        "id": "sl-04S56JpGN"
      },
      "execution_count": null,
      "outputs": []
    },
    {
      "cell_type": "code",
      "source": [
        "A=np.array([[1,2,3],[4,5,6]])\n",
        "print(A)\n",
        "print('\\n')\n",
        "B=np.array([[7,8],[9,10],[11,12]])\n",
        "print(B)\n",
        "print('\\n')\n",
        "np.dot(A,B)"
      ],
      "metadata": {
        "id": "bzvtE1AGLP3t"
      },
      "execution_count": null,
      "outputs": []
    },
    {
      "cell_type": "code",
      "source": [
        "array1 = np.array([1,3, 5])\n",
        "array2 = np.array([2,4,6])\n",
        "\n",
        "addition = array1 + array2\n",
        "addition\n",
        "print(addition)\n",
        "\n",
        "subtraction = array1 - array2\n",
        "subtraction\n",
        "print(subtraction)\n",
        "\n",
        "multiplication = array1 * array2\n",
        "multiplication\n",
        "print(multiplication)\n",
        "\n",
        "division = array1 / array2\n",
        "division\n",
        "print(division)"
      ],
      "metadata": {
        "id": "zoG8zKm0NL5z"
      },
      "execution_count": null,
      "outputs": []
    },
    {
      "cell_type": "code",
      "source": [
        "arr = np.arange(0, 11)\n",
        "arr.shape"
      ],
      "metadata": {
        "colab": {
          "base_uri": "https://localhost:8080/",
          "height": 158
        },
        "id": "V4p1xG8sO5J-",
        "outputId": "499028d8-65fa-4a80-cb09-c7e780e4dc18"
      },
      "execution_count": null,
      "outputs": [
        {
          "output_type": "error",
          "ename": "NameError",
          "evalue": "name 'np' is not defined",
          "traceback": [
            "\u001b[0;31m---------------------------------------------------------------------------\u001b[0m",
            "\u001b[0;31mNameError\u001b[0m                                 Traceback (most recent call last)",
            "\u001b[0;32m<ipython-input-39-f28da92e7381>\u001b[0m in \u001b[0;36m<cell line: 0>\u001b[0;34m()\u001b[0m\n\u001b[0;32m----> 1\u001b[0;31m \u001b[0marr\u001b[0m \u001b[0;34m=\u001b[0m \u001b[0mnp\u001b[0m\u001b[0;34m.\u001b[0m\u001b[0marange\u001b[0m\u001b[0;34m(\u001b[0m\u001b[0;36m0\u001b[0m\u001b[0;34m,\u001b[0m \u001b[0;36m11\u001b[0m\u001b[0;34m)\u001b[0m\u001b[0;34m\u001b[0m\u001b[0;34m\u001b[0m\u001b[0m\n\u001b[0m\u001b[1;32m      2\u001b[0m \u001b[0marr\u001b[0m\u001b[0;34m.\u001b[0m\u001b[0mshape\u001b[0m\u001b[0;34m\u001b[0m\u001b[0;34m\u001b[0m\u001b[0m\n",
            "\u001b[0;31mNameError\u001b[0m: name 'np' is not defined"
          ]
        }
      ]
    },
    {
      "cell_type": "code",
      "source": [
        "arr = np.arange(0, 11)\n",
        "arr[9]"
      ],
      "metadata": {
        "id": "22-GJLb3PJky"
      },
      "execution_count": null,
      "outputs": []
    },
    {
      "cell_type": "code",
      "source": [
        "arr = np.arange(0, 11)\n",
        "arr[0:5]"
      ],
      "metadata": {
        "colab": {
          "base_uri": "https://localhost:8080/",
          "height": 158
        },
        "id": "weV6B649P2_T",
        "outputId": "c5e73b28-abf3-42ea-ba1c-d71d065bcf42"
      },
      "execution_count": null,
      "outputs": [
        {
          "output_type": "error",
          "ename": "NameError",
          "evalue": "name 'np' is not defined",
          "traceback": [
            "\u001b[0;31m---------------------------------------------------------------------------\u001b[0m",
            "\u001b[0;31mNameError\u001b[0m                                 Traceback (most recent call last)",
            "\u001b[0;32m<ipython-input-40-bb973b879674>\u001b[0m in \u001b[0;36m<cell line: 0>\u001b[0;34m()\u001b[0m\n\u001b[0;32m----> 1\u001b[0;31m \u001b[0marr\u001b[0m \u001b[0;34m=\u001b[0m \u001b[0mnp\u001b[0m\u001b[0;34m.\u001b[0m\u001b[0marange\u001b[0m\u001b[0;34m(\u001b[0m\u001b[0;36m0\u001b[0m\u001b[0;34m,\u001b[0m \u001b[0;36m11\u001b[0m\u001b[0;34m)\u001b[0m\u001b[0;34m\u001b[0m\u001b[0;34m\u001b[0m\u001b[0m\n\u001b[0m\u001b[1;32m      2\u001b[0m \u001b[0marr\u001b[0m\u001b[0;34m[\u001b[0m\u001b[0;36m0\u001b[0m\u001b[0;34m:\u001b[0m\u001b[0;36m5\u001b[0m\u001b[0;34m]\u001b[0m\u001b[0;34m\u001b[0m\u001b[0;34m\u001b[0m\u001b[0m\n",
            "\u001b[0;31mNameError\u001b[0m: name 'np' is not defined"
          ]
        }
      ]
    },
    {
      "cell_type": "code",
      "source": [
        "arr = np.arange(0, 11)\n",
        "arr[0:5]=100\n",
        "arr"
      ],
      "metadata": {
        "id": "6EUJZZsyQF4P"
      },
      "execution_count": null,
      "outputs": []
    },
    {
      "cell_type": "code",
      "source": [
        "dlice_of_arr=np.array([100, 100, 100, 100, 100])\n",
        "\n",
        "dlice_of_arr[:]=99\n",
        "dlice_of_arr"
      ],
      "metadata": {
        "id": "dvQ7_6mHQpI-"
      },
      "execution_count": null,
      "outputs": []
    },
    {
      "cell_type": "code",
      "source": [
        "arr_2d = np.array(([5, 10, 15], [20, 25, 30], [35, 40, 45]))\n",
        "arr_2d\n",
        "arr_2d[1]\n",
        "arr_2d[1,2]\n",
        "arr_2d[:3,1:]\n",
        "arr_2d[:3, 2::]"
      ],
      "metadata": {
        "id": "07Zi2-Fzkr7u"
      },
      "execution_count": null,
      "outputs": []
    },
    {
      "cell_type": "code",
      "source": [
        "grid = np.arange(1, 13).reshape((3, 4))\n",
        "grid"
      ],
      "metadata": {
        "id": "007kOK0_lwV3"
      },
      "execution_count": null,
      "outputs": []
    },
    {
      "cell_type": "code",
      "source": [
        "np.concatenate([grid, grid])\n"
      ],
      "metadata": {
        "id": "SKyF53q1pfp1"
      },
      "execution_count": null,
      "outputs": []
    },
    {
      "cell_type": "code",
      "source": [
        "np.concatenate([grid, grid], axis=1)"
      ],
      "metadata": {
        "id": "UX42JqAApqpr"
      },
      "execution_count": null,
      "outputs": []
    },
    {
      "cell_type": "code",
      "source": [
        "\n",
        "x1. x2, x3 = np.split(x, [3, 5])\n",
        "print(x1, x2, x3)"
      ],
      "metadata": {
        "id": "tm9y3KE-qvI1"
      },
      "execution_count": null,
      "outputs": []
    },
    {
      "cell_type": "code",
      "source": [
        "grid = np.arange(16).reshape((4,4))\n",
        "print(grid)\n",
        "print('\\n')\n",
        "upper, lower = np.vsplit(grid, [2])\n",
        "print(upper)\n",
        "print('\\n')\n",
        "print(lower)"
      ],
      "metadata": {
        "id": "T6fox2GcrQgW"
      },
      "execution_count": null,
      "outputs": []
    },
    {
      "cell_type": "code",
      "source": [
        "grid = np.arange(16).reshape((4, 4))\n",
        "print(grid)\n",
        "print(\"\\n\")\n",
        "\n",
        "left, right = np.hsplit(grid, [2])\n",
        "print(left)\n",
        "print(\"\\n\")\n",
        "print(right)"
      ],
      "metadata": {
        "id": "N-vj3ohXskFq"
      },
      "execution_count": null,
      "outputs": []
    },
    {
      "cell_type": "code",
      "source": [
        "\"\"\"\n",
        "2d array\n",
        "rows: students\n",
        "columns: grades in Math, Science, English.\n",
        "\n",
        "- Average grade of each student\n",
        "- Average grade of each subject\n",
        "- The overall average grade across all students and subjects.\n",
        "\n",
        "Replace any grade below 40 with 40(pass mark).\n",
        "\"\"\"\n",
        "\n",
        "grades = np.array([\n",
        "    #Math  #Science  #English\n",
        "    [35,       80,       78], #Student 1\n",
        "    [90,       32,       88], #Student 2\n",
        "    [56,       70,       38]  #Student3\n",
        "])\n",
        "\n",
        "for i in range(grades.shape[0]):    # loop over rows\n",
        "    for j in range(grades.shape[1]):  # loop over columns\n",
        "        if grades[i, j] < 40:\n",
        "            grades[i, j] = 40\n",
        "\n",
        "\n",
        "#Average grade of each student\n",
        "student_averages = np.mean(grades, axis=1)\n",
        "\n",
        "#Average grade of each subject\n",
        "subject_averages = np.max(grades, axis=0)\n",
        "\n",
        "#Overall average grade\n",
        "overall_average = np.mean(grades)\n",
        "\n",
        "#Display\n",
        "print(\"Grades after applying pass mark:\\n\", grades)\n",
        "print(\"\\nAverage grade of each student:\", student_averages)\n",
        "print(\"\\nAverage grade of each subject (Math, Science, English):\", subject_averages)\n",
        "print(\"\\nOverall average grade:\", overall_average)\n"
      ],
      "metadata": {
        "colab": {
          "base_uri": "https://localhost:8080/",
          "height": 210
        },
        "id": "L4F4yJnLtaYp",
        "outputId": "6fab04f9-5081-44d4-a22f-bae266b2c08d"
      },
      "execution_count": null,
      "outputs": [
        {
          "output_type": "error",
          "ename": "NameError",
          "evalue": "name 'np' is not defined",
          "traceback": [
            "\u001b[0;31m---------------------------------------------------------------------------\u001b[0m",
            "\u001b[0;31mNameError\u001b[0m                                 Traceback (most recent call last)",
            "\u001b[0;32m<ipython-input-41-26388c59c16f>\u001b[0m in \u001b[0;36m<cell line: 0>\u001b[0;34m()\u001b[0m\n\u001b[1;32m     11\u001b[0m \"\"\"\n\u001b[1;32m     12\u001b[0m \u001b[0;34m\u001b[0m\u001b[0m\n\u001b[0;32m---> 13\u001b[0;31m grades = np.array([\n\u001b[0m\u001b[1;32m     14\u001b[0m     \u001b[0;31m#Math  #Science  #English\u001b[0m\u001b[0;34m\u001b[0m\u001b[0;34m\u001b[0m\u001b[0m\n\u001b[1;32m     15\u001b[0m     \u001b[0;34m[\u001b[0m\u001b[0;36m35\u001b[0m\u001b[0;34m,\u001b[0m       \u001b[0;36m80\u001b[0m\u001b[0;34m,\u001b[0m       \u001b[0;36m78\u001b[0m\u001b[0;34m]\u001b[0m\u001b[0;34m,\u001b[0m \u001b[0;31m#Student 1\u001b[0m\u001b[0;34m\u001b[0m\u001b[0;34m\u001b[0m\u001b[0m\n",
            "\u001b[0;31mNameError\u001b[0m: name 'np' is not defined"
          ]
        }
      ]
    },
    {
      "cell_type": "code",
      "source": [
        "#Filteration\n",
        "\n",
        "import numpy as np\n",
        "from numpy.random import randn\n",
        "\n",
        "A = np.array([1,2,3,4])\n",
        "B = np.array([100, 200, 300, 400])\n",
        "\n",
        "condition = np.array([True, True, False, False])\n",
        "\n",
        "answer2 = np.where(condition, B, A)\n",
        "answer2\n",
        "\n"
      ],
      "metadata": {
        "id": "fACcOOV3mfeD"
      },
      "execution_count": null,
      "outputs": []
    },
    {
      "cell_type": "code",
      "source": [
        "from numpy.random import randn\n",
        "arr = randn(5,5)\n",
        "arr\n",
        "np.where(arr < 0,0, arr)   #Filteration: if the generated num is (-) turn it into 0"
      ],
      "metadata": {
        "id": "BzRsjBkNysm8"
      },
      "execution_count": null,
      "outputs": []
    },
    {
      "cell_type": "code",
      "source": [
        "import numpy as np\n",
        "\n",
        "sales = - np.array([20, 1, 5, 39, 3])\n",
        "sales_inOrder = - np.sort(sales)\n",
        "print(sales_inOrder)\n",
        "\n"
      ],
      "metadata": {
        "id": "MmVvCdkVz1KH"
      },
      "execution_count": null,
      "outputs": []
    },
    {
      "cell_type": "code",
      "source": [
        "countries = np.array(['France', 'Germany', 'USA', 'Russia', 'USA', 'Mexico', 'Germany'])\n",
        "np.unique(countries)\n"
      ],
      "metadata": {
        "id": "D7fCL5eb3Gjw"
      },
      "execution_count": null,
      "outputs": []
    },
    {
      "cell_type": "code",
      "source": [],
      "metadata": {
        "id": "MqHL_-WX5IQB"
      },
      "execution_count": null,
      "outputs": []
    },
    {
      "cell_type": "code",
      "source": [
        "np.in1d(['France', 'USA', 'Sweden'],countries)"
      ],
      "metadata": {
        "id": "-Pbe_UNw6Pay"
      },
      "execution_count": null,
      "outputs": []
    },
    {
      "cell_type": "code",
      "source": [
        "import pandas as pd\n",
        "\n",
        "series = pd.Series([10,20,40], index=['Apple', 'Banana', 'Mango'])\n",
        "print(series)\n",
        "print(series.index)\n",
        "print(series.values)"
      ],
      "metadata": {
        "id": "wyhxc3bD8QyA"
      },
      "execution_count": null,
      "outputs": []
    },
    {
      "cell_type": "code",
      "source": [
        "import pandas as pd\n",
        "\n",
        "sales = pd.Series({\n",
        "    \"Apple\": 100,\n",
        "    \"Banana\": 20,\n",
        "    \"Mango\": 40\n",
        "})\n",
        "#print(series)\n",
        "\n",
        "\n",
        "print(sales[sales>150])"
      ],
      "metadata": {
        "colab": {
          "base_uri": "https://localhost:8080/"
        },
        "id": "1rRY8rrm84cD",
        "outputId": "29ec2523-20f7-4e43-c4f8-e69fcfbf69c9"
      },
      "execution_count": null,
      "outputs": [
        {
          "output_type": "stream",
          "name": "stdout",
          "text": [
            "Series([], dtype: int64)\n"
          ]
        }
      ]
    },
    {
      "cell_type": "code",
      "source": [
        "import pandas as pd\n",
        "x = pd.Series({\n",
        "    'Milk':120,\n",
        "    'Bread':80,\n",
        "    'Eggs':200,\n",
        "    'Cheese':150,\n",
        "    'Butter':90\n",
        "})\n",
        "\n",
        "print(\"total sum: \"x.sum())\n",
        "print(\"best product sales: \"x.idxmax())"
      ],
      "metadata": {
        "colab": {
          "base_uri": "https://localhost:8080/",
          "height": 106
        },
        "id": "1oR4DHZ7-YRt",
        "outputId": "e71330fa-f143-448a-a26b-b2186e90740e"
      },
      "execution_count": null,
      "outputs": [
        {
          "output_type": "error",
          "ename": "SyntaxError",
          "evalue": "invalid syntax. Perhaps you forgot a comma? (<ipython-input-43-e043ea0255d4>, line 10)",
          "traceback": [
            "\u001b[0;36m  File \u001b[0;32m\"<ipython-input-43-e043ea0255d4>\"\u001b[0;36m, line \u001b[0;32m10\u001b[0m\n\u001b[0;31m    print(\"total sum: \"x.sum())\u001b[0m\n\u001b[0m          ^\u001b[0m\n\u001b[0;31mSyntaxError\u001b[0m\u001b[0;31m:\u001b[0m invalid syntax. Perhaps you forgot a comma?\n"
          ]
        }
      ]
    },
    {
      "cell_type": "code",
      "source": [
        "import pandas as pd\n",
        "\n",
        "data = pd.read_csv(\"/content/sales_data.csv\")\n",
        "print(data)\n",
        "\n",
        "dataAsSeries = pd.Series(data['Sales'].values, index=data['Month'], name=\"Sales\")\n",
        "\n",
        "print(dataAsSeries)"
      ],
      "metadata": {
        "colab": {
          "base_uri": "https://localhost:8080/",
          "height": 356
        },
        "id": "HbmR989gNUyK",
        "outputId": "e85f4a50-4780-4f77-d1bd-8ef190797eaf"
      },
      "execution_count": null,
      "outputs": [
        {
          "output_type": "error",
          "ename": "FileNotFoundError",
          "evalue": "[Errno 2] No such file or directory: '/content/sales_data.csv'",
          "traceback": [
            "\u001b[0;31m---------------------------------------------------------------------------\u001b[0m",
            "\u001b[0;31mFileNotFoundError\u001b[0m                         Traceback (most recent call last)",
            "\u001b[0;32m<ipython-input-44-b720f5a81dc4>\u001b[0m in \u001b[0;36m<cell line: 0>\u001b[0;34m()\u001b[0m\n\u001b[1;32m      1\u001b[0m \u001b[0;32mimport\u001b[0m \u001b[0mpandas\u001b[0m \u001b[0;32mas\u001b[0m \u001b[0mpd\u001b[0m\u001b[0;34m\u001b[0m\u001b[0;34m\u001b[0m\u001b[0m\n\u001b[1;32m      2\u001b[0m \u001b[0;34m\u001b[0m\u001b[0m\n\u001b[0;32m----> 3\u001b[0;31m \u001b[0mdata\u001b[0m \u001b[0;34m=\u001b[0m \u001b[0mpd\u001b[0m\u001b[0;34m.\u001b[0m\u001b[0mread_csv\u001b[0m\u001b[0;34m(\u001b[0m\u001b[0;34m\"/content/sales_data.csv\"\u001b[0m\u001b[0;34m)\u001b[0m\u001b[0;34m\u001b[0m\u001b[0;34m\u001b[0m\u001b[0m\n\u001b[0m\u001b[1;32m      4\u001b[0m \u001b[0mprint\u001b[0m\u001b[0;34m(\u001b[0m\u001b[0mdata\u001b[0m\u001b[0;34m)\u001b[0m\u001b[0;34m\u001b[0m\u001b[0;34m\u001b[0m\u001b[0m\n\u001b[1;32m      5\u001b[0m \u001b[0;34m\u001b[0m\u001b[0m\n",
            "\u001b[0;32m/usr/local/lib/python3.11/dist-packages/pandas/io/parsers/readers.py\u001b[0m in \u001b[0;36mread_csv\u001b[0;34m(filepath_or_buffer, sep, delimiter, header, names, index_col, usecols, dtype, engine, converters, true_values, false_values, skipinitialspace, skiprows, skipfooter, nrows, na_values, keep_default_na, na_filter, verbose, skip_blank_lines, parse_dates, infer_datetime_format, keep_date_col, date_parser, date_format, dayfirst, cache_dates, iterator, chunksize, compression, thousands, decimal, lineterminator, quotechar, quoting, doublequote, escapechar, comment, encoding, encoding_errors, dialect, on_bad_lines, delim_whitespace, low_memory, memory_map, float_precision, storage_options, dtype_backend)\u001b[0m\n\u001b[1;32m   1024\u001b[0m     \u001b[0mkwds\u001b[0m\u001b[0;34m.\u001b[0m\u001b[0mupdate\u001b[0m\u001b[0;34m(\u001b[0m\u001b[0mkwds_defaults\u001b[0m\u001b[0;34m)\u001b[0m\u001b[0;34m\u001b[0m\u001b[0;34m\u001b[0m\u001b[0m\n\u001b[1;32m   1025\u001b[0m \u001b[0;34m\u001b[0m\u001b[0m\n\u001b[0;32m-> 1026\u001b[0;31m     \u001b[0;32mreturn\u001b[0m \u001b[0m_read\u001b[0m\u001b[0;34m(\u001b[0m\u001b[0mfilepath_or_buffer\u001b[0m\u001b[0;34m,\u001b[0m \u001b[0mkwds\u001b[0m\u001b[0;34m)\u001b[0m\u001b[0;34m\u001b[0m\u001b[0;34m\u001b[0m\u001b[0m\n\u001b[0m\u001b[1;32m   1027\u001b[0m \u001b[0;34m\u001b[0m\u001b[0m\n\u001b[1;32m   1028\u001b[0m \u001b[0;34m\u001b[0m\u001b[0m\n",
            "\u001b[0;32m/usr/local/lib/python3.11/dist-packages/pandas/io/parsers/readers.py\u001b[0m in \u001b[0;36m_read\u001b[0;34m(filepath_or_buffer, kwds)\u001b[0m\n\u001b[1;32m    618\u001b[0m \u001b[0;34m\u001b[0m\u001b[0m\n\u001b[1;32m    619\u001b[0m     \u001b[0;31m# Create the parser.\u001b[0m\u001b[0;34m\u001b[0m\u001b[0;34m\u001b[0m\u001b[0m\n\u001b[0;32m--> 620\u001b[0;31m     \u001b[0mparser\u001b[0m \u001b[0;34m=\u001b[0m \u001b[0mTextFileReader\u001b[0m\u001b[0;34m(\u001b[0m\u001b[0mfilepath_or_buffer\u001b[0m\u001b[0;34m,\u001b[0m \u001b[0;34m**\u001b[0m\u001b[0mkwds\u001b[0m\u001b[0;34m)\u001b[0m\u001b[0;34m\u001b[0m\u001b[0;34m\u001b[0m\u001b[0m\n\u001b[0m\u001b[1;32m    621\u001b[0m \u001b[0;34m\u001b[0m\u001b[0m\n\u001b[1;32m    622\u001b[0m     \u001b[0;32mif\u001b[0m \u001b[0mchunksize\u001b[0m \u001b[0;32mor\u001b[0m \u001b[0miterator\u001b[0m\u001b[0;34m:\u001b[0m\u001b[0;34m\u001b[0m\u001b[0;34m\u001b[0m\u001b[0m\n",
            "\u001b[0;32m/usr/local/lib/python3.11/dist-packages/pandas/io/parsers/readers.py\u001b[0m in \u001b[0;36m__init__\u001b[0;34m(self, f, engine, **kwds)\u001b[0m\n\u001b[1;32m   1618\u001b[0m \u001b[0;34m\u001b[0m\u001b[0m\n\u001b[1;32m   1619\u001b[0m         \u001b[0mself\u001b[0m\u001b[0;34m.\u001b[0m\u001b[0mhandles\u001b[0m\u001b[0;34m:\u001b[0m \u001b[0mIOHandles\u001b[0m \u001b[0;34m|\u001b[0m \u001b[0;32mNone\u001b[0m \u001b[0;34m=\u001b[0m \u001b[0;32mNone\u001b[0m\u001b[0;34m\u001b[0m\u001b[0;34m\u001b[0m\u001b[0m\n\u001b[0;32m-> 1620\u001b[0;31m         \u001b[0mself\u001b[0m\u001b[0;34m.\u001b[0m\u001b[0m_engine\u001b[0m \u001b[0;34m=\u001b[0m \u001b[0mself\u001b[0m\u001b[0;34m.\u001b[0m\u001b[0m_make_engine\u001b[0m\u001b[0;34m(\u001b[0m\u001b[0mf\u001b[0m\u001b[0;34m,\u001b[0m \u001b[0mself\u001b[0m\u001b[0;34m.\u001b[0m\u001b[0mengine\u001b[0m\u001b[0;34m)\u001b[0m\u001b[0;34m\u001b[0m\u001b[0;34m\u001b[0m\u001b[0m\n\u001b[0m\u001b[1;32m   1621\u001b[0m \u001b[0;34m\u001b[0m\u001b[0m\n\u001b[1;32m   1622\u001b[0m     \u001b[0;32mdef\u001b[0m \u001b[0mclose\u001b[0m\u001b[0;34m(\u001b[0m\u001b[0mself\u001b[0m\u001b[0;34m)\u001b[0m \u001b[0;34m->\u001b[0m \u001b[0;32mNone\u001b[0m\u001b[0;34m:\u001b[0m\u001b[0;34m\u001b[0m\u001b[0;34m\u001b[0m\u001b[0m\n",
            "\u001b[0;32m/usr/local/lib/python3.11/dist-packages/pandas/io/parsers/readers.py\u001b[0m in \u001b[0;36m_make_engine\u001b[0;34m(self, f, engine)\u001b[0m\n\u001b[1;32m   1878\u001b[0m                 \u001b[0;32mif\u001b[0m \u001b[0;34m\"b\"\u001b[0m \u001b[0;32mnot\u001b[0m \u001b[0;32min\u001b[0m \u001b[0mmode\u001b[0m\u001b[0;34m:\u001b[0m\u001b[0;34m\u001b[0m\u001b[0;34m\u001b[0m\u001b[0m\n\u001b[1;32m   1879\u001b[0m                     \u001b[0mmode\u001b[0m \u001b[0;34m+=\u001b[0m \u001b[0;34m\"b\"\u001b[0m\u001b[0;34m\u001b[0m\u001b[0;34m\u001b[0m\u001b[0m\n\u001b[0;32m-> 1880\u001b[0;31m             self.handles = get_handle(\n\u001b[0m\u001b[1;32m   1881\u001b[0m                 \u001b[0mf\u001b[0m\u001b[0;34m,\u001b[0m\u001b[0;34m\u001b[0m\u001b[0;34m\u001b[0m\u001b[0m\n\u001b[1;32m   1882\u001b[0m                 \u001b[0mmode\u001b[0m\u001b[0;34m,\u001b[0m\u001b[0;34m\u001b[0m\u001b[0;34m\u001b[0m\u001b[0m\n",
            "\u001b[0;32m/usr/local/lib/python3.11/dist-packages/pandas/io/common.py\u001b[0m in \u001b[0;36mget_handle\u001b[0;34m(path_or_buf, mode, encoding, compression, memory_map, is_text, errors, storage_options)\u001b[0m\n\u001b[1;32m    871\u001b[0m         \u001b[0;32mif\u001b[0m \u001b[0mioargs\u001b[0m\u001b[0;34m.\u001b[0m\u001b[0mencoding\u001b[0m \u001b[0;32mand\u001b[0m \u001b[0;34m\"b\"\u001b[0m \u001b[0;32mnot\u001b[0m \u001b[0;32min\u001b[0m \u001b[0mioargs\u001b[0m\u001b[0;34m.\u001b[0m\u001b[0mmode\u001b[0m\u001b[0;34m:\u001b[0m\u001b[0;34m\u001b[0m\u001b[0;34m\u001b[0m\u001b[0m\n\u001b[1;32m    872\u001b[0m             \u001b[0;31m# Encoding\u001b[0m\u001b[0;34m\u001b[0m\u001b[0;34m\u001b[0m\u001b[0m\n\u001b[0;32m--> 873\u001b[0;31m             handle = open(\n\u001b[0m\u001b[1;32m    874\u001b[0m                 \u001b[0mhandle\u001b[0m\u001b[0;34m,\u001b[0m\u001b[0;34m\u001b[0m\u001b[0;34m\u001b[0m\u001b[0m\n\u001b[1;32m    875\u001b[0m                 \u001b[0mioargs\u001b[0m\u001b[0;34m.\u001b[0m\u001b[0mmode\u001b[0m\u001b[0;34m,\u001b[0m\u001b[0;34m\u001b[0m\u001b[0;34m\u001b[0m\u001b[0m\n",
            "\u001b[0;31mFileNotFoundError\u001b[0m: [Errno 2] No such file or directory: '/content/sales_data.csv'"
          ]
        }
      ]
    },
    {
      "cell_type": "code",
      "source": [
        "#ex\n",
        "\n",
        "import pandas as pd\n",
        "\n",
        "# Load the data\n",
        "data = pd.read_csv(\"/content/fruits.csv\")\n",
        "\n",
        "# Create a Series with fruits as index and prices as values\n",
        "fruits = pd.Series(data['Fruit_Price'].values, index=data['Fruit_Name'])\n",
        "\n",
        "# Find and print price of Mango\n",
        "mango_price = fruits['Mango']\n",
        "print(\"Price of Mango:\", mango_price)\n",
        "\n",
        "# Add Pineapple with price 3.5\n",
        "fruits['Pineapple'] = 3.5\n",
        "\n",
        "# Increase all prices by 10%\n",
        "fruits = fruits * 1.1\n",
        "\n",
        "# Display updated Series\n",
        "print(\"Updated prices with 10% increase:\")\n",
        "print(fruits)\n"
      ],
      "metadata": {
        "id": "L0WCvxRaSkk0"
      },
      "execution_count": null,
      "outputs": []
    },
    {
      "cell_type": "code",
      "source": [
        "\"\"\"\n",
        "\n",
        "\n",
        "\"\"\"\n",
        "\n",
        "import pandas as pd\n",
        "data = pd.read_csv(\"/content/employees.csv\")\n",
        "print(\"first 5 rows:\\n\",data.head())\n",
        "data.tail()\n",
        "data.info()\n",
        "data.describe()\n",
        "data.columns\n",
        "data.describe()\n",
        "data['Name']"
      ],
      "metadata": {
        "id": "q8uTpw7zq0cs"
      },
      "execution_count": null,
      "outputs": []
    },
    {
      "cell_type": "code",
      "source": [
        "data.describe()"
      ],
      "metadata": {
        "id": "YoeiWNeXvB0Z"
      },
      "execution_count": null,
      "outputs": []
    },
    {
      "cell_type": "code",
      "source": [
        "data['Name']"
      ],
      "metadata": {
        "id": "IRmS_xcVvZaV"
      },
      "execution_count": null,
      "outputs": []
    },
    {
      "cell_type": "code",
      "source": [
        "data[['Name', 'City']]"
      ],
      "metadata": {
        "collapsed": true,
        "id": "CCO85PmKvbku"
      },
      "execution_count": null,
      "outputs": []
    },
    {
      "cell_type": "code",
      "source": [
        "import pandas as pd\n",
        "\n",
        "df = pd.read_csv(\"/content/mushrooms.csv\")\n",
        "print(df)\n"
      ],
      "metadata": {
        "id": "OJcM9IrCvr0W"
      },
      "execution_count": null,
      "outputs": []
    },
    {
      "cell_type": "code",
      "source": [],
      "metadata": {
        "id": "7T4ygA4K3t2-"
      },
      "execution_count": null,
      "outputs": []
    },
    {
      "cell_type": "code",
      "source": [
        "df.head()"
      ],
      "metadata": {
        "id": "re7ySer0x-5J"
      },
      "execution_count": null,
      "outputs": []
    },
    {
      "cell_type": "code",
      "source": [
        "df.tail()"
      ],
      "metadata": {
        "id": "ifO4_CXXySE8"
      },
      "execution_count": null,
      "outputs": []
    },
    {
      "cell_type": "code",
      "source": [
        "df.columns()"
      ],
      "metadata": {
        "id": "2cTNFtUMyXlN"
      },
      "execution_count": null,
      "outputs": []
    },
    {
      "cell_type": "code",
      "source": [
        "df.shape()"
      ],
      "metadata": {
        "colab": {
          "base_uri": "https://localhost:8080/",
          "height": 141
        },
        "id": "NUua_Opqy3u7",
        "outputId": "c638426a-fb04-4458-cfbd-c3b87381a7fb"
      },
      "execution_count": null,
      "outputs": [
        {
          "output_type": "error",
          "ename": "NameError",
          "evalue": "name 'df' is not defined",
          "traceback": [
            "\u001b[0;31m---------------------------------------------------------------------------\u001b[0m",
            "\u001b[0;31mNameError\u001b[0m                                 Traceback (most recent call last)",
            "\u001b[0;32m<ipython-input-45-0e566b70f572>\u001b[0m in \u001b[0;36m<cell line: 0>\u001b[0;34m()\u001b[0m\n\u001b[0;32m----> 1\u001b[0;31m \u001b[0mdf\u001b[0m\u001b[0;34m.\u001b[0m\u001b[0mshape\u001b[0m\u001b[0;34m(\u001b[0m\u001b[0;34m)\u001b[0m\u001b[0;34m\u001b[0m\u001b[0;34m\u001b[0m\u001b[0m\n\u001b[0m",
            "\u001b[0;31mNameError\u001b[0m: name 'df' is not defined"
          ]
        }
      ]
    },
    {
      "cell_type": "code",
      "source": [
        "df.info()"
      ],
      "metadata": {
        "id": "tw_khEamy9b5"
      },
      "execution_count": null,
      "outputs": []
    },
    {
      "cell_type": "code",
      "source": [
        "df.describe()"
      ],
      "metadata": {
        "colab": {
          "base_uri": "https://localhost:8080/",
          "height": 141
        },
        "id": "9u-8RpohzD8I",
        "outputId": "125fe97e-205a-4102-a4b2-aba532d87a92"
      },
      "execution_count": null,
      "outputs": [
        {
          "output_type": "error",
          "ename": "NameError",
          "evalue": "name 'df' is not defined",
          "traceback": [
            "\u001b[0;31m---------------------------------------------------------------------------\u001b[0m",
            "\u001b[0;31mNameError\u001b[0m                                 Traceback (most recent call last)",
            "\u001b[0;32m<ipython-input-46-ea8415b8a3ee>\u001b[0m in \u001b[0;36m<cell line: 0>\u001b[0;34m()\u001b[0m\n\u001b[0;32m----> 1\u001b[0;31m \u001b[0mdf\u001b[0m\u001b[0;34m.\u001b[0m\u001b[0mdescribe\u001b[0m\u001b[0;34m(\u001b[0m\u001b[0;34m)\u001b[0m\u001b[0;34m\u001b[0m\u001b[0;34m\u001b[0m\u001b[0m\n\u001b[0m",
            "\u001b[0;31mNameError\u001b[0m: name 'df' is not defined"
          ]
        }
      ]
    },
    {
      "cell_type": "code",
      "source": [
        "df['Name']"
      ],
      "metadata": {
        "id": "5LCzOCoAzf-N"
      },
      "execution_count": null,
      "outputs": []
    },
    {
      "cell_type": "code",
      "source": [
        "#condition\n",
        "#filteration\n",
        "\n",
        "import pandas as pd\n",
        "\n",
        "df1 = pd.read_csv(\"/sample_sales_data.csv\")\n",
        "print(df1)\n"
      ],
      "metadata": {
        "id": "ZhQoAMNJ3w_Z"
      },
      "execution_count": null,
      "outputs": []
    },
    {
      "cell_type": "code",
      "source": [
        "df1[df1['Age']>30]"
      ],
      "metadata": {
        "id": "qQAFSRIy-Gsr"
      },
      "execution_count": null,
      "outputs": []
    },
    {
      "cell_type": "code",
      "source": [
        "df1[df1['Salary']>5000]"
      ],
      "metadata": {
        "colab": {
          "base_uri": "https://localhost:8080/",
          "height": 547
        },
        "id": "cMFJIKu1-KpG",
        "outputId": "4684e3da-02af-4eeb-dc03-8a16a46329c5"
      },
      "execution_count": null,
      "outputs": [
        {
          "output_type": "error",
          "ename": "KeyError",
          "evalue": "'Salary'",
          "traceback": [
            "\u001b[0;31m---------------------------------------------------------------------------\u001b[0m",
            "\u001b[0;31mKeyError\u001b[0m                                  Traceback (most recent call last)",
            "\u001b[0;32m/usr/local/lib/python3.11/dist-packages/pandas/core/indexes/base.py\u001b[0m in \u001b[0;36mget_loc\u001b[0;34m(self, key)\u001b[0m\n\u001b[1;32m   3804\u001b[0m         \u001b[0;32mtry\u001b[0m\u001b[0;34m:\u001b[0m\u001b[0;34m\u001b[0m\u001b[0;34m\u001b[0m\u001b[0m\n\u001b[0;32m-> 3805\u001b[0;31m             \u001b[0;32mreturn\u001b[0m \u001b[0mself\u001b[0m\u001b[0;34m.\u001b[0m\u001b[0m_engine\u001b[0m\u001b[0;34m.\u001b[0m\u001b[0mget_loc\u001b[0m\u001b[0;34m(\u001b[0m\u001b[0mcasted_key\u001b[0m\u001b[0;34m)\u001b[0m\u001b[0;34m\u001b[0m\u001b[0;34m\u001b[0m\u001b[0m\n\u001b[0m\u001b[1;32m   3806\u001b[0m         \u001b[0;32mexcept\u001b[0m \u001b[0mKeyError\u001b[0m \u001b[0;32mas\u001b[0m \u001b[0merr\u001b[0m\u001b[0;34m:\u001b[0m\u001b[0;34m\u001b[0m\u001b[0;34m\u001b[0m\u001b[0m\n",
            "\u001b[0;32mindex.pyx\u001b[0m in \u001b[0;36mpandas._libs.index.IndexEngine.get_loc\u001b[0;34m()\u001b[0m\n",
            "\u001b[0;32mindex.pyx\u001b[0m in \u001b[0;36mpandas._libs.index.IndexEngine.get_loc\u001b[0;34m()\u001b[0m\n",
            "\u001b[0;32mpandas/_libs/hashtable_class_helper.pxi\u001b[0m in \u001b[0;36mpandas._libs.hashtable.PyObjectHashTable.get_item\u001b[0;34m()\u001b[0m\n",
            "\u001b[0;32mpandas/_libs/hashtable_class_helper.pxi\u001b[0m in \u001b[0;36mpandas._libs.hashtable.PyObjectHashTable.get_item\u001b[0;34m()\u001b[0m\n",
            "\u001b[0;31mKeyError\u001b[0m: 'Salary'",
            "\nThe above exception was the direct cause of the following exception:\n",
            "\u001b[0;31mKeyError\u001b[0m                                  Traceback (most recent call last)",
            "\u001b[0;32m<ipython-input-47-e761b5e46b0b>\u001b[0m in \u001b[0;36m<cell line: 0>\u001b[0;34m()\u001b[0m\n\u001b[0;32m----> 1\u001b[0;31m \u001b[0mdf1\u001b[0m\u001b[0;34m[\u001b[0m\u001b[0mdf1\u001b[0m\u001b[0;34m[\u001b[0m\u001b[0;34m'Salary'\u001b[0m\u001b[0;34m]\u001b[0m\u001b[0;34m>\u001b[0m\u001b[0;36m5000\u001b[0m\u001b[0;34m]\u001b[0m\u001b[0;34m\u001b[0m\u001b[0;34m\u001b[0m\u001b[0m\n\u001b[0m",
            "\u001b[0;32m/usr/local/lib/python3.11/dist-packages/pandas/core/frame.py\u001b[0m in \u001b[0;36m__getitem__\u001b[0;34m(self, key)\u001b[0m\n\u001b[1;32m   4100\u001b[0m             \u001b[0;32mif\u001b[0m \u001b[0mself\u001b[0m\u001b[0;34m.\u001b[0m\u001b[0mcolumns\u001b[0m\u001b[0;34m.\u001b[0m\u001b[0mnlevels\u001b[0m \u001b[0;34m>\u001b[0m \u001b[0;36m1\u001b[0m\u001b[0;34m:\u001b[0m\u001b[0;34m\u001b[0m\u001b[0;34m\u001b[0m\u001b[0m\n\u001b[1;32m   4101\u001b[0m                 \u001b[0;32mreturn\u001b[0m \u001b[0mself\u001b[0m\u001b[0;34m.\u001b[0m\u001b[0m_getitem_multilevel\u001b[0m\u001b[0;34m(\u001b[0m\u001b[0mkey\u001b[0m\u001b[0;34m)\u001b[0m\u001b[0;34m\u001b[0m\u001b[0;34m\u001b[0m\u001b[0m\n\u001b[0;32m-> 4102\u001b[0;31m             \u001b[0mindexer\u001b[0m \u001b[0;34m=\u001b[0m \u001b[0mself\u001b[0m\u001b[0;34m.\u001b[0m\u001b[0mcolumns\u001b[0m\u001b[0;34m.\u001b[0m\u001b[0mget_loc\u001b[0m\u001b[0;34m(\u001b[0m\u001b[0mkey\u001b[0m\u001b[0;34m)\u001b[0m\u001b[0;34m\u001b[0m\u001b[0;34m\u001b[0m\u001b[0m\n\u001b[0m\u001b[1;32m   4103\u001b[0m             \u001b[0;32mif\u001b[0m \u001b[0mis_integer\u001b[0m\u001b[0;34m(\u001b[0m\u001b[0mindexer\u001b[0m\u001b[0;34m)\u001b[0m\u001b[0;34m:\u001b[0m\u001b[0;34m\u001b[0m\u001b[0;34m\u001b[0m\u001b[0m\n\u001b[1;32m   4104\u001b[0m                 \u001b[0mindexer\u001b[0m \u001b[0;34m=\u001b[0m \u001b[0;34m[\u001b[0m\u001b[0mindexer\u001b[0m\u001b[0;34m]\u001b[0m\u001b[0;34m\u001b[0m\u001b[0;34m\u001b[0m\u001b[0m\n",
            "\u001b[0;32m/usr/local/lib/python3.11/dist-packages/pandas/core/indexes/base.py\u001b[0m in \u001b[0;36mget_loc\u001b[0;34m(self, key)\u001b[0m\n\u001b[1;32m   3810\u001b[0m             ):\n\u001b[1;32m   3811\u001b[0m                 \u001b[0;32mraise\u001b[0m \u001b[0mInvalidIndexError\u001b[0m\u001b[0;34m(\u001b[0m\u001b[0mkey\u001b[0m\u001b[0;34m)\u001b[0m\u001b[0;34m\u001b[0m\u001b[0;34m\u001b[0m\u001b[0m\n\u001b[0;32m-> 3812\u001b[0;31m             \u001b[0;32mraise\u001b[0m \u001b[0mKeyError\u001b[0m\u001b[0;34m(\u001b[0m\u001b[0mkey\u001b[0m\u001b[0;34m)\u001b[0m \u001b[0;32mfrom\u001b[0m \u001b[0merr\u001b[0m\u001b[0;34m\u001b[0m\u001b[0;34m\u001b[0m\u001b[0m\n\u001b[0m\u001b[1;32m   3813\u001b[0m         \u001b[0;32mexcept\u001b[0m \u001b[0mTypeError\u001b[0m\u001b[0;34m:\u001b[0m\u001b[0;34m\u001b[0m\u001b[0;34m\u001b[0m\u001b[0m\n\u001b[1;32m   3814\u001b[0m             \u001b[0;31m# If we have a listlike key, _check_indexing_error will raise\u001b[0m\u001b[0;34m\u001b[0m\u001b[0;34m\u001b[0m\u001b[0m\n",
            "\u001b[0;31mKeyError\u001b[0m: 'Salary'"
          ]
        }
      ]
    },
    {
      "cell_type": "code",
      "source": [
        "df1[(df1['Age']>30) & (df1['Salary']>5000)]"
      ],
      "metadata": {
        "id": "O0EwF2Y4-OUA"
      },
      "execution_count": null,
      "outputs": []
    },
    {
      "cell_type": "code",
      "source": [
        "df1.isnull()"
      ],
      "metadata": {
        "id": "k4Emu5ql_DsC"
      },
      "execution_count": null,
      "outputs": []
    },
    {
      "cell_type": "code",
      "source": [
        "df1.notnull()"
      ],
      "metadata": {
        "id": "T6Q-fDy2_Kb_"
      },
      "execution_count": null,
      "outputs": []
    },
    {
      "cell_type": "code",
      "source": [
        "mask = df1['Salary'] > 4000\n",
        "df1[mask]\n",
        "print(mask)"
      ],
      "metadata": {
        "id": "QTJZmca0B1n6"
      },
      "execution_count": null,
      "outputs": []
    },
    {
      "cell_type": "code",
      "source": [
        "df1.drop(columns=['Salary']) #inplace=True)\n",
        "print(df1)    #if used inplace = True the change will be actual"
      ],
      "metadata": {
        "id": "_LASYDsXCMdJ"
      },
      "execution_count": null,
      "outputs": []
    },
    {
      "cell_type": "code",
      "source": [
        "df1['Bonus'] = df1['Salary']*0.1\n",
        "print(df1)"
      ],
      "metadata": {
        "id": "yYJZTNAgFjS4"
      },
      "execution_count": null,
      "outputs": []
    },
    {
      "cell_type": "code",
      "source": [
        "df1['Age'] = df1['Age']+1\n",
        "print(df1)"
      ],
      "metadata": {
        "id": "MF8IHHt8GPhx"
      },
      "execution_count": null,
      "outputs": []
    },
    {
      "cell_type": "code",
      "source": [
        "df1.rename(columns={'Salary': 'Income'}, inplace=True)\n",
        "print(df1)"
      ],
      "metadata": {
        "id": "667KqHrtGZzG"
      },
      "execution_count": null,
      "outputs": []
    },
    {
      "cell_type": "code",
      "source": [
        "sorted_df1 = df1.sort_values('Age')\n",
        "print(sorted_df1)\n"
      ],
      "metadata": {
        "id": "htmUVGQ2HqLI"
      },
      "execution_count": null,
      "outputs": []
    },
    {
      "cell_type": "code",
      "source": [
        "sorted_salary =df1.sort_values('Salary', ascending=False)\n",
        "print(sorted_salary)"
      ],
      "metadata": {
        "id": "RVhcZjC5Rury"
      },
      "execution_count": null,
      "outputs": []
    },
    {
      "cell_type": "code",
      "source": [
        "city_salary = df1.groupby('City')['Salary'].mean()\n",
        "print(city_salary)"
      ],
      "metadata": {
        "id": "tBKf7puKSADu"
      },
      "execution_count": null,
      "outputs": []
    },
    {
      "cell_type": "code",
      "source": [
        "city_count = df1['City'].value_counts()\n",
        "print(city_count)"
      ],
      "metadata": {
        "id": "qz5vPnAkULtm"
      },
      "execution_count": null,
      "outputs": []
    },
    {
      "cell_type": "code",
      "source": [
        "df1.to_csv('updated_data.csv', index=False)\n",
        "print(df1)"
      ],
      "metadata": {
        "id": "cOilqWMCV8ka"
      },
      "execution_count": null,
      "outputs": []
    },
    {
      "cell_type": "code",
      "source": [
        "df1.to_excel('updated_data.xlsx', index=False)\n",
        "print(df1)"
      ],
      "metadata": {
        "id": "TwbU0b2xWLvo"
      },
      "execution_count": null,
      "outputs": []
    },
    {
      "cell_type": "code",
      "source": [
        "\"\"\"\n",
        "Exercise: Data Analysis with\n",
        "Pandas\n",
        "Scenario:\n",
        "You are working for an e-commerce company analyzing their sales data. The\n",
        "company provided you with a dataset sales_data.csv containing the following\n",
        "columns:\n",
        "OrderID: Unique identifier for each order\n",
        "CustomerName: Name of the customer\n",
        "Category: Product category (e.g., Electronics, Clothing, Home)\n",
        "OrderDate: Date when the order was placed\n",
        "Quantity: Number of items ordered\n",
        "Price: Price per unit\n",
        "TotalAmount: Total order amount\n",
        "Status: Order status (e.g., Completed, Pending, Canceled)\n",
        "Questions:\n",
        "Conditions\n",
        "1. Equality and Comparison Conditions\n",
        "Find all orders where the TotalAmount is greater than 500.\n",
        "List all orders in the \"Electronics\" category.\n",
        "2. Multiple Conditions\n",
        "Find all orders where the Category is \"Clothing\" and the Status is\n",
        "\"Completed.\"\n",
        "Find orders where the Quantity is greater than 5 or the Status is \"Pending.\"\n",
        "3. Range Conditions\n",
        "Exercise: Data Analysis with Pandas 1\n",
        "Find orders where the TotalAmount is between 200 and 1000.\n",
        "4. String Matching\n",
        "List all orders where the CustomerName starts with \"A.\"\n",
        "Find all orders where the Category contains \"Home.\"\n",
        "5. Null/Not Null Conditions\n",
        "Find orders where the CustomerName is missing (NaN).\n",
        "Find orders where the OrderDate is not missing.\n",
        "Filtering\n",
        "1. Row Filtering\n",
        "Filter the dataset to include only rows where the Status is \"Completed.\"\n",
        "2. Column Filtering\n",
        "Extract a DataFrame with only the OrderID , CustomerName , and TotalAmount\n",
        "columns.\n",
        "3. Boolean Indexing\n",
        "Create a boolean mask for orders where the Price is greater than 100. Use\n",
        "it to filter the rows.\n",
        "4. Loc-Based Filtering\n",
        "Filter rows where the TotalAmount exceeds 500 and select only the OrderID\n",
        "and Status columns.\n",
        "5. Iloc-Based Filtering\n",
        "Select the first 10 rows and display their OrderID and TotalAmount .\n",
        "6. Drop Method\n",
        "Drop the Status column from the dataset.\n",
        "Tasks:\n",
        "1. Load the dataset into a pandas DataFrame.\n",
        "Exercise: Data Analysis with Pandas 2\n",
        "2. Answer each question and print the results.\n",
        "3. Save the filtered results (where TotalAmount > 500) into a new CSV file called\n",
        "high_value_orders.csv .\n",
        "Exercise: Data Analysis with Pandas 3\n",
        "\"\"\"\n",
        "\n",
        "\n",
        "import pandas as pd\n",
        "\n",
        "df2 = pd.read_csv(\"/sample_sales_data.csv\")\n",
        "print(df2)\n"
      ],
      "metadata": {
        "colab": {
          "base_uri": "https://localhost:8080/"
        },
        "id": "ULfvt6wtYIJ3",
        "outputId": "ac06e960-c220-4c64-8647-69eedbf380d5"
      },
      "execution_count": null,
      "outputs": [
        {
          "output_type": "stream",
          "name": "stdout",
          "text": [
            "    OrderID CustomerName     Category  OrderDate  Quantity   Price  \\\n",
            "0   ORD0001       Hannah        Books   1/1/2025         6  331.73   \n",
            "1   ORD0002       Edward        Books   1/2/2025         3  310.03   \n",
            "2   ORD0003        Alice     Clothing   1/3/2025         9  176.17   \n",
            "3   ORD0004       Hannah  Electronics   1/4/2025         3   79.97   \n",
            "4   ORD0005       George         Home   1/5/2025         7  406.03   \n",
            "..      ...          ...          ...        ...       ...     ...   \n",
            "95  ORD0096        Diana     Clothing   4/6/2025         5  368.23   \n",
            "96  ORD0097          Bob        Books   4/7/2025         8  360.17   \n",
            "97  ORD0098        Diana     Clothing   4/8/2025         9   29.97   \n",
            "98  ORD0099        Alice         Home   4/9/2025         5  465.20   \n",
            "99  ORD0100      Charlie        Books  4/10/2025         9   41.55   \n",
            "\n",
            "    TotalAmount     Status  \n",
            "0       1990.38   Canceled  \n",
            "1        930.09  Completed  \n",
            "2       1585.53   Canceled  \n",
            "3        239.91    Pending  \n",
            "4       2842.21   Canceled  \n",
            "..          ...        ...  \n",
            "95      1841.15  Completed  \n",
            "96      2881.36  Completed  \n",
            "97       269.73   Canceled  \n",
            "98      2326.00    Pending  \n",
            "99       373.95    Pending  \n",
            "\n",
            "[100 rows x 8 columns]\n"
          ]
        }
      ]
    },
    {
      "cell_type": "code",
      "source": [
        "df2[df2['TotalAmount']>500]"
      ],
      "metadata": {
        "colab": {
          "base_uri": "https://localhost:8080/",
          "height": 423
        },
        "id": "zsjrh2fQZwM5",
        "outputId": "a06af063-9c0b-41c4-de6d-f05a308f3daf"
      },
      "execution_count": null,
      "outputs": [
        {
          "output_type": "execute_result",
          "data": {
            "text/plain": [
              "    OrderID CustomerName     Category OrderDate  Quantity   Price  \\\n",
              "0   ORD0001       Hannah        Books  1/1/2025         6  331.73   \n",
              "1   ORD0002       Edward        Books  1/2/2025         3  310.03   \n",
              "2   ORD0003        Alice     Clothing  1/3/2025         9  176.17   \n",
              "4   ORD0005       George         Home  1/5/2025         7  406.03   \n",
              "5   ORD0006      Charlie        Books  1/6/2025         9  390.27   \n",
              "..      ...          ...          ...       ...       ...     ...   \n",
              "92  ORD0093      Charlie  Electronics  4/3/2025         5  118.72   \n",
              "94  ORD0095        Alice        Books  4/5/2025         4  143.94   \n",
              "95  ORD0096        Diana     Clothing  4/6/2025         5  368.23   \n",
              "96  ORD0097          Bob        Books  4/7/2025         8  360.17   \n",
              "98  ORD0099        Alice         Home  4/9/2025         5  465.20   \n",
              "\n",
              "    TotalAmount     Status  \n",
              "0       1990.38   Canceled  \n",
              "1        930.09  Completed  \n",
              "2       1585.53   Canceled  \n",
              "4       2842.21   Canceled  \n",
              "5       3512.43  Completed  \n",
              "..          ...        ...  \n",
              "92       593.60  Completed  \n",
              "94       575.76   Canceled  \n",
              "95      1841.15  Completed  \n",
              "96      2881.36  Completed  \n",
              "98      2326.00    Pending  \n",
              "\n",
              "[72 rows x 8 columns]"
            ],
            "text/html": [
              "\n",
              "  <div id=\"df-82fc5e51-e549-4c4d-a0ef-3249356cc6ef\" class=\"colab-df-container\">\n",
              "    <div>\n",
              "<style scoped>\n",
              "    .dataframe tbody tr th:only-of-type {\n",
              "        vertical-align: middle;\n",
              "    }\n",
              "\n",
              "    .dataframe tbody tr th {\n",
              "        vertical-align: top;\n",
              "    }\n",
              "\n",
              "    .dataframe thead th {\n",
              "        text-align: right;\n",
              "    }\n",
              "</style>\n",
              "<table border=\"1\" class=\"dataframe\">\n",
              "  <thead>\n",
              "    <tr style=\"text-align: right;\">\n",
              "      <th></th>\n",
              "      <th>OrderID</th>\n",
              "      <th>CustomerName</th>\n",
              "      <th>Category</th>\n",
              "      <th>OrderDate</th>\n",
              "      <th>Quantity</th>\n",
              "      <th>Price</th>\n",
              "      <th>TotalAmount</th>\n",
              "      <th>Status</th>\n",
              "    </tr>\n",
              "  </thead>\n",
              "  <tbody>\n",
              "    <tr>\n",
              "      <th>0</th>\n",
              "      <td>ORD0001</td>\n",
              "      <td>Hannah</td>\n",
              "      <td>Books</td>\n",
              "      <td>1/1/2025</td>\n",
              "      <td>6</td>\n",
              "      <td>331.73</td>\n",
              "      <td>1990.38</td>\n",
              "      <td>Canceled</td>\n",
              "    </tr>\n",
              "    <tr>\n",
              "      <th>1</th>\n",
              "      <td>ORD0002</td>\n",
              "      <td>Edward</td>\n",
              "      <td>Books</td>\n",
              "      <td>1/2/2025</td>\n",
              "      <td>3</td>\n",
              "      <td>310.03</td>\n",
              "      <td>930.09</td>\n",
              "      <td>Completed</td>\n",
              "    </tr>\n",
              "    <tr>\n",
              "      <th>2</th>\n",
              "      <td>ORD0003</td>\n",
              "      <td>Alice</td>\n",
              "      <td>Clothing</td>\n",
              "      <td>1/3/2025</td>\n",
              "      <td>9</td>\n",
              "      <td>176.17</td>\n",
              "      <td>1585.53</td>\n",
              "      <td>Canceled</td>\n",
              "    </tr>\n",
              "    <tr>\n",
              "      <th>4</th>\n",
              "      <td>ORD0005</td>\n",
              "      <td>George</td>\n",
              "      <td>Home</td>\n",
              "      <td>1/5/2025</td>\n",
              "      <td>7</td>\n",
              "      <td>406.03</td>\n",
              "      <td>2842.21</td>\n",
              "      <td>Canceled</td>\n",
              "    </tr>\n",
              "    <tr>\n",
              "      <th>5</th>\n",
              "      <td>ORD0006</td>\n",
              "      <td>Charlie</td>\n",
              "      <td>Books</td>\n",
              "      <td>1/6/2025</td>\n",
              "      <td>9</td>\n",
              "      <td>390.27</td>\n",
              "      <td>3512.43</td>\n",
              "      <td>Completed</td>\n",
              "    </tr>\n",
              "    <tr>\n",
              "      <th>...</th>\n",
              "      <td>...</td>\n",
              "      <td>...</td>\n",
              "      <td>...</td>\n",
              "      <td>...</td>\n",
              "      <td>...</td>\n",
              "      <td>...</td>\n",
              "      <td>...</td>\n",
              "      <td>...</td>\n",
              "    </tr>\n",
              "    <tr>\n",
              "      <th>92</th>\n",
              "      <td>ORD0093</td>\n",
              "      <td>Charlie</td>\n",
              "      <td>Electronics</td>\n",
              "      <td>4/3/2025</td>\n",
              "      <td>5</td>\n",
              "      <td>118.72</td>\n",
              "      <td>593.60</td>\n",
              "      <td>Completed</td>\n",
              "    </tr>\n",
              "    <tr>\n",
              "      <th>94</th>\n",
              "      <td>ORD0095</td>\n",
              "      <td>Alice</td>\n",
              "      <td>Books</td>\n",
              "      <td>4/5/2025</td>\n",
              "      <td>4</td>\n",
              "      <td>143.94</td>\n",
              "      <td>575.76</td>\n",
              "      <td>Canceled</td>\n",
              "    </tr>\n",
              "    <tr>\n",
              "      <th>95</th>\n",
              "      <td>ORD0096</td>\n",
              "      <td>Diana</td>\n",
              "      <td>Clothing</td>\n",
              "      <td>4/6/2025</td>\n",
              "      <td>5</td>\n",
              "      <td>368.23</td>\n",
              "      <td>1841.15</td>\n",
              "      <td>Completed</td>\n",
              "    </tr>\n",
              "    <tr>\n",
              "      <th>96</th>\n",
              "      <td>ORD0097</td>\n",
              "      <td>Bob</td>\n",
              "      <td>Books</td>\n",
              "      <td>4/7/2025</td>\n",
              "      <td>8</td>\n",
              "      <td>360.17</td>\n",
              "      <td>2881.36</td>\n",
              "      <td>Completed</td>\n",
              "    </tr>\n",
              "    <tr>\n",
              "      <th>98</th>\n",
              "      <td>ORD0099</td>\n",
              "      <td>Alice</td>\n",
              "      <td>Home</td>\n",
              "      <td>4/9/2025</td>\n",
              "      <td>5</td>\n",
              "      <td>465.20</td>\n",
              "      <td>2326.00</td>\n",
              "      <td>Pending</td>\n",
              "    </tr>\n",
              "  </tbody>\n",
              "</table>\n",
              "<p>72 rows × 8 columns</p>\n",
              "</div>\n",
              "    <div class=\"colab-df-buttons\">\n",
              "\n",
              "  <div class=\"colab-df-container\">\n",
              "    <button class=\"colab-df-convert\" onclick=\"convertToInteractive('df-82fc5e51-e549-4c4d-a0ef-3249356cc6ef')\"\n",
              "            title=\"Convert this dataframe to an interactive table.\"\n",
              "            style=\"display:none;\">\n",
              "\n",
              "  <svg xmlns=\"http://www.w3.org/2000/svg\" height=\"24px\" viewBox=\"0 -960 960 960\">\n",
              "    <path d=\"M120-120v-720h720v720H120Zm60-500h600v-160H180v160Zm220 220h160v-160H400v160Zm0 220h160v-160H400v160ZM180-400h160v-160H180v160Zm440 0h160v-160H620v160ZM180-180h160v-160H180v160Zm440 0h160v-160H620v160Z\"/>\n",
              "  </svg>\n",
              "    </button>\n",
              "\n",
              "  <style>\n",
              "    .colab-df-container {\n",
              "      display:flex;\n",
              "      gap: 12px;\n",
              "    }\n",
              "\n",
              "    .colab-df-convert {\n",
              "      background-color: #E8F0FE;\n",
              "      border: none;\n",
              "      border-radius: 50%;\n",
              "      cursor: pointer;\n",
              "      display: none;\n",
              "      fill: #1967D2;\n",
              "      height: 32px;\n",
              "      padding: 0 0 0 0;\n",
              "      width: 32px;\n",
              "    }\n",
              "\n",
              "    .colab-df-convert:hover {\n",
              "      background-color: #E2EBFA;\n",
              "      box-shadow: 0px 1px 2px rgba(60, 64, 67, 0.3), 0px 1px 3px 1px rgba(60, 64, 67, 0.15);\n",
              "      fill: #174EA6;\n",
              "    }\n",
              "\n",
              "    .colab-df-buttons div {\n",
              "      margin-bottom: 4px;\n",
              "    }\n",
              "\n",
              "    [theme=dark] .colab-df-convert {\n",
              "      background-color: #3B4455;\n",
              "      fill: #D2E3FC;\n",
              "    }\n",
              "\n",
              "    [theme=dark] .colab-df-convert:hover {\n",
              "      background-color: #434B5C;\n",
              "      box-shadow: 0px 1px 3px 1px rgba(0, 0, 0, 0.15);\n",
              "      filter: drop-shadow(0px 1px 2px rgba(0, 0, 0, 0.3));\n",
              "      fill: #FFFFFF;\n",
              "    }\n",
              "  </style>\n",
              "\n",
              "    <script>\n",
              "      const buttonEl =\n",
              "        document.querySelector('#df-82fc5e51-e549-4c4d-a0ef-3249356cc6ef button.colab-df-convert');\n",
              "      buttonEl.style.display =\n",
              "        google.colab.kernel.accessAllowed ? 'block' : 'none';\n",
              "\n",
              "      async function convertToInteractive(key) {\n",
              "        const element = document.querySelector('#df-82fc5e51-e549-4c4d-a0ef-3249356cc6ef');\n",
              "        const dataTable =\n",
              "          await google.colab.kernel.invokeFunction('convertToInteractive',\n",
              "                                                    [key], {});\n",
              "        if (!dataTable) return;\n",
              "\n",
              "        const docLinkHtml = 'Like what you see? Visit the ' +\n",
              "          '<a target=\"_blank\" href=https://colab.research.google.com/notebooks/data_table.ipynb>data table notebook</a>'\n",
              "          + ' to learn more about interactive tables.';\n",
              "        element.innerHTML = '';\n",
              "        dataTable['output_type'] = 'display_data';\n",
              "        await google.colab.output.renderOutput(dataTable, element);\n",
              "        const docLink = document.createElement('div');\n",
              "        docLink.innerHTML = docLinkHtml;\n",
              "        element.appendChild(docLink);\n",
              "      }\n",
              "    </script>\n",
              "  </div>\n",
              "\n",
              "\n",
              "    <div id=\"df-5733c342-c515-44dc-b947-bed0228f0399\">\n",
              "      <button class=\"colab-df-quickchart\" onclick=\"quickchart('df-5733c342-c515-44dc-b947-bed0228f0399')\"\n",
              "                title=\"Suggest charts\"\n",
              "                style=\"display:none;\">\n",
              "\n",
              "<svg xmlns=\"http://www.w3.org/2000/svg\" height=\"24px\"viewBox=\"0 0 24 24\"\n",
              "     width=\"24px\">\n",
              "    <g>\n",
              "        <path d=\"M19 3H5c-1.1 0-2 .9-2 2v14c0 1.1.9 2 2 2h14c1.1 0 2-.9 2-2V5c0-1.1-.9-2-2-2zM9 17H7v-7h2v7zm4 0h-2V7h2v10zm4 0h-2v-4h2v4z\"/>\n",
              "    </g>\n",
              "</svg>\n",
              "      </button>\n",
              "\n",
              "<style>\n",
              "  .colab-df-quickchart {\n",
              "      --bg-color: #E8F0FE;\n",
              "      --fill-color: #1967D2;\n",
              "      --hover-bg-color: #E2EBFA;\n",
              "      --hover-fill-color: #174EA6;\n",
              "      --disabled-fill-color: #AAA;\n",
              "      --disabled-bg-color: #DDD;\n",
              "  }\n",
              "\n",
              "  [theme=dark] .colab-df-quickchart {\n",
              "      --bg-color: #3B4455;\n",
              "      --fill-color: #D2E3FC;\n",
              "      --hover-bg-color: #434B5C;\n",
              "      --hover-fill-color: #FFFFFF;\n",
              "      --disabled-bg-color: #3B4455;\n",
              "      --disabled-fill-color: #666;\n",
              "  }\n",
              "\n",
              "  .colab-df-quickchart {\n",
              "    background-color: var(--bg-color);\n",
              "    border: none;\n",
              "    border-radius: 50%;\n",
              "    cursor: pointer;\n",
              "    display: none;\n",
              "    fill: var(--fill-color);\n",
              "    height: 32px;\n",
              "    padding: 0;\n",
              "    width: 32px;\n",
              "  }\n",
              "\n",
              "  .colab-df-quickchart:hover {\n",
              "    background-color: var(--hover-bg-color);\n",
              "    box-shadow: 0 1px 2px rgba(60, 64, 67, 0.3), 0 1px 3px 1px rgba(60, 64, 67, 0.15);\n",
              "    fill: var(--button-hover-fill-color);\n",
              "  }\n",
              "\n",
              "  .colab-df-quickchart-complete:disabled,\n",
              "  .colab-df-quickchart-complete:disabled:hover {\n",
              "    background-color: var(--disabled-bg-color);\n",
              "    fill: var(--disabled-fill-color);\n",
              "    box-shadow: none;\n",
              "  }\n",
              "\n",
              "  .colab-df-spinner {\n",
              "    border: 2px solid var(--fill-color);\n",
              "    border-color: transparent;\n",
              "    border-bottom-color: var(--fill-color);\n",
              "    animation:\n",
              "      spin 1s steps(1) infinite;\n",
              "  }\n",
              "\n",
              "  @keyframes spin {\n",
              "    0% {\n",
              "      border-color: transparent;\n",
              "      border-bottom-color: var(--fill-color);\n",
              "      border-left-color: var(--fill-color);\n",
              "    }\n",
              "    20% {\n",
              "      border-color: transparent;\n",
              "      border-left-color: var(--fill-color);\n",
              "      border-top-color: var(--fill-color);\n",
              "    }\n",
              "    30% {\n",
              "      border-color: transparent;\n",
              "      border-left-color: var(--fill-color);\n",
              "      border-top-color: var(--fill-color);\n",
              "      border-right-color: var(--fill-color);\n",
              "    }\n",
              "    40% {\n",
              "      border-color: transparent;\n",
              "      border-right-color: var(--fill-color);\n",
              "      border-top-color: var(--fill-color);\n",
              "    }\n",
              "    60% {\n",
              "      border-color: transparent;\n",
              "      border-right-color: var(--fill-color);\n",
              "    }\n",
              "    80% {\n",
              "      border-color: transparent;\n",
              "      border-right-color: var(--fill-color);\n",
              "      border-bottom-color: var(--fill-color);\n",
              "    }\n",
              "    90% {\n",
              "      border-color: transparent;\n",
              "      border-bottom-color: var(--fill-color);\n",
              "    }\n",
              "  }\n",
              "</style>\n",
              "\n",
              "      <script>\n",
              "        async function quickchart(key) {\n",
              "          const quickchartButtonEl =\n",
              "            document.querySelector('#' + key + ' button');\n",
              "          quickchartButtonEl.disabled = true;  // To prevent multiple clicks.\n",
              "          quickchartButtonEl.classList.add('colab-df-spinner');\n",
              "          try {\n",
              "            const charts = await google.colab.kernel.invokeFunction(\n",
              "                'suggestCharts', [key], {});\n",
              "          } catch (error) {\n",
              "            console.error('Error during call to suggestCharts:', error);\n",
              "          }\n",
              "          quickchartButtonEl.classList.remove('colab-df-spinner');\n",
              "          quickchartButtonEl.classList.add('colab-df-quickchart-complete');\n",
              "        }\n",
              "        (() => {\n",
              "          let quickchartButtonEl =\n",
              "            document.querySelector('#df-5733c342-c515-44dc-b947-bed0228f0399 button');\n",
              "          quickchartButtonEl.style.display =\n",
              "            google.colab.kernel.accessAllowed ? 'block' : 'none';\n",
              "        })();\n",
              "      </script>\n",
              "    </div>\n",
              "\n",
              "    </div>\n",
              "  </div>\n"
            ],
            "application/vnd.google.colaboratory.intrinsic+json": {
              "type": "dataframe",
              "summary": "{\n  \"name\": \"df2[df2['TotalAmount']>500]\",\n  \"rows\": 72,\n  \"fields\": [\n    {\n      \"column\": \"OrderID\",\n      \"properties\": {\n        \"dtype\": \"string\",\n        \"num_unique_values\": 72,\n        \"samples\": [\n          \"ORD0006\",\n          \"ORD0083\",\n          \"ORD0025\"\n        ],\n        \"semantic_type\": \"\",\n        \"description\": \"\"\n      }\n    },\n    {\n      \"column\": \"CustomerName\",\n      \"properties\": {\n        \"dtype\": \"category\",\n        \"num_unique_values\": 8,\n        \"samples\": [\n          \"Edward\",\n          \"Bob\",\n          \"Hannah\"\n        ],\n        \"semantic_type\": \"\",\n        \"description\": \"\"\n      }\n    },\n    {\n      \"column\": \"Category\",\n      \"properties\": {\n        \"dtype\": \"category\",\n        \"num_unique_values\": 4,\n        \"samples\": [\n          \"Clothing\",\n          \"Electronics\",\n          \"Books\"\n        ],\n        \"semantic_type\": \"\",\n        \"description\": \"\"\n      }\n    },\n    {\n      \"column\": \"OrderDate\",\n      \"properties\": {\n        \"dtype\": \"object\",\n        \"num_unique_values\": 70,\n        \"samples\": [\n          \"1/30/2025\",\n          \"1/1/2025\",\n          \"3/6/2025\"\n        ],\n        \"semantic_type\": \"\",\n        \"description\": \"\"\n      }\n    },\n    {\n      \"column\": \"Quantity\",\n      \"properties\": {\n        \"dtype\": \"number\",\n        \"std\": 2,\n        \"min\": 2,\n        \"max\": 10,\n        \"num_unique_values\": 9,\n        \"samples\": [\n          8,\n          3,\n          4\n        ],\n        \"semantic_type\": \"\",\n        \"description\": \"\"\n      }\n    },\n    {\n      \"column\": \"Price\",\n      \"properties\": {\n        \"dtype\": \"number\",\n        \"std\": 118.5186803362835,\n        \"min\": 62.7,\n        \"max\": 489.11,\n        \"num_unique_values\": 72,\n        \"samples\": [\n          390.27,\n          489.11,\n          262.13\n        ],\n        \"semantic_type\": \"\",\n        \"description\": \"\"\n      }\n    },\n    {\n      \"column\": \"TotalAmount\",\n      \"properties\": {\n        \"dtype\": \"number\",\n        \"std\": 893.9415758735871,\n        \"min\": 523.26,\n        \"max\": 4159.8,\n        \"num_unique_values\": 72,\n        \"samples\": [\n          3512.43,\n          3912.88,\n          2621.3\n        ],\n        \"semantic_type\": \"\",\n        \"description\": \"\"\n      }\n    },\n    {\n      \"column\": \"Status\",\n      \"properties\": {\n        \"dtype\": \"category\",\n        \"num_unique_values\": 3,\n        \"samples\": [\n          \"Canceled\",\n          \"Completed\",\n          \"Pending\"\n        ],\n        \"semantic_type\": \"\",\n        \"description\": \"\"\n      }\n    }\n  ]\n}"
            }
          },
          "metadata": {},
          "execution_count": 49
        }
      ]
    },
    {
      "cell_type": "code",
      "source": [
        "df2[df2['Category'] == 'Electronics']\n",
        "print(df2)"
      ],
      "metadata": {
        "colab": {
          "base_uri": "https://localhost:8080/"
        },
        "id": "E4WMV4eZaJXf",
        "outputId": "240110c8-a517-4efc-8486-4a4fcc3108a7"
      },
      "execution_count": null,
      "outputs": [
        {
          "output_type": "stream",
          "name": "stdout",
          "text": [
            "    OrderID CustomerName     Category  OrderDate  Quantity   Price  \\\n",
            "0   ORD0001       Hannah        Books   1/1/2025         6  331.73   \n",
            "1   ORD0002       Edward        Books   1/2/2025         3  310.03   \n",
            "2   ORD0003        Alice     Clothing   1/3/2025         9  176.17   \n",
            "3   ORD0004       Hannah  Electronics   1/4/2025         3   79.97   \n",
            "4   ORD0005       George         Home   1/5/2025         7  406.03   \n",
            "..      ...          ...          ...        ...       ...     ...   \n",
            "95  ORD0096        Diana     Clothing   4/6/2025         5  368.23   \n",
            "96  ORD0097          Bob        Books   4/7/2025         8  360.17   \n",
            "97  ORD0098        Diana     Clothing   4/8/2025         9   29.97   \n",
            "98  ORD0099        Alice         Home   4/9/2025         5  465.20   \n",
            "99  ORD0100      Charlie        Books  4/10/2025         9   41.55   \n",
            "\n",
            "    TotalAmount     Status  \n",
            "0       1990.38   Canceled  \n",
            "1        930.09  Completed  \n",
            "2       1585.53   Canceled  \n",
            "3        239.91    Pending  \n",
            "4       2842.21   Canceled  \n",
            "..          ...        ...  \n",
            "95      1841.15  Completed  \n",
            "96      2881.36  Completed  \n",
            "97       269.73   Canceled  \n",
            "98      2326.00    Pending  \n",
            "99       373.95    Pending  \n",
            "\n",
            "[100 rows x 8 columns]\n"
          ]
        }
      ]
    },
    {
      "cell_type": "code",
      "source": [
        "df2[(df2['Category'] == 'Clothing') & (df2['Status'] == 'Completed')]\n",
        "print(df2)"
      ],
      "metadata": {
        "colab": {
          "base_uri": "https://localhost:8080/"
        },
        "id": "k89L8EVbduLg",
        "outputId": "89af6f37-fc69-48a2-cc84-614be917cfc2"
      },
      "execution_count": null,
      "outputs": [
        {
          "output_type": "stream",
          "name": "stdout",
          "text": [
            "    OrderID CustomerName     Category  OrderDate  Quantity   Price  \\\n",
            "0   ORD0001       Hannah        Books   1/1/2025         6  331.73   \n",
            "1   ORD0002       Edward        Books   1/2/2025         3  310.03   \n",
            "2   ORD0003        Alice     Clothing   1/3/2025         9  176.17   \n",
            "3   ORD0004       Hannah  Electronics   1/4/2025         3   79.97   \n",
            "4   ORD0005       George         Home   1/5/2025         7  406.03   \n",
            "..      ...          ...          ...        ...       ...     ...   \n",
            "95  ORD0096        Diana     Clothing   4/6/2025         5  368.23   \n",
            "96  ORD0097          Bob        Books   4/7/2025         8  360.17   \n",
            "97  ORD0098        Diana     Clothing   4/8/2025         9   29.97   \n",
            "98  ORD0099        Alice         Home   4/9/2025         5  465.20   \n",
            "99  ORD0100      Charlie        Books  4/10/2025         9   41.55   \n",
            "\n",
            "    TotalAmount     Status  \n",
            "0       1990.38   Canceled  \n",
            "1        930.09  Completed  \n",
            "2       1585.53   Canceled  \n",
            "3        239.91    Pending  \n",
            "4       2842.21   Canceled  \n",
            "..          ...        ...  \n",
            "95      1841.15  Completed  \n",
            "96      2881.36  Completed  \n",
            "97       269.73   Canceled  \n",
            "98      2326.00    Pending  \n",
            "99       373.95    Pending  \n",
            "\n",
            "[100 rows x 8 columns]\n"
          ]
        }
      ]
    },
    {
      "cell_type": "code",
      "source": [
        "df2[(df2['Quantity'] > 5) | (df2['Status'] == 'Pending')]\n",
        "print(df2)"
      ],
      "metadata": {
        "colab": {
          "base_uri": "https://localhost:8080/"
        },
        "id": "k2Wr0Bz3ejTV",
        "outputId": "9ba74056-7bea-49f8-dda0-e825a5133122"
      },
      "execution_count": null,
      "outputs": [
        {
          "output_type": "stream",
          "name": "stdout",
          "text": [
            "    OrderID CustomerName     Category  OrderDate  Quantity   Price  \\\n",
            "0   ORD0001       Hannah        Books   1/1/2025         6  331.73   \n",
            "1   ORD0002       Edward        Books   1/2/2025         3  310.03   \n",
            "2   ORD0003        Alice     Clothing   1/3/2025         9  176.17   \n",
            "3   ORD0004       Hannah  Electronics   1/4/2025         3   79.97   \n",
            "4   ORD0005       George         Home   1/5/2025         7  406.03   \n",
            "..      ...          ...          ...        ...       ...     ...   \n",
            "95  ORD0096        Diana     Clothing   4/6/2025         5  368.23   \n",
            "96  ORD0097          Bob        Books   4/7/2025         8  360.17   \n",
            "97  ORD0098        Diana     Clothing   4/8/2025         9   29.97   \n",
            "98  ORD0099        Alice         Home   4/9/2025         5  465.20   \n",
            "99  ORD0100      Charlie        Books  4/10/2025         9   41.55   \n",
            "\n",
            "    TotalAmount     Status  \n",
            "0       1990.38   Canceled  \n",
            "1        930.09  Completed  \n",
            "2       1585.53   Canceled  \n",
            "3        239.91    Pending  \n",
            "4       2842.21   Canceled  \n",
            "..          ...        ...  \n",
            "95      1841.15  Completed  \n",
            "96      2881.36  Completed  \n",
            "97       269.73   Canceled  \n",
            "98      2326.00    Pending  \n",
            "99       373.95    Pending  \n",
            "\n",
            "[100 rows x 8 columns]\n"
          ]
        }
      ]
    },
    {
      "cell_type": "code",
      "source": [
        "df2[(df2['TotalAmount'] >= 200) & (df2['TotalAmount'] <= 1000)]\n",
        "print(df2)"
      ],
      "metadata": {
        "colab": {
          "base_uri": "https://localhost:8080/"
        },
        "id": "PL8Ee_u5evNK",
        "outputId": "521d118e-5ce7-4760-8739-dd7fafbf72e9"
      },
      "execution_count": null,
      "outputs": [
        {
          "output_type": "stream",
          "name": "stdout",
          "text": [
            "    OrderID CustomerName     Category  OrderDate  Quantity   Price  \\\n",
            "0   ORD0001       Hannah        Books   1/1/2025         6  331.73   \n",
            "1   ORD0002       Edward        Books   1/2/2025         3  310.03   \n",
            "2   ORD0003        Alice     Clothing   1/3/2025         9  176.17   \n",
            "3   ORD0004       Hannah  Electronics   1/4/2025         3   79.97   \n",
            "4   ORD0005       George         Home   1/5/2025         7  406.03   \n",
            "..      ...          ...          ...        ...       ...     ...   \n",
            "95  ORD0096        Diana     Clothing   4/6/2025         5  368.23   \n",
            "96  ORD0097          Bob        Books   4/7/2025         8  360.17   \n",
            "97  ORD0098        Diana     Clothing   4/8/2025         9   29.97   \n",
            "98  ORD0099        Alice         Home   4/9/2025         5  465.20   \n",
            "99  ORD0100      Charlie        Books  4/10/2025         9   41.55   \n",
            "\n",
            "    TotalAmount     Status  \n",
            "0       1990.38   Canceled  \n",
            "1        930.09  Completed  \n",
            "2       1585.53   Canceled  \n",
            "3        239.91    Pending  \n",
            "4       2842.21   Canceled  \n",
            "..          ...        ...  \n",
            "95      1841.15  Completed  \n",
            "96      2881.36  Completed  \n",
            "97       269.73   Canceled  \n",
            "98      2326.00    Pending  \n",
            "99       373.95    Pending  \n",
            "\n",
            "[100 rows x 8 columns]\n"
          ]
        }
      ]
    },
    {
      "cell_type": "code",
      "source": [
        "df2[df2['CustomerName'].str.startswith('A', na=False)]\n",
        "print(df2)"
      ],
      "metadata": {
        "colab": {
          "base_uri": "https://localhost:8080/"
        },
        "id": "K9DIHy_Ze5Zu",
        "outputId": "a052c8a7-ddb4-4926-cf74-59734087e0c7"
      },
      "execution_count": null,
      "outputs": [
        {
          "output_type": "stream",
          "name": "stdout",
          "text": [
            "    OrderID CustomerName     Category  OrderDate  Quantity   Price  \\\n",
            "0   ORD0001       Hannah        Books   1/1/2025         6  331.73   \n",
            "1   ORD0002       Edward        Books   1/2/2025         3  310.03   \n",
            "2   ORD0003        Alice     Clothing   1/3/2025         9  176.17   \n",
            "3   ORD0004       Hannah  Electronics   1/4/2025         3   79.97   \n",
            "4   ORD0005       George         Home   1/5/2025         7  406.03   \n",
            "..      ...          ...          ...        ...       ...     ...   \n",
            "95  ORD0096        Diana     Clothing   4/6/2025         5  368.23   \n",
            "96  ORD0097          Bob        Books   4/7/2025         8  360.17   \n",
            "97  ORD0098        Diana     Clothing   4/8/2025         9   29.97   \n",
            "98  ORD0099        Alice         Home   4/9/2025         5  465.20   \n",
            "99  ORD0100      Charlie        Books  4/10/2025         9   41.55   \n",
            "\n",
            "    TotalAmount     Status  \n",
            "0       1990.38   Canceled  \n",
            "1        930.09  Completed  \n",
            "2       1585.53   Canceled  \n",
            "3        239.91    Pending  \n",
            "4       2842.21   Canceled  \n",
            "..          ...        ...  \n",
            "95      1841.15  Completed  \n",
            "96      2881.36  Completed  \n",
            "97       269.73   Canceled  \n",
            "98      2326.00    Pending  \n",
            "99       373.95    Pending  \n",
            "\n",
            "[100 rows x 8 columns]\n"
          ]
        }
      ]
    },
    {
      "cell_type": "code",
      "source": [
        "df2.dropna(inplace=True)\n",
        "print(df2.head())"
      ],
      "metadata": {
        "colab": {
          "base_uri": "https://localhost:8080/"
        },
        "id": "1HzZ5d9ugS9U",
        "outputId": "562338ac-3883-43d2-ec3d-af60cf75b289"
      },
      "execution_count": null,
      "outputs": [
        {
          "output_type": "stream",
          "name": "stdout",
          "text": [
            "   OrderID CustomerName     Category OrderDate  Quantity   Price  TotalAmount  \\\n",
            "0  ORD0001       Hannah        Books  1/1/2025         6  331.73      1990.38   \n",
            "1  ORD0002       Edward        Books  1/2/2025         3  310.03       930.09   \n",
            "2  ORD0003        Alice     Clothing  1/3/2025         9  176.17      1585.53   \n",
            "3  ORD0004       Hannah  Electronics  1/4/2025         3   79.97       239.91   \n",
            "4  ORD0005       George         Home  1/5/2025         7  406.03      2842.21   \n",
            "\n",
            "      Status  \n",
            "0   Canceled  \n",
            "1  Completed  \n",
            "2   Canceled  \n",
            "3    Pending  \n",
            "4   Canceled  \n"
          ]
        }
      ]
    },
    {
      "cell_type": "code",
      "source": [
        "df2[df2['Category'].str.contains('Home')]\n",
        "print(df2)"
      ],
      "metadata": {
        "colab": {
          "base_uri": "https://localhost:8080/"
        },
        "id": "419IkFhEfX3u",
        "outputId": "48549108-b8f7-47cb-cad0-2fd657b6b5d3"
      },
      "execution_count": null,
      "outputs": [
        {
          "output_type": "stream",
          "name": "stdout",
          "text": [
            "    OrderID CustomerName     Category  OrderDate  Quantity   Price  \\\n",
            "0   ORD0001       Hannah        Books   1/1/2025         6  331.73   \n",
            "1   ORD0002       Edward        Books   1/2/2025         3  310.03   \n",
            "2   ORD0003        Alice     Clothing   1/3/2025         9  176.17   \n",
            "3   ORD0004       Hannah  Electronics   1/4/2025         3   79.97   \n",
            "4   ORD0005       George         Home   1/5/2025         7  406.03   \n",
            "..      ...          ...          ...        ...       ...     ...   \n",
            "95  ORD0096        Diana     Clothing   4/6/2025         5  368.23   \n",
            "96  ORD0097          Bob        Books   4/7/2025         8  360.17   \n",
            "97  ORD0098        Diana     Clothing   4/8/2025         9   29.97   \n",
            "98  ORD0099        Alice         Home   4/9/2025         5  465.20   \n",
            "99  ORD0100      Charlie        Books  4/10/2025         9   41.55   \n",
            "\n",
            "    TotalAmount     Status  \n",
            "0       1990.38   Canceled  \n",
            "1        930.09  Completed  \n",
            "2       1585.53   Canceled  \n",
            "3        239.91    Pending  \n",
            "4       2842.21   Canceled  \n",
            "..          ...        ...  \n",
            "95      1841.15  Completed  \n",
            "96      2881.36  Completed  \n",
            "97       269.73   Canceled  \n",
            "98      2326.00    Pending  \n",
            "99       373.95    Pending  \n",
            "\n",
            "[91 rows x 8 columns]\n"
          ]
        }
      ]
    },
    {
      "cell_type": "code",
      "source": [
        "df2[df2['CustomerName'].isnull()]\n",
        "print(df2)"
      ],
      "metadata": {
        "colab": {
          "base_uri": "https://localhost:8080/"
        },
        "id": "ZFBAN_aNhR1K",
        "outputId": "4e51a454-18d7-4183-8703-1213dd20fdf8"
      },
      "execution_count": null,
      "outputs": [
        {
          "output_type": "stream",
          "name": "stdout",
          "text": [
            "    OrderID CustomerName     Category  OrderDate  Quantity   Price  \\\n",
            "0   ORD0001       Hannah        Books   1/1/2025         6  331.73   \n",
            "1   ORD0002       Edward        Books   1/2/2025         3  310.03   \n",
            "2   ORD0003        Alice     Clothing   1/3/2025         9  176.17   \n",
            "3   ORD0004       Hannah  Electronics   1/4/2025         3   79.97   \n",
            "4   ORD0005       George         Home   1/5/2025         7  406.03   \n",
            "..      ...          ...          ...        ...       ...     ...   \n",
            "95  ORD0096        Diana     Clothing   4/6/2025         5  368.23   \n",
            "96  ORD0097          Bob        Books   4/7/2025         8  360.17   \n",
            "97  ORD0098        Diana     Clothing   4/8/2025         9   29.97   \n",
            "98  ORD0099        Alice         Home   4/9/2025         5  465.20   \n",
            "99  ORD0100      Charlie        Books  4/10/2025         9   41.55   \n",
            "\n",
            "    TotalAmount     Status  \n",
            "0       1990.38   Canceled  \n",
            "1        930.09  Completed  \n",
            "2       1585.53   Canceled  \n",
            "3        239.91    Pending  \n",
            "4       2842.21   Canceled  \n",
            "..          ...        ...  \n",
            "95      1841.15  Completed  \n",
            "96      2881.36  Completed  \n",
            "97       269.73   Canceled  \n",
            "98      2326.00    Pending  \n",
            "99       373.95    Pending  \n",
            "\n",
            "[91 rows x 8 columns]\n"
          ]
        }
      ]
    },
    {
      "cell_type": "code",
      "source": [
        "df2[df2['OrderDate'].notnull()]\n",
        "print(df2)"
      ],
      "metadata": {
        "colab": {
          "base_uri": "https://localhost:8080/"
        },
        "id": "jRQ8csOUhZDY",
        "outputId": "a48e49ae-5273-4824-b5f2-bbd78ffdfc96"
      },
      "execution_count": null,
      "outputs": [
        {
          "output_type": "stream",
          "name": "stdout",
          "text": [
            "    OrderID CustomerName     Category  OrderDate  Quantity   Price  \\\n",
            "0   ORD0001       Hannah        Books   1/1/2025         6  331.73   \n",
            "1   ORD0002       Edward        Books   1/2/2025         3  310.03   \n",
            "2   ORD0003        Alice     Clothing   1/3/2025         9  176.17   \n",
            "3   ORD0004       Hannah  Electronics   1/4/2025         3   79.97   \n",
            "4   ORD0005       George         Home   1/5/2025         7  406.03   \n",
            "..      ...          ...          ...        ...       ...     ...   \n",
            "95  ORD0096        Diana     Clothing   4/6/2025         5  368.23   \n",
            "96  ORD0097          Bob        Books   4/7/2025         8  360.17   \n",
            "97  ORD0098        Diana     Clothing   4/8/2025         9   29.97   \n",
            "98  ORD0099        Alice         Home   4/9/2025         5  465.20   \n",
            "99  ORD0100      Charlie        Books  4/10/2025         9   41.55   \n",
            "\n",
            "    TotalAmount     Status  \n",
            "0       1990.38   Canceled  \n",
            "1        930.09  Completed  \n",
            "2       1585.53   Canceled  \n",
            "3        239.91    Pending  \n",
            "4       2842.21   Canceled  \n",
            "..          ...        ...  \n",
            "95      1841.15  Completed  \n",
            "96      2881.36  Completed  \n",
            "97       269.73   Canceled  \n",
            "98      2326.00    Pending  \n",
            "99       373.95    Pending  \n",
            "\n",
            "[91 rows x 8 columns]\n"
          ]
        }
      ]
    },
    {
      "cell_type": "code",
      "source": [
        "df2['Status']== 'Completed'\n",
        "\n"
      ],
      "metadata": {
        "colab": {
          "base_uri": "https://localhost:8080/",
          "height": 458
        },
        "id": "jHPnSLMmjut0",
        "outputId": "b3be5eb3-2fc2-4401-deca-1da604ce0f9c"
      },
      "execution_count": null,
      "outputs": [
        {
          "output_type": "execute_result",
          "data": {
            "text/plain": [
              "0     False\n",
              "1      True\n",
              "2     False\n",
              "3     False\n",
              "4     False\n",
              "      ...  \n",
              "95     True\n",
              "96     True\n",
              "97    False\n",
              "98    False\n",
              "99    False\n",
              "Name: Status, Length: 91, dtype: bool"
            ],
            "text/html": [
              "<div>\n",
              "<style scoped>\n",
              "    .dataframe tbody tr th:only-of-type {\n",
              "        vertical-align: middle;\n",
              "    }\n",
              "\n",
              "    .dataframe tbody tr th {\n",
              "        vertical-align: top;\n",
              "    }\n",
              "\n",
              "    .dataframe thead th {\n",
              "        text-align: right;\n",
              "    }\n",
              "</style>\n",
              "<table border=\"1\" class=\"dataframe\">\n",
              "  <thead>\n",
              "    <tr style=\"text-align: right;\">\n",
              "      <th></th>\n",
              "      <th>Status</th>\n",
              "    </tr>\n",
              "  </thead>\n",
              "  <tbody>\n",
              "    <tr>\n",
              "      <th>0</th>\n",
              "      <td>False</td>\n",
              "    </tr>\n",
              "    <tr>\n",
              "      <th>1</th>\n",
              "      <td>True</td>\n",
              "    </tr>\n",
              "    <tr>\n",
              "      <th>2</th>\n",
              "      <td>False</td>\n",
              "    </tr>\n",
              "    <tr>\n",
              "      <th>3</th>\n",
              "      <td>False</td>\n",
              "    </tr>\n",
              "    <tr>\n",
              "      <th>4</th>\n",
              "      <td>False</td>\n",
              "    </tr>\n",
              "    <tr>\n",
              "      <th>...</th>\n",
              "      <td>...</td>\n",
              "    </tr>\n",
              "    <tr>\n",
              "      <th>95</th>\n",
              "      <td>True</td>\n",
              "    </tr>\n",
              "    <tr>\n",
              "      <th>96</th>\n",
              "      <td>True</td>\n",
              "    </tr>\n",
              "    <tr>\n",
              "      <th>97</th>\n",
              "      <td>False</td>\n",
              "    </tr>\n",
              "    <tr>\n",
              "      <th>98</th>\n",
              "      <td>False</td>\n",
              "    </tr>\n",
              "    <tr>\n",
              "      <th>99</th>\n",
              "      <td>False</td>\n",
              "    </tr>\n",
              "  </tbody>\n",
              "</table>\n",
              "<p>91 rows × 1 columns</p>\n",
              "</div><br><label><b>dtype:</b> bool</label>"
            ]
          },
          "metadata": {},
          "execution_count": 59
        }
      ]
    },
    {
      "cell_type": "code",
      "source": [
        "df2[['OrderID', 'CustomerName', 'TotalAmount']]\n",
        "print(df2)"
      ],
      "metadata": {
        "colab": {
          "base_uri": "https://localhost:8080/"
        },
        "id": "86-cI-a_1mF7",
        "outputId": "e3af7af0-e396-4810-a32a-c6c00a0306c2"
      },
      "execution_count": null,
      "outputs": [
        {
          "output_type": "stream",
          "name": "stdout",
          "text": [
            "    OrderID CustomerName     Category  OrderDate  Quantity   Price  \\\n",
            "0   ORD0001       Hannah        Books   1/1/2025         6  331.73   \n",
            "1   ORD0002       Edward        Books   1/2/2025         3  310.03   \n",
            "2   ORD0003        Alice     Clothing   1/3/2025         9  176.17   \n",
            "3   ORD0004       Hannah  Electronics   1/4/2025         3   79.97   \n",
            "4   ORD0005       George         Home   1/5/2025         7  406.03   \n",
            "..      ...          ...          ...        ...       ...     ...   \n",
            "95  ORD0096        Diana     Clothing   4/6/2025         5  368.23   \n",
            "96  ORD0097          Bob        Books   4/7/2025         8  360.17   \n",
            "97  ORD0098        Diana     Clothing   4/8/2025         9   29.97   \n",
            "98  ORD0099        Alice         Home   4/9/2025         5  465.20   \n",
            "99  ORD0100      Charlie        Books  4/10/2025         9   41.55   \n",
            "\n",
            "    TotalAmount     Status  \n",
            "0       1990.38   Canceled  \n",
            "1        930.09  Completed  \n",
            "2       1585.53   Canceled  \n",
            "3        239.91    Pending  \n",
            "4       2842.21   Canceled  \n",
            "..          ...        ...  \n",
            "95      1841.15  Completed  \n",
            "96      2881.36  Completed  \n",
            "97       269.73   Canceled  \n",
            "98      2326.00    Pending  \n",
            "99       373.95    Pending  \n",
            "\n",
            "[91 rows x 8 columns]\n"
          ]
        }
      ]
    },
    {
      "cell_type": "code",
      "source": [
        "mask = df2['Price'] > 100\n",
        "greater_100 = df2[mask]\n",
        "print(greater_100)"
      ],
      "metadata": {
        "colab": {
          "base_uri": "https://localhost:8080/"
        },
        "id": "uA5_6zHF15Ue",
        "outputId": "52a6027e-ea9b-4676-8cef-febb4ca001d5"
      },
      "execution_count": null,
      "outputs": [
        {
          "output_type": "stream",
          "name": "stdout",
          "text": [
            "    OrderID CustomerName     Category OrderDate  Quantity   Price  \\\n",
            "0   ORD0001       Hannah        Books  1/1/2025         6  331.73   \n",
            "1   ORD0002       Edward        Books  1/2/2025         3  310.03   \n",
            "2   ORD0003        Alice     Clothing  1/3/2025         9  176.17   \n",
            "4   ORD0005       George         Home  1/5/2025         7  406.03   \n",
            "5   ORD0006      Charlie        Books  1/6/2025         9  390.27   \n",
            "..      ...          ...          ...       ...       ...     ...   \n",
            "92  ORD0093      Charlie  Electronics  4/3/2025         5  118.72   \n",
            "94  ORD0095        Alice        Books  4/5/2025         4  143.94   \n",
            "95  ORD0096        Diana     Clothing  4/6/2025         5  368.23   \n",
            "96  ORD0097          Bob        Books  4/7/2025         8  360.17   \n",
            "98  ORD0099        Alice         Home  4/9/2025         5  465.20   \n",
            "\n",
            "    TotalAmount     Status  \n",
            "0       1990.38   Canceled  \n",
            "1        930.09  Completed  \n",
            "2       1585.53   Canceled  \n",
            "4       2842.21   Canceled  \n",
            "5       3512.43  Completed  \n",
            "..          ...        ...  \n",
            "92       593.60  Completed  \n",
            "94       575.76   Canceled  \n",
            "95      1841.15  Completed  \n",
            "96      2881.36  Completed  \n",
            "98      2326.00    Pending  \n",
            "\n",
            "[76 rows x 8 columns]\n"
          ]
        }
      ]
    },
    {
      "cell_type": "code",
      "source": [
        "newdf = df2.loc[df2['TotalAmount'] > 500, ['OrderID', 'Status']]\n",
        "print(newdf)\n",
        "newdf.to_csv('high_value_orders.csv', index=True)"
      ],
      "metadata": {
        "colab": {
          "base_uri": "https://localhost:8080/"
        },
        "id": "T295FnfR2TN_",
        "outputId": "c71ba72d-58ac-4b70-ad1b-cd5fbe229bfa"
      },
      "execution_count": null,
      "outputs": [
        {
          "output_type": "stream",
          "name": "stdout",
          "text": [
            "    OrderID     Status\n",
            "0   ORD0001   Canceled\n",
            "1   ORD0002  Completed\n",
            "2   ORD0003   Canceled\n",
            "4   ORD0005   Canceled\n",
            "5   ORD0006  Completed\n",
            "..      ...        ...\n",
            "92  ORD0093  Completed\n",
            "94  ORD0095   Canceled\n",
            "95  ORD0096  Completed\n",
            "96  ORD0097  Completed\n",
            "98  ORD0099    Pending\n",
            "\n",
            "[68 rows x 2 columns]\n"
          ]
        }
      ]
    },
    {
      "cell_type": "code",
      "source": [
        "df2.iloc[:10][['OrderID', 'TotalAmount']]"
      ],
      "metadata": {
        "colab": {
          "base_uri": "https://localhost:8080/",
          "height": 363
        },
        "id": "T2adRKUU3Uh8",
        "outputId": "4bead426-2df4-4f27-bf8d-8fb724c4fbfe"
      },
      "execution_count": null,
      "outputs": [
        {
          "output_type": "execute_result",
          "data": {
            "text/plain": [
              "   OrderID  TotalAmount\n",
              "0  ORD0001      1990.38\n",
              "1  ORD0002       930.09\n",
              "2  ORD0003      1585.53\n",
              "3  ORD0004       239.91\n",
              "4  ORD0005      2842.21\n",
              "5  ORD0006      3512.43\n",
              "6  ORD0007      1079.33\n",
              "7  ORD0008      2668.60\n",
              "8  ORD0009       444.60\n",
              "9  ORD0010      1428.42"
            ],
            "text/html": [
              "\n",
              "  <div id=\"df-e0af7c8e-7c13-4d77-a3d7-dc2c61a8b460\" class=\"colab-df-container\">\n",
              "    <div>\n",
              "<style scoped>\n",
              "    .dataframe tbody tr th:only-of-type {\n",
              "        vertical-align: middle;\n",
              "    }\n",
              "\n",
              "    .dataframe tbody tr th {\n",
              "        vertical-align: top;\n",
              "    }\n",
              "\n",
              "    .dataframe thead th {\n",
              "        text-align: right;\n",
              "    }\n",
              "</style>\n",
              "<table border=\"1\" class=\"dataframe\">\n",
              "  <thead>\n",
              "    <tr style=\"text-align: right;\">\n",
              "      <th></th>\n",
              "      <th>OrderID</th>\n",
              "      <th>TotalAmount</th>\n",
              "    </tr>\n",
              "  </thead>\n",
              "  <tbody>\n",
              "    <tr>\n",
              "      <th>0</th>\n",
              "      <td>ORD0001</td>\n",
              "      <td>1990.38</td>\n",
              "    </tr>\n",
              "    <tr>\n",
              "      <th>1</th>\n",
              "      <td>ORD0002</td>\n",
              "      <td>930.09</td>\n",
              "    </tr>\n",
              "    <tr>\n",
              "      <th>2</th>\n",
              "      <td>ORD0003</td>\n",
              "      <td>1585.53</td>\n",
              "    </tr>\n",
              "    <tr>\n",
              "      <th>3</th>\n",
              "      <td>ORD0004</td>\n",
              "      <td>239.91</td>\n",
              "    </tr>\n",
              "    <tr>\n",
              "      <th>4</th>\n",
              "      <td>ORD0005</td>\n",
              "      <td>2842.21</td>\n",
              "    </tr>\n",
              "    <tr>\n",
              "      <th>5</th>\n",
              "      <td>ORD0006</td>\n",
              "      <td>3512.43</td>\n",
              "    </tr>\n",
              "    <tr>\n",
              "      <th>6</th>\n",
              "      <td>ORD0007</td>\n",
              "      <td>1079.33</td>\n",
              "    </tr>\n",
              "    <tr>\n",
              "      <th>7</th>\n",
              "      <td>ORD0008</td>\n",
              "      <td>2668.60</td>\n",
              "    </tr>\n",
              "    <tr>\n",
              "      <th>8</th>\n",
              "      <td>ORD0009</td>\n",
              "      <td>444.60</td>\n",
              "    </tr>\n",
              "    <tr>\n",
              "      <th>9</th>\n",
              "      <td>ORD0010</td>\n",
              "      <td>1428.42</td>\n",
              "    </tr>\n",
              "  </tbody>\n",
              "</table>\n",
              "</div>\n",
              "    <div class=\"colab-df-buttons\">\n",
              "\n",
              "  <div class=\"colab-df-container\">\n",
              "    <button class=\"colab-df-convert\" onclick=\"convertToInteractive('df-e0af7c8e-7c13-4d77-a3d7-dc2c61a8b460')\"\n",
              "            title=\"Convert this dataframe to an interactive table.\"\n",
              "            style=\"display:none;\">\n",
              "\n",
              "  <svg xmlns=\"http://www.w3.org/2000/svg\" height=\"24px\" viewBox=\"0 -960 960 960\">\n",
              "    <path d=\"M120-120v-720h720v720H120Zm60-500h600v-160H180v160Zm220 220h160v-160H400v160Zm0 220h160v-160H400v160ZM180-400h160v-160H180v160Zm440 0h160v-160H620v160ZM180-180h160v-160H180v160Zm440 0h160v-160H620v160Z\"/>\n",
              "  </svg>\n",
              "    </button>\n",
              "\n",
              "  <style>\n",
              "    .colab-df-container {\n",
              "      display:flex;\n",
              "      gap: 12px;\n",
              "    }\n",
              "\n",
              "    .colab-df-convert {\n",
              "      background-color: #E8F0FE;\n",
              "      border: none;\n",
              "      border-radius: 50%;\n",
              "      cursor: pointer;\n",
              "      display: none;\n",
              "      fill: #1967D2;\n",
              "      height: 32px;\n",
              "      padding: 0 0 0 0;\n",
              "      width: 32px;\n",
              "    }\n",
              "\n",
              "    .colab-df-convert:hover {\n",
              "      background-color: #E2EBFA;\n",
              "      box-shadow: 0px 1px 2px rgba(60, 64, 67, 0.3), 0px 1px 3px 1px rgba(60, 64, 67, 0.15);\n",
              "      fill: #174EA6;\n",
              "    }\n",
              "\n",
              "    .colab-df-buttons div {\n",
              "      margin-bottom: 4px;\n",
              "    }\n",
              "\n",
              "    [theme=dark] .colab-df-convert {\n",
              "      background-color: #3B4455;\n",
              "      fill: #D2E3FC;\n",
              "    }\n",
              "\n",
              "    [theme=dark] .colab-df-convert:hover {\n",
              "      background-color: #434B5C;\n",
              "      box-shadow: 0px 1px 3px 1px rgba(0, 0, 0, 0.15);\n",
              "      filter: drop-shadow(0px 1px 2px rgba(0, 0, 0, 0.3));\n",
              "      fill: #FFFFFF;\n",
              "    }\n",
              "  </style>\n",
              "\n",
              "    <script>\n",
              "      const buttonEl =\n",
              "        document.querySelector('#df-e0af7c8e-7c13-4d77-a3d7-dc2c61a8b460 button.colab-df-convert');\n",
              "      buttonEl.style.display =\n",
              "        google.colab.kernel.accessAllowed ? 'block' : 'none';\n",
              "\n",
              "      async function convertToInteractive(key) {\n",
              "        const element = document.querySelector('#df-e0af7c8e-7c13-4d77-a3d7-dc2c61a8b460');\n",
              "        const dataTable =\n",
              "          await google.colab.kernel.invokeFunction('convertToInteractive',\n",
              "                                                    [key], {});\n",
              "        if (!dataTable) return;\n",
              "\n",
              "        const docLinkHtml = 'Like what you see? Visit the ' +\n",
              "          '<a target=\"_blank\" href=https://colab.research.google.com/notebooks/data_table.ipynb>data table notebook</a>'\n",
              "          + ' to learn more about interactive tables.';\n",
              "        element.innerHTML = '';\n",
              "        dataTable['output_type'] = 'display_data';\n",
              "        await google.colab.output.renderOutput(dataTable, element);\n",
              "        const docLink = document.createElement('div');\n",
              "        docLink.innerHTML = docLinkHtml;\n",
              "        element.appendChild(docLink);\n",
              "      }\n",
              "    </script>\n",
              "  </div>\n",
              "\n",
              "\n",
              "    <div id=\"df-3540d68f-c74d-4274-bd69-896f09f339fe\">\n",
              "      <button class=\"colab-df-quickchart\" onclick=\"quickchart('df-3540d68f-c74d-4274-bd69-896f09f339fe')\"\n",
              "                title=\"Suggest charts\"\n",
              "                style=\"display:none;\">\n",
              "\n",
              "<svg xmlns=\"http://www.w3.org/2000/svg\" height=\"24px\"viewBox=\"0 0 24 24\"\n",
              "     width=\"24px\">\n",
              "    <g>\n",
              "        <path d=\"M19 3H5c-1.1 0-2 .9-2 2v14c0 1.1.9 2 2 2h14c1.1 0 2-.9 2-2V5c0-1.1-.9-2-2-2zM9 17H7v-7h2v7zm4 0h-2V7h2v10zm4 0h-2v-4h2v4z\"/>\n",
              "    </g>\n",
              "</svg>\n",
              "      </button>\n",
              "\n",
              "<style>\n",
              "  .colab-df-quickchart {\n",
              "      --bg-color: #E8F0FE;\n",
              "      --fill-color: #1967D2;\n",
              "      --hover-bg-color: #E2EBFA;\n",
              "      --hover-fill-color: #174EA6;\n",
              "      --disabled-fill-color: #AAA;\n",
              "      --disabled-bg-color: #DDD;\n",
              "  }\n",
              "\n",
              "  [theme=dark] .colab-df-quickchart {\n",
              "      --bg-color: #3B4455;\n",
              "      --fill-color: #D2E3FC;\n",
              "      --hover-bg-color: #434B5C;\n",
              "      --hover-fill-color: #FFFFFF;\n",
              "      --disabled-bg-color: #3B4455;\n",
              "      --disabled-fill-color: #666;\n",
              "  }\n",
              "\n",
              "  .colab-df-quickchart {\n",
              "    background-color: var(--bg-color);\n",
              "    border: none;\n",
              "    border-radius: 50%;\n",
              "    cursor: pointer;\n",
              "    display: none;\n",
              "    fill: var(--fill-color);\n",
              "    height: 32px;\n",
              "    padding: 0;\n",
              "    width: 32px;\n",
              "  }\n",
              "\n",
              "  .colab-df-quickchart:hover {\n",
              "    background-color: var(--hover-bg-color);\n",
              "    box-shadow: 0 1px 2px rgba(60, 64, 67, 0.3), 0 1px 3px 1px rgba(60, 64, 67, 0.15);\n",
              "    fill: var(--button-hover-fill-color);\n",
              "  }\n",
              "\n",
              "  .colab-df-quickchart-complete:disabled,\n",
              "  .colab-df-quickchart-complete:disabled:hover {\n",
              "    background-color: var(--disabled-bg-color);\n",
              "    fill: var(--disabled-fill-color);\n",
              "    box-shadow: none;\n",
              "  }\n",
              "\n",
              "  .colab-df-spinner {\n",
              "    border: 2px solid var(--fill-color);\n",
              "    border-color: transparent;\n",
              "    border-bottom-color: var(--fill-color);\n",
              "    animation:\n",
              "      spin 1s steps(1) infinite;\n",
              "  }\n",
              "\n",
              "  @keyframes spin {\n",
              "    0% {\n",
              "      border-color: transparent;\n",
              "      border-bottom-color: var(--fill-color);\n",
              "      border-left-color: var(--fill-color);\n",
              "    }\n",
              "    20% {\n",
              "      border-color: transparent;\n",
              "      border-left-color: var(--fill-color);\n",
              "      border-top-color: var(--fill-color);\n",
              "    }\n",
              "    30% {\n",
              "      border-color: transparent;\n",
              "      border-left-color: var(--fill-color);\n",
              "      border-top-color: var(--fill-color);\n",
              "      border-right-color: var(--fill-color);\n",
              "    }\n",
              "    40% {\n",
              "      border-color: transparent;\n",
              "      border-right-color: var(--fill-color);\n",
              "      border-top-color: var(--fill-color);\n",
              "    }\n",
              "    60% {\n",
              "      border-color: transparent;\n",
              "      border-right-color: var(--fill-color);\n",
              "    }\n",
              "    80% {\n",
              "      border-color: transparent;\n",
              "      border-right-color: var(--fill-color);\n",
              "      border-bottom-color: var(--fill-color);\n",
              "    }\n",
              "    90% {\n",
              "      border-color: transparent;\n",
              "      border-bottom-color: var(--fill-color);\n",
              "    }\n",
              "  }\n",
              "</style>\n",
              "\n",
              "      <script>\n",
              "        async function quickchart(key) {\n",
              "          const quickchartButtonEl =\n",
              "            document.querySelector('#' + key + ' button');\n",
              "          quickchartButtonEl.disabled = true;  // To prevent multiple clicks.\n",
              "          quickchartButtonEl.classList.add('colab-df-spinner');\n",
              "          try {\n",
              "            const charts = await google.colab.kernel.invokeFunction(\n",
              "                'suggestCharts', [key], {});\n",
              "          } catch (error) {\n",
              "            console.error('Error during call to suggestCharts:', error);\n",
              "          }\n",
              "          quickchartButtonEl.classList.remove('colab-df-spinner');\n",
              "          quickchartButtonEl.classList.add('colab-df-quickchart-complete');\n",
              "        }\n",
              "        (() => {\n",
              "          let quickchartButtonEl =\n",
              "            document.querySelector('#df-3540d68f-c74d-4274-bd69-896f09f339fe button');\n",
              "          quickchartButtonEl.style.display =\n",
              "            google.colab.kernel.accessAllowed ? 'block' : 'none';\n",
              "        })();\n",
              "      </script>\n",
              "    </div>\n",
              "\n",
              "    </div>\n",
              "  </div>\n"
            ],
            "application/vnd.google.colaboratory.intrinsic+json": {
              "type": "dataframe",
              "summary": "{\n  \"name\": \"df2\",\n  \"rows\": 10,\n  \"fields\": [\n    {\n      \"column\": \"OrderID\",\n      \"properties\": {\n        \"dtype\": \"string\",\n        \"num_unique_values\": 10,\n        \"samples\": [\n          \"ORD0009\",\n          \"ORD0002\",\n          \"ORD0006\"\n        ],\n        \"semantic_type\": \"\",\n        \"description\": \"\"\n      }\n    },\n    {\n      \"column\": \"TotalAmount\",\n      \"properties\": {\n        \"dtype\": \"number\",\n        \"std\": 1073.780454013865,\n        \"min\": 239.91,\n        \"max\": 3512.43,\n        \"num_unique_values\": 10,\n        \"samples\": [\n          444.6,\n          930.09,\n          3512.43\n        ],\n        \"semantic_type\": \"\",\n        \"description\": \"\"\n      }\n    }\n  ]\n}"
            }
          },
          "metadata": {},
          "execution_count": 63
        }
      ]
    },
    {
      "cell_type": "code",
      "source": [
        "df2.drop(columns = ['Status'], axis=1, inplace=True)\n",
        "print(df2)"
      ],
      "metadata": {
        "colab": {
          "base_uri": "https://localhost:8080/"
        },
        "id": "PYIEEyrk3wNH",
        "outputId": "4d6d6587-beae-4af0-b087-cd551325fc67"
      },
      "execution_count": null,
      "outputs": [
        {
          "output_type": "stream",
          "name": "stdout",
          "text": [
            "    OrderID CustomerName     Category  OrderDate  Quantity   Price  \\\n",
            "0   ORD0001       Hannah        Books   1/1/2025         6  331.73   \n",
            "1   ORD0002       Edward        Books   1/2/2025         3  310.03   \n",
            "2   ORD0003        Alice     Clothing   1/3/2025         9  176.17   \n",
            "3   ORD0004       Hannah  Electronics   1/4/2025         3   79.97   \n",
            "4   ORD0005       George         Home   1/5/2025         7  406.03   \n",
            "..      ...          ...          ...        ...       ...     ...   \n",
            "95  ORD0096        Diana     Clothing   4/6/2025         5  368.23   \n",
            "96  ORD0097          Bob        Books   4/7/2025         8  360.17   \n",
            "97  ORD0098        Diana     Clothing   4/8/2025         9   29.97   \n",
            "98  ORD0099        Alice         Home   4/9/2025         5  465.20   \n",
            "99  ORD0100      Charlie        Books  4/10/2025         9   41.55   \n",
            "\n",
            "    TotalAmount  \n",
            "0       1990.38  \n",
            "1        930.09  \n",
            "2       1585.53  \n",
            "3        239.91  \n",
            "4       2842.21  \n",
            "..          ...  \n",
            "95      1841.15  \n",
            "96      2881.36  \n",
            "97       269.73  \n",
            "98      2326.00  \n",
            "99       373.95  \n",
            "\n",
            "[91 rows x 7 columns]\n"
          ]
        }
      ]
    },
    {
      "cell_type": "code",
      "source": [
        "from datetime import datetime\n",
        "dt = datetime(2025, 4, 29, 14, 30, 0)\n",
        "print(dt)"
      ],
      "metadata": {
        "id": "ZvQcLyrX4g2z",
        "colab": {
          "base_uri": "https://localhost:8080/"
        },
        "outputId": "c6c3faef-2cdb-4313-be4a-3df4b2b3916b"
      },
      "execution_count": null,
      "outputs": [
        {
          "output_type": "stream",
          "name": "stdout",
          "text": [
            "2025-04-29 14:30:00\n"
          ]
        }
      ]
    },
    {
      "cell_type": "code",
      "source": [
        "now = datetime.now()\n",
        "print(now)"
      ],
      "metadata": {
        "colab": {
          "base_uri": "https://localhost:8080/"
        },
        "id": "1APw9eTKdUjH",
        "outputId": "253e2e70-a7d2-4d88-e4ce-b0ef99253e18"
      },
      "execution_count": null,
      "outputs": [
        {
          "output_type": "stream",
          "name": "stdout",
          "text": [
            "2025-04-30 06:50:35.295609\n"
          ]
        }
      ]
    },
    {
      "cell_type": "code",
      "source": [
        "date_str = \"30/4/2025\"\n",
        "dt = datetime.strptime(date_str, \"%d/%m/%Y\")\n",
        "formatted_date = dt.strftime(\"%Y-%m-%d\")\n",
        "print(formatted_date)"
      ],
      "metadata": {
        "colab": {
          "base_uri": "https://localhost:8080/"
        },
        "id": "-HrGAn-sd8I8",
        "outputId": "927f4671-dbd8-40fd-efe3-6e9be50294a4"
      },
      "execution_count": null,
      "outputs": [
        {
          "output_type": "stream",
          "name": "stdout",
          "text": [
            "2025-04-30\n"
          ]
        }
      ]
    },
    {
      "cell_type": "code",
      "source": [
        "formatted_date = dt.strftime(\"%d- %b- %Y %H:%M:%S\")\n",
        "print(formatted_date)"
      ],
      "metadata": {
        "colab": {
          "base_uri": "https://localhost:8080/"
        },
        "id": "XYP2RChSex7d",
        "outputId": "6f287e7b-110e-4f53-d6fa-1c8c43d553b8"
      },
      "execution_count": null,
      "outputs": [
        {
          "output_type": "stream",
          "name": "stdout",
          "text": [
            "30- Apr- 2025 00:00:00\n"
          ]
        }
      ]
    },
    {
      "cell_type": "code",
      "source": [
        "date_str = \"29/04/2025\"\n",
        "dt = datetime.strptime(date_str, \"%d/%m/%Y\")\n",
        "print(dt)"
      ],
      "metadata": {
        "colab": {
          "base_uri": "https://localhost:8080/"
        },
        "id": "p4L4oQobgmM3",
        "outputId": "11bd7263-1e37-487b-8485-47bd16ea1898"
      },
      "execution_count": null,
      "outputs": [
        {
          "output_type": "stream",
          "name": "stdout",
          "text": [
            "2025-04-29 00:00:00\n"
          ]
        }
      ]
    },
    {
      "cell_type": "code",
      "source": [
        "from datetime import datetime\n",
        "\n",
        "date_str = \"29/04/2025\"\n",
        "dt = datetime.strptime(date_str, \"%d/%m/%Y\")\n",
        "print(dt)\n",
        "\n",
        "formatted_date = dt.strftime(\"%d- %b- %Y %H:%M:%S\")\n",
        "print(formatted_date)"
      ],
      "metadata": {
        "colab": {
          "base_uri": "https://localhost:8080/"
        },
        "id": "S1LqRFmKirW7",
        "outputId": "a9d78808-c291-45f3-9063-0474f458d2bb"
      },
      "execution_count": null,
      "outputs": [
        {
          "output_type": "stream",
          "name": "stdout",
          "text": [
            "2025-04-29 00:00:00\n",
            "29- Apr- 2025 00:00:00\n"
          ]
        }
      ]
    },
    {
      "cell_type": "code",
      "source": [
        "from datetime import datetime, timedelta\n",
        "\n",
        "date_str = \"29/04/2025\"\n",
        "dt = datetime.strptime(date_str, \"%d/%m/%Y\")\n",
        "future_date = dt + timedelta(days=7)\n",
        "print(future_date)"
      ],
      "metadata": {
        "colab": {
          "base_uri": "https://localhost:8080/"
        },
        "id": "AgcwmldvlKpJ",
        "outputId": "e7e0cd28-317b-40db-e322-26f85a3c6eae"
      },
      "execution_count": null,
      "outputs": [
        {
          "output_type": "stream",
          "name": "stdout",
          "text": [
            "2025-05-06 00:00:00\n"
          ]
        }
      ]
    },
    {
      "cell_type": "code",
      "source": [
        "print(dt.year)\n",
        "print(dt.month)\n",
        "print(dt.day)\n",
        "print(dt.hour)\n",
        "print(dt.minute)\n",
        "print(dt.second)"
      ],
      "metadata": {
        "colab": {
          "base_uri": "https://localhost:8080/"
        },
        "id": "apzjRn4klb4v",
        "outputId": "615a421b-de64-43d2-a450-36547de91099"
      },
      "execution_count": null,
      "outputs": [
        {
          "output_type": "stream",
          "name": "stdout",
          "text": [
            "2025\n",
            "4\n",
            "29\n",
            "0\n",
            "0\n",
            "0\n"
          ]
        }
      ]
    },
    {
      "cell_type": "code",
      "source": [
        "import pandas as pd\n",
        "\n",
        "df2 = pd.read_csv(\"/sample_sales_data.csv\")\n",
        "print(df2)"
      ],
      "metadata": {
        "colab": {
          "base_uri": "https://localhost:8080/",
          "height": 339
        },
        "id": "5hqOXds6m5BT",
        "outputId": "c85137e6-fb91-4990-d6d7-f3112b74ecdc"
      },
      "execution_count": null,
      "outputs": [
        {
          "output_type": "error",
          "ename": "FileNotFoundError",
          "evalue": "[Errno 2] No such file or directory: '/sample_sales_data.csv'",
          "traceback": [
            "\u001b[0;31m---------------------------------------------------------------------------\u001b[0m",
            "\u001b[0;31mFileNotFoundError\u001b[0m                         Traceback (most recent call last)",
            "\u001b[0;32m<ipython-input-16-93029ea4a2da>\u001b[0m in \u001b[0;36m<cell line: 0>\u001b[0;34m()\u001b[0m\n\u001b[1;32m      1\u001b[0m \u001b[0;32mimport\u001b[0m \u001b[0mpandas\u001b[0m \u001b[0;32mas\u001b[0m \u001b[0mpd\u001b[0m\u001b[0;34m\u001b[0m\u001b[0;34m\u001b[0m\u001b[0m\n\u001b[1;32m      2\u001b[0m \u001b[0;34m\u001b[0m\u001b[0m\n\u001b[0;32m----> 3\u001b[0;31m \u001b[0mdf2\u001b[0m \u001b[0;34m=\u001b[0m \u001b[0mpd\u001b[0m\u001b[0;34m.\u001b[0m\u001b[0mread_csv\u001b[0m\u001b[0;34m(\u001b[0m\u001b[0;34m\"/sample_sales_data.csv\"\u001b[0m\u001b[0;34m)\u001b[0m\u001b[0;34m\u001b[0m\u001b[0;34m\u001b[0m\u001b[0m\n\u001b[0m\u001b[1;32m      4\u001b[0m \u001b[0mprint\u001b[0m\u001b[0;34m(\u001b[0m\u001b[0mdf2\u001b[0m\u001b[0;34m)\u001b[0m\u001b[0;34m\u001b[0m\u001b[0;34m\u001b[0m\u001b[0m\n",
            "\u001b[0;32m/usr/local/lib/python3.11/dist-packages/pandas/io/parsers/readers.py\u001b[0m in \u001b[0;36mread_csv\u001b[0;34m(filepath_or_buffer, sep, delimiter, header, names, index_col, usecols, dtype, engine, converters, true_values, false_values, skipinitialspace, skiprows, skipfooter, nrows, na_values, keep_default_na, na_filter, verbose, skip_blank_lines, parse_dates, infer_datetime_format, keep_date_col, date_parser, date_format, dayfirst, cache_dates, iterator, chunksize, compression, thousands, decimal, lineterminator, quotechar, quoting, doublequote, escapechar, comment, encoding, encoding_errors, dialect, on_bad_lines, delim_whitespace, low_memory, memory_map, float_precision, storage_options, dtype_backend)\u001b[0m\n\u001b[1;32m   1024\u001b[0m     \u001b[0mkwds\u001b[0m\u001b[0;34m.\u001b[0m\u001b[0mupdate\u001b[0m\u001b[0;34m(\u001b[0m\u001b[0mkwds_defaults\u001b[0m\u001b[0;34m)\u001b[0m\u001b[0;34m\u001b[0m\u001b[0;34m\u001b[0m\u001b[0m\n\u001b[1;32m   1025\u001b[0m \u001b[0;34m\u001b[0m\u001b[0m\n\u001b[0;32m-> 1026\u001b[0;31m     \u001b[0;32mreturn\u001b[0m \u001b[0m_read\u001b[0m\u001b[0;34m(\u001b[0m\u001b[0mfilepath_or_buffer\u001b[0m\u001b[0;34m,\u001b[0m \u001b[0mkwds\u001b[0m\u001b[0;34m)\u001b[0m\u001b[0;34m\u001b[0m\u001b[0;34m\u001b[0m\u001b[0m\n\u001b[0m\u001b[1;32m   1027\u001b[0m \u001b[0;34m\u001b[0m\u001b[0m\n\u001b[1;32m   1028\u001b[0m \u001b[0;34m\u001b[0m\u001b[0m\n",
            "\u001b[0;32m/usr/local/lib/python3.11/dist-packages/pandas/io/parsers/readers.py\u001b[0m in \u001b[0;36m_read\u001b[0;34m(filepath_or_buffer, kwds)\u001b[0m\n\u001b[1;32m    618\u001b[0m \u001b[0;34m\u001b[0m\u001b[0m\n\u001b[1;32m    619\u001b[0m     \u001b[0;31m# Create the parser.\u001b[0m\u001b[0;34m\u001b[0m\u001b[0;34m\u001b[0m\u001b[0m\n\u001b[0;32m--> 620\u001b[0;31m     \u001b[0mparser\u001b[0m \u001b[0;34m=\u001b[0m \u001b[0mTextFileReader\u001b[0m\u001b[0;34m(\u001b[0m\u001b[0mfilepath_or_buffer\u001b[0m\u001b[0;34m,\u001b[0m \u001b[0;34m**\u001b[0m\u001b[0mkwds\u001b[0m\u001b[0;34m)\u001b[0m\u001b[0;34m\u001b[0m\u001b[0;34m\u001b[0m\u001b[0m\n\u001b[0m\u001b[1;32m    621\u001b[0m \u001b[0;34m\u001b[0m\u001b[0m\n\u001b[1;32m    622\u001b[0m     \u001b[0;32mif\u001b[0m \u001b[0mchunksize\u001b[0m \u001b[0;32mor\u001b[0m \u001b[0miterator\u001b[0m\u001b[0;34m:\u001b[0m\u001b[0;34m\u001b[0m\u001b[0;34m\u001b[0m\u001b[0m\n",
            "\u001b[0;32m/usr/local/lib/python3.11/dist-packages/pandas/io/parsers/readers.py\u001b[0m in \u001b[0;36m__init__\u001b[0;34m(self, f, engine, **kwds)\u001b[0m\n\u001b[1;32m   1618\u001b[0m \u001b[0;34m\u001b[0m\u001b[0m\n\u001b[1;32m   1619\u001b[0m         \u001b[0mself\u001b[0m\u001b[0;34m.\u001b[0m\u001b[0mhandles\u001b[0m\u001b[0;34m:\u001b[0m \u001b[0mIOHandles\u001b[0m \u001b[0;34m|\u001b[0m \u001b[0;32mNone\u001b[0m \u001b[0;34m=\u001b[0m \u001b[0;32mNone\u001b[0m\u001b[0;34m\u001b[0m\u001b[0;34m\u001b[0m\u001b[0m\n\u001b[0;32m-> 1620\u001b[0;31m         \u001b[0mself\u001b[0m\u001b[0;34m.\u001b[0m\u001b[0m_engine\u001b[0m \u001b[0;34m=\u001b[0m \u001b[0mself\u001b[0m\u001b[0;34m.\u001b[0m\u001b[0m_make_engine\u001b[0m\u001b[0;34m(\u001b[0m\u001b[0mf\u001b[0m\u001b[0;34m,\u001b[0m \u001b[0mself\u001b[0m\u001b[0;34m.\u001b[0m\u001b[0mengine\u001b[0m\u001b[0;34m)\u001b[0m\u001b[0;34m\u001b[0m\u001b[0;34m\u001b[0m\u001b[0m\n\u001b[0m\u001b[1;32m   1621\u001b[0m \u001b[0;34m\u001b[0m\u001b[0m\n\u001b[1;32m   1622\u001b[0m     \u001b[0;32mdef\u001b[0m \u001b[0mclose\u001b[0m\u001b[0;34m(\u001b[0m\u001b[0mself\u001b[0m\u001b[0;34m)\u001b[0m \u001b[0;34m->\u001b[0m \u001b[0;32mNone\u001b[0m\u001b[0;34m:\u001b[0m\u001b[0;34m\u001b[0m\u001b[0;34m\u001b[0m\u001b[0m\n",
            "\u001b[0;32m/usr/local/lib/python3.11/dist-packages/pandas/io/parsers/readers.py\u001b[0m in \u001b[0;36m_make_engine\u001b[0;34m(self, f, engine)\u001b[0m\n\u001b[1;32m   1878\u001b[0m                 \u001b[0;32mif\u001b[0m \u001b[0;34m\"b\"\u001b[0m \u001b[0;32mnot\u001b[0m \u001b[0;32min\u001b[0m \u001b[0mmode\u001b[0m\u001b[0;34m:\u001b[0m\u001b[0;34m\u001b[0m\u001b[0;34m\u001b[0m\u001b[0m\n\u001b[1;32m   1879\u001b[0m                     \u001b[0mmode\u001b[0m \u001b[0;34m+=\u001b[0m \u001b[0;34m\"b\"\u001b[0m\u001b[0;34m\u001b[0m\u001b[0;34m\u001b[0m\u001b[0m\n\u001b[0;32m-> 1880\u001b[0;31m             self.handles = get_handle(\n\u001b[0m\u001b[1;32m   1881\u001b[0m                 \u001b[0mf\u001b[0m\u001b[0;34m,\u001b[0m\u001b[0;34m\u001b[0m\u001b[0;34m\u001b[0m\u001b[0m\n\u001b[1;32m   1882\u001b[0m                 \u001b[0mmode\u001b[0m\u001b[0;34m,\u001b[0m\u001b[0;34m\u001b[0m\u001b[0;34m\u001b[0m\u001b[0m\n",
            "\u001b[0;32m/usr/local/lib/python3.11/dist-packages/pandas/io/common.py\u001b[0m in \u001b[0;36mget_handle\u001b[0;34m(path_or_buf, mode, encoding, compression, memory_map, is_text, errors, storage_options)\u001b[0m\n\u001b[1;32m    871\u001b[0m         \u001b[0;32mif\u001b[0m \u001b[0mioargs\u001b[0m\u001b[0;34m.\u001b[0m\u001b[0mencoding\u001b[0m \u001b[0;32mand\u001b[0m \u001b[0;34m\"b\"\u001b[0m \u001b[0;32mnot\u001b[0m \u001b[0;32min\u001b[0m \u001b[0mioargs\u001b[0m\u001b[0;34m.\u001b[0m\u001b[0mmode\u001b[0m\u001b[0;34m:\u001b[0m\u001b[0;34m\u001b[0m\u001b[0;34m\u001b[0m\u001b[0m\n\u001b[1;32m    872\u001b[0m             \u001b[0;31m# Encoding\u001b[0m\u001b[0;34m\u001b[0m\u001b[0;34m\u001b[0m\u001b[0m\n\u001b[0;32m--> 873\u001b[0;31m             handle = open(\n\u001b[0m\u001b[1;32m    874\u001b[0m                 \u001b[0mhandle\u001b[0m\u001b[0;34m,\u001b[0m\u001b[0;34m\u001b[0m\u001b[0;34m\u001b[0m\u001b[0m\n\u001b[1;32m    875\u001b[0m                 \u001b[0mioargs\u001b[0m\u001b[0;34m.\u001b[0m\u001b[0mmode\u001b[0m\u001b[0;34m,\u001b[0m\u001b[0;34m\u001b[0m\u001b[0;34m\u001b[0m\u001b[0m\n",
            "\u001b[0;31mFileNotFoundError\u001b[0m: [Errno 2] No such file or directory: '/sample_sales_data.csv'"
          ]
        }
      ]
    },
    {
      "cell_type": "code",
      "source": [
        "bills = [45, 50, 55, 47, 60, 70, 68, 48, 49, 55, 66, 75]\n",
        "\n",
        "plt.boxplot(bills)\n",
        "plt.title(\"Monthly Electicity Bill\")\n",
        "plt.ylabel(\"Bill ($)\")\n",
        "plt.show()"
      ],
      "metadata": {
        "colab": {
          "base_uri": "https://localhost:8080/",
          "height": 210
        },
        "id": "fldcc0CJlGV-",
        "outputId": "695611d6-7e42-4769-bce3-533884015a4f"
      },
      "execution_count": null,
      "outputs": [
        {
          "output_type": "error",
          "ename": "NameError",
          "evalue": "name 'plt' is not defined",
          "traceback": [
            "\u001b[0;31m---------------------------------------------------------------------------\u001b[0m",
            "\u001b[0;31mNameError\u001b[0m                                 Traceback (most recent call last)",
            "\u001b[0;32m<ipython-input-1-c572e8924725>\u001b[0m in \u001b[0;36m<cell line: 0>\u001b[0;34m()\u001b[0m\n\u001b[1;32m      1\u001b[0m \u001b[0mbills\u001b[0m \u001b[0;34m=\u001b[0m \u001b[0;34m[\u001b[0m\u001b[0;36m45\u001b[0m\u001b[0;34m,\u001b[0m \u001b[0;36m50\u001b[0m\u001b[0;34m,\u001b[0m \u001b[0;36m55\u001b[0m\u001b[0;34m,\u001b[0m \u001b[0;36m47\u001b[0m\u001b[0;34m,\u001b[0m \u001b[0;36m60\u001b[0m\u001b[0;34m,\u001b[0m \u001b[0;36m70\u001b[0m\u001b[0;34m,\u001b[0m \u001b[0;36m68\u001b[0m\u001b[0;34m,\u001b[0m \u001b[0;36m48\u001b[0m\u001b[0;34m,\u001b[0m \u001b[0;36m49\u001b[0m\u001b[0;34m,\u001b[0m \u001b[0;36m55\u001b[0m\u001b[0;34m,\u001b[0m \u001b[0;36m66\u001b[0m\u001b[0;34m,\u001b[0m \u001b[0;36m75\u001b[0m\u001b[0;34m]\u001b[0m\u001b[0;34m\u001b[0m\u001b[0;34m\u001b[0m\u001b[0m\n\u001b[1;32m      2\u001b[0m \u001b[0;34m\u001b[0m\u001b[0m\n\u001b[0;32m----> 3\u001b[0;31m \u001b[0mplt\u001b[0m\u001b[0;34m.\u001b[0m\u001b[0mboxplot\u001b[0m\u001b[0;34m(\u001b[0m\u001b[0mbills\u001b[0m\u001b[0;34m)\u001b[0m\u001b[0;34m\u001b[0m\u001b[0;34m\u001b[0m\u001b[0m\n\u001b[0m\u001b[1;32m      4\u001b[0m \u001b[0mplt\u001b[0m\u001b[0;34m.\u001b[0m\u001b[0mtitle\u001b[0m\u001b[0;34m(\u001b[0m\u001b[0;34m\"Monthly Electicity Bill\"\u001b[0m\u001b[0;34m)\u001b[0m\u001b[0;34m\u001b[0m\u001b[0;34m\u001b[0m\u001b[0m\n\u001b[1;32m      5\u001b[0m \u001b[0mplt\u001b[0m\u001b[0;34m.\u001b[0m\u001b[0mylabel\u001b[0m\u001b[0;34m(\u001b[0m\u001b[0;34m\"Bill ($)\"\u001b[0m\u001b[0;34m)\u001b[0m\u001b[0;34m\u001b[0m\u001b[0;34m\u001b[0m\u001b[0m\n",
            "\u001b[0;31mNameError\u001b[0m: name 'plt' is not defined"
          ]
        }
      ]
    },
    {
      "cell_type": "code",
      "source": [
        "import matplotlib.pyplot as plt\n",
        "import numpy as np\n",
        "digit = np.random.rand(8, 8)\n",
        "\n",
        "plt.imshow(digit, cmap='gray')\n",
        "plt.title(\"Handwritten digit\")\n",
        "plt.colorbar()\n",
        "plt.show()"
      ],
      "metadata": {
        "colab": {
          "base_uri": "https://localhost:8080/",
          "height": 452
        },
        "id": "KcF4fEI9oXkH",
        "outputId": "57f57157-6ee6-4221-8b93-f68597229294"
      },
      "execution_count": null,
      "outputs": [
        {
          "output_type": "display_data",
          "data": {
            "text/plain": [
              "<Figure size 640x480 with 2 Axes>"
            ],
            "image/png": "[encoded data removed]"
          },
          "metadata": {}
        }
      ]
    },
    {
      "cell_type": "code",
      "source": [
        "fig, axs = plt.subplots(2, 2)\n",
        "\n",
        "axs[0, 0].plot([1,2,3], [1,4,9])\n",
        "axs[o, 1].bar([1,2,3][10,20,30])\n",
        "axs[1,0]"
      ],
      "metadata": {
        "id": "tw4iMxVsrmUk"
      },
      "execution_count": null,
      "outputs": []
    },
    {
      "cell_type": "code",
      "source": [],
      "metadata": {
        "id": "abC-saqgGCZc"
      },
      "execution_count": null,
      "outputs": []
    }
  ]
}